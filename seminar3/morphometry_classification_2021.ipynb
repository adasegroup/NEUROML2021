{
  "nbformat": 4,
  "nbformat_minor": 0,
  "metadata": {
    "kernelspec": {
      "display_name": "Neurobot",
      "language": "python",
      "name": "neurobot"
    },
    "language_info": {
      "codemirror_mode": {
        "name": "ipython",
        "version": 3
      },
      "file_extension": ".py",
      "mimetype": "text/x-python",
      "name": "python",
      "nbconvert_exporter": "python",
      "pygments_lexer": "ipython3",
      "version": "3.8.5"
    },
    "colab": {
      "name": "morphometry_classification_2021.ipynb",
      "provenance": [],
      "collapsed_sections": [],
      "toc_visible": true
    }
  },
  "cells": [
    {
      "cell_type": "markdown",
      "metadata": {
        "id": "xLl2lqTfFZyB"
      },
      "source": [
        "<a href=\"https://colab.research.google.com/drive/1GWsEqIDuIt3HR6ljwyzuA82DpXWQ5e9o\" target=\"_parent\"><img src=\"https://colab.research.google.com/assets/colab-badge.svg\" alt=\"Open In Colab\"/></a>"
      ]
    },
    {
      "cell_type": "markdown",
      "metadata": {
        "id": "3PhsoEJHnCP9"
      },
      "source": [
        "## **MRI classification on morphometry data**"
      ]
    },
    {
      "cell_type": "markdown",
      "metadata": {
        "id": "g4sxyCfzrPLC"
      },
      "source": [
        "#### 1. Introduction\n",
        "\n",
        "In this notebook we will do conventional morphometry analysis for gender-related morphometric sighns search.\n",
        "\n",
        "\n",
        "**Our goal will be to build a network for MEN and WOMEN brain classification, to explore gender influence on brain structure and find gender-specific biomarkers.**\n",
        "\n",
        "We will use the data from https://db.humanconnectome.org/data/projects/HCP_1200.\n",
        "\n",
        "*Proceeding with this Notebook you confirm your personal acess [to the data](https://www.humanconnectome.org/study/hcp-young-adult/document/1200-subjects-data-release). \n",
        " And your agreement on data [terms and conditions](https://www.humanconnectome.org/study/hcp-young-adult/data-use-terms).*\n"
      ]
    },
    {
      "cell_type": "markdown",
      "metadata": {
        "id": "uQdXse7UGFrZ"
      },
      "source": [
        "You can use plug-and-play grid seach pipleine from https://github.com/kondratevakate/neurobot"
      ]
    },
    {
      "cell_type": "markdown",
      "metadata": {
        "id": "zdud8rHPHPsN"
      },
      "source": [
        "2. Mounting Google Drive to Collab Notebook. You should go with the link and enter your personal authorization code:"
      ]
    },
    {
      "cell_type": "code",
      "metadata": {
        "id": "Ol6ubhbcHReI",
        "colab": {
          "base_uri": "https://localhost:8080/"
        },
        "outputId": "a8aaab18-a712-4379-ee61-46aef90e705a"
      },
      "source": [
        "from google.colab import drive\n",
        "drive.mount('/content/drive')"
      ],
      "execution_count": null,
      "outputs": [
        {
          "output_type": "stream",
          "name": "stdout",
          "text": [
            "Mounted at /content/drive\n"
          ]
        }
      ]
    },
    {
      "cell_type": "markdown",
      "metadata": {
        "id": "8PUdtNipF6vD"
      },
      "source": [
        "**!!! Add a shortcut** with \"Add a shortcut\" with the `data` repository from here https://drive.google.com/drive/folders/1zajXzS7dMwaBrhauhvRph2La1uOgP6jN?usp=sharing"
      ]
    },
    {
      "cell_type": "markdown",
      "metadata": {
        "id": "s1vKmrLEGXZP"
      },
      "source": [
        "After adding a shotcut change this data dir to yours own files location in Google drive and give a path to `seminars/anat` folder:"
      ]
    },
    {
      "cell_type": "code",
      "metadata": {
        "id": "0mhz9ipCnCP-"
      },
      "source": [
        "data_dir = '/content/drive/My Drive/Skoltech Neuroimaging/NeuroML2020/data/seminars/anat/'"
      ],
      "execution_count": null,
      "outputs": []
    },
    {
      "cell_type": "markdown",
      "metadata": {
        "id": "njVakGSjnCQB"
      },
      "source": [
        "### Importing the data\n",
        "\n",
        "Importing `unrestricted_freesurfer.csv` dataset from https://db.humanconnectome.org/data/projects/HCP_1200."
      ]
    },
    {
      "cell_type": "code",
      "metadata": {
        "id": "c1VbQHFjnCQC"
      },
      "source": [
        "import pandas as pd\n",
        "data = pd.read_csv(data_dir + 'unrestricted_hcp_freesurfer.csv')"
      ],
      "execution_count": null,
      "outputs": []
    },
    {
      "cell_type": "code",
      "metadata": {
        "id": "uts5jMnLIKzu"
      },
      "source": [
        "data.head()"
      ],
      "execution_count": null,
      "outputs": []
    },
    {
      "cell_type": "markdown",
      "metadata": {
        "id": "BmkATkcs5v2f"
      },
      "source": [
        "**How to get this morpometry data inhouse?**\n",
        "\n",
        "1. You should have T1 weighted MRI, or T1 with T2.\n",
        "2. Should have patients data in `BIDS` or converted in `*.nii`.\n",
        "3. Run `fsdocker` or standalon installed `freesurfer 6.0`.\n",
        "4. Wait 5-11 hours on 1 CPU per patient.\n",
        "5. Get freesurfer stats as output and convert them in table format. \n",
        "\n",
        "\n",
        "The tutorial and data for table creation as well as data visualisation can be found here:\n",
        "https://github.com/kondratevakate/your-brain-mri-visualization"
      ]
    },
    {
      "cell_type": "markdown",
      "metadata": {
        "id": "Qi34ZClwnCQE"
      },
      "source": [
        "### Defining train and test data\n",
        "\n",
        "In is a set of brain morphometry measures of healthy young adults. On the data we have two classification plobles to solve:\n",
        "- men/women classification.\n",
        "- age above 30n classification.\n",
        "\n",
        "Choose your X (train_data) and y (train_targets) as `pandas.DataFrame()` or  `numpy.array()`:"
      ]
    },
    {
      "cell_type": "code",
      "metadata": {
        "id": "BExIpA9onCQF",
        "collapsed": true
      },
      "source": [
        "X = data[data.columns[3:]]\n",
        "y = data[data.columns[1]]\n",
        "X.shape, y.shape"
      ],
      "execution_count": null,
      "outputs": []
    },
    {
      "cell_type": "code",
      "metadata": {
        "id": "IzDnPjoaIji3"
      },
      "source": [
        "y.value_counts()"
      ],
      "execution_count": null,
      "outputs": []
    },
    {
      "cell_type": "markdown",
      "metadata": {
        "id": "Lghd2jU0JL2D"
      },
      "source": [
        "Let's change `str` values to binary classes. The easy but BAD way is:"
      ]
    },
    {
      "cell_type": "code",
      "metadata": {
        "id": "11AVw7QKJCVI"
      },
      "source": [
        "y[y == 'F'] = 1\n",
        "y[y == 'M'] = 0\n",
        "y = y.astype(int)\n",
        "y.value_counts()"
      ],
      "execution_count": null,
      "outputs": []
    },
    {
      "cell_type": "markdown",
      "metadata": {
        "id": "4K_tgOM_7SYM"
      },
      "source": [
        "### Let's do classical data analysis\n",
        "\n",
        "**Statistics**:\n",
        "1. Pick up a test for two grups comparison (gaussian/ parametric or not?)\n",
        "2. Is it paired test or not?\n",
        "3. Choose a p-value and address the multiple comparisons.\n"
      ]
    },
    {
      "cell_type": "markdown",
      "metadata": {
        "id": "A2x0qT2rDnCT"
      },
      "source": [
        "What about feature selection?\n",
        "\n",
        "https://scikit-learn.org/stable/modules/generated/sklearn.feature_selection.SelectKBest.html"
      ]
    },
    {
      "cell_type": "code",
      "metadata": {
        "id": "x2hMu_UBDqpd"
      },
      "source": [
        "from sklearn.feature_selection import SelectKBest\n",
        "X_new = SelectKBest(k=10).fit_transform(X, y)"
      ],
      "execution_count": null,
      "outputs": []
    },
    {
      "cell_type": "code",
      "metadata": {
        "id": "XQXY0ClIG2uB"
      },
      "source": [
        "X.columns[SelectKBest(k=10).fit(X, y).get_support()]"
      ],
      "execution_count": null,
      "outputs": []
    },
    {
      "cell_type": "code",
      "metadata": {
        "id": "B1DzRePg8cOw"
      },
      "source": [
        "SelectKBest(k=10).fit(X, y).pvalues_[SelectKBest(k=10).fit(X, y).get_support()]"
      ],
      "execution_count": null,
      "outputs": []
    },
    {
      "cell_type": "markdown",
      "metadata": {
        "id": "fYq5caxt-IhE"
      },
      "source": [
        "What do you know about multiple comparisons?\n",
        "\n",
        "\n",
        "![graph](https://janhove.github.io/figs/2016-04-01-multiple-comparisons-scenarios/unnamed-chunk-1-1.png)\n",
        "\n",
        "![bonf](data:image/png;base64,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)"
      ]
    },
    {
      "cell_type": "markdown",
      "metadata": {
        "id": "cqxetg_W_T9a"
      },
      "source": [
        "One bad paper to look at:\n",
        "https://arxiv.org/pdf/1604.05992.pdf\n",
        "\n",
        "And one good paper:\n",
        "https://www.ncbi.nlm.nih.gov/pmc/articles/PMC3056175/"
      ]
    },
    {
      "cell_type": "markdown",
      "metadata": {
        "id": "ChvHD-DYnCQI"
      },
      "source": [
        "## Now we are doing ML!\n",
        "#### Defining model grid search. Defining new object of Grid Cross Validation Linear class:"
      ]
    },
    {
      "cell_type": "code",
      "metadata": {
        "id": "gkemN_lFnCQI"
      },
      "source": [
        "from sklearn.linear_model import LogisticRegressionCV"
      ],
      "execution_count": null,
      "outputs": []
    },
    {
      "cell_type": "code",
      "metadata": {
        "id": "djWwplp8nCQK"
      },
      "source": [
        "# will run for 1-2 minutes\n",
        "lr_cv = LogisticRegressionCV(max_iter = 1000, random_state = 42, n_jobs = -1)\n",
        "lr_cv.fit(X,y)"
      ],
      "execution_count": null,
      "outputs": []
    },
    {
      "cell_type": "code",
      "metadata": {
        "id": "bFWvIVcYJrya"
      },
      "source": [
        "lr_cv.scores_"
      ],
      "execution_count": null,
      "outputs": []
    },
    {
      "cell_type": "markdown",
      "metadata": {
        "id": "rozToSPHC2Kh"
      },
      "source": [
        "## What else?\n",
        "\n",
        "0. Hyperparameter search and model optimisation. Comparison of model performance with statistical testing.\n",
        "1. Model interpretation\n",
        "2. Biomarkers stability\n",
        "3. Biomarkers statistical approval"
      ]
    },
    {
      "cell_type": "markdown",
      "metadata": {
        "id": "S7Eo1Z-MDSRD"
      },
      "source": [
        "How we can exploge gender morphometry biomarkers from here?"
      ]
    },
    {
      "cell_type": "code",
      "metadata": {
        "id": "9v5V8yCqSywb"
      },
      "source": [
        "lr_cv.coef_"
      ],
      "execution_count": null,
      "outputs": []
    },
    {
      "cell_type": "markdown",
      "metadata": {
        "id": "G7UmTL2J93KA"
      },
      "source": [
        "How do we compare the performance of **two classificational models**?\n",
        "\n",
        "https://www.jmlr.org/papers/volume7/demsar06a/demsar06a.pdf"
      ]
    }
  ]
}