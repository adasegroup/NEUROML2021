{
  "nbformat": 4,
  "nbformat_minor": 0,
  "metadata": {
    "kernelspec": {
      "display_name": "Python 3",
      "language": "python",
      "name": "python3"
    },
    "language_info": {
      "codemirror_mode": {
        "name": "ipython",
        "version": 3
      },
      "file_extension": ".py",
      "mimetype": "text/x-python",
      "name": "python",
      "nbconvert_exporter": "python",
      "pygments_lexer": "ipython3",
      "version": "3.6.8"
    },
    "colab": {
      "name": "mri_3DUnet_2021.ipynb",
      "provenance": [],
      "collapsed_sections": [],
      "toc_visible": true
    },
    "accelerator": "GPU"
  },
  "cells": [
    {
      "cell_type": "markdown",
      "metadata": {
        "id": "Lny-_CwLFxVM"
      },
      "source": [
        "<a href=\"https://colab.research.google.com/drive/1DedzlRT-yCVz4cyZmy05TblRspbiVIBU\" target=\"_parent\"><img src=\"https://colab.research.google.com/assets/colab-badge.svg\" alt=\"Open In Colab\"/></a>"
      ]
    },
    {
      "cell_type": "markdown",
      "metadata": {
        "id": "_6YeoOEpJpy4"
      },
      "source": [
        "# **MRI segmentation with 3D U-net**"
      ]
    },
    {
      "cell_type": "markdown",
      "metadata": {
        "id": "7LqQkmVuLi6o"
      },
      "source": [
        "#### 1. Introduction\n",
        "\n",
        "In this section we will segment gray matter and subcortical nuclei from preprocessed MRI image.\n",
        "\n",
        "*Proceeding with this Notebook you confirm your personal acess [to the data](https://www.humanconnectome.org/study/hcp-young-adult/document/1200-subjects-data-release). \n",
        " And your agreement on data [terms and conditions](https://www.humanconnectome.org/study/hcp-young-adult/data-use-terms).*\n"
      ]
    },
    {
      "cell_type": "code",
      "metadata": {
        "id": "MSzOne1OItfJ"
      },
      "source": [
        "import scipy as sp\n",
        "import scipy.misc\n",
        "import matplotlib.pyplot as plt\n",
        "import numpy as np\n",
        "import os\n",
        "%matplotlib inline"
      ],
      "execution_count": 3,
      "outputs": []
    },
    {
      "cell_type": "code",
      "metadata": {
        "id": "qZVui824s_Mr"
      },
      "source": [
        "!pip install --quiet --upgrade comet_ml\n",
        "from comet_ml import Experiment\n",
        "    \n",
        "# Create an experiment with your api key\n",
        "experiment = Experiment(\n",
        "    api_key=\"kYVqzmHEUN7WQLo86k2bZs1Z7\",\n",
        "    project_name=\"mri-segmentation-2021\",\n",
        "    workspace=\"kondratevakate\",\n",
        ")"
      ],
      "execution_count": null,
      "outputs": []
    },
    {
      "cell_type": "markdown",
      "metadata": {
        "id": "ii8ogiHEONTi"
      },
      "source": [
        "The code is adopted from `Torchio` library tutorials: \n",
        "\n",
        "https://colab.research.google.com/drive/112NTL8uJXzcMw4PQbUvMQN-WHlVwQS3i"
      ]
    },
    {
      "cell_type": "markdown",
      "metadata": {
        "id": "evtOoVX_PDvX"
      },
      "source": [
        "#### 2. Mounting Google drive\n",
        "\n",
        "Mounting Google Drive to Collab Notebook. You should go with the link and enter your personal authorization code:"
      ]
    },
    {
      "cell_type": "code",
      "metadata": {
        "id": "BT1UYpwaItfS",
        "colab": {
          "base_uri": "https://localhost:8080/"
        },
        "outputId": "dc9cca2c-2c76-4369-def6-f5b6b647c6c7"
      },
      "source": [
        "from google.colab import drive\n",
        "drive.mount('/content/drive')"
      ],
      "execution_count": 5,
      "outputs": [
        {
          "output_type": "stream",
          "name": "stdout",
          "text": [
            "Mounted at /content/drive\n"
          ]
        }
      ]
    },
    {
      "cell_type": "markdown",
      "metadata": {
        "id": "LqR_T4wPeoGl"
      },
      "source": [
        "Add a shortcut to your drive:\n",
        "\n",
        "https://drive.google.com/drive/folders/1JJujOCBp9o4IIYm8rvk6QWis9W6tBdal?usp=sharing"
      ]
    },
    {
      "cell_type": "code",
      "metadata": {
        "id": "2zLyMt9CPpOI"
      },
      "source": [
        "data_dir = '/content/drive/My Drive/Skoltech Neuroimaging/NeuroML2020/data/seminars/anat/fs_segmentation'"
      ],
      "execution_count": 6,
      "outputs": []
    },
    {
      "cell_type": "code",
      "metadata": {
        "id": "abYD1633PqJF"
      },
      "source": [
        "len(os.listdir(data_dir))"
      ],
      "execution_count": null,
      "outputs": []
    },
    {
      "cell_type": "code",
      "metadata": {
        "id": "qV_jmg7lQC0G"
      },
      "source": [
        "os.listdir(data_dir)[-30:-20]"
      ],
      "execution_count": null,
      "outputs": []
    },
    {
      "cell_type": "markdown",
      "metadata": {
        "id": "N6xjOyP3Qs8X"
      },
      "source": [
        "#### 3. Defining the dataset"
      ]
    },
    {
      "cell_type": "markdown",
      "metadata": {
        "id": "fUl_R5bgRyav"
      },
      "source": [
        "Defining the working dataset, there:\n",
        "\n",
        " 1. `norm` - normalised `T1` image processed with Freesurfer 6.0,\n",
        "\n",
        " 2. `aparc+aseg` segmentation mask for gray matter and subcortical nuclei from Freesufer 6.0 `recon all` pipeline.\n",
        "\n",
        " And U-net model will treat `norm` image as input and `aparc+aseg` as target model."
      ]
    },
    {
      "cell_type": "code",
      "metadata": {
        "id": "TU3ZwxcrRx6-"
      },
      "source": [
        "import pandas as pd\n",
        "labels_dir  = '/content/drive/My Drive/Skoltech Neuroimaging/NeuroML2020/data/seminars/anat/'\n",
        "labels = pd.read_csv(labels_dir + 'unrestricted_hcp_freesurfer.csv')"
      ],
      "execution_count": 9,
      "outputs": []
    },
    {
      "cell_type": "markdown",
      "metadata": {
        "id": "6eBoVB9ZMu4b"
      },
      "source": [
        "Defining new `pd.Dataframe()` with `Subject`, `norm` and `target` files:"
      ]
    },
    {
      "cell_type": "code",
      "metadata": {
        "id": "OfWcsdESMolg"
      },
      "source": [
        "data_list = pd.DataFrame(columns = ['Subject','norm','aseg'])"
      ],
      "execution_count": 10,
      "outputs": []
    },
    {
      "cell_type": "code",
      "metadata": {
        "id": "bMI78_wsL1Ff"
      },
      "source": [
        "data_list['Subject'] = labels['Subject']"
      ],
      "execution_count": 11,
      "outputs": []
    },
    {
      "cell_type": "markdown",
      "metadata": {
        "id": "y78CEixkXxf0"
      },
      "source": [
        "Iterating through files and `Subjects` in ID list:"
      ]
    },
    {
      "cell_type": "code",
      "metadata": {
        "id": "x06eCtN9Xcet"
      },
      "source": [
        "from tqdm import tqdm\n",
        "\n",
        "for i in tqdm(os.listdir(data_dir)):\n",
        "  for j in range(0, len(data_list['Subject'])):\n",
        "\n",
        "    if str(data_list['Subject'].iloc[j]) in i:\n",
        "      if 'norm' in i: # copying path to the column norm\n",
        "        data_list['norm'].iloc[j] = data_dir +'/'+ i\n",
        "      elif 'aseg' in i: # copying path to second column\n",
        "        data_list['aseg'].iloc[j] = data_dir +'/'+ i\n",
        "      \n",
        "data_list.dropna(inplace= True)"
      ],
      "execution_count": null,
      "outputs": []
    },
    {
      "cell_type": "code",
      "metadata": {
        "id": "eey6753TOthV"
      },
      "source": [
        "data_list.head()"
      ],
      "execution_count": null,
      "outputs": []
    },
    {
      "cell_type": "markdown",
      "metadata": {
        "id": "XKEpEH31Q9YD"
      },
      "source": [
        "Let's have a closer look on the data:"
      ]
    },
    {
      "cell_type": "code",
      "metadata": {
        "id": "yZKNvIUuRaxD"
      },
      "source": [
        "data_list['norm'].iloc[0]"
      ],
      "execution_count": null,
      "outputs": []
    },
    {
      "cell_type": "code",
      "metadata": {
        "id": "ORhOxckhQ8T4"
      },
      "source": [
        "!pip install --quiet --upgrade nilearn\n",
        "import nilearn\n",
        "from nilearn import plotting\n",
        "\n",
        "# visualising normalised image\n",
        "img = nilearn.image.load_img(data_list['norm'].iloc[0])\n",
        "plotting.plot_anat(img)"
      ],
      "execution_count": null,
      "outputs": []
    },
    {
      "cell_type": "code",
      "metadata": {
        "id": "Ja5weGNzRnkx"
      },
      "source": [
        "# visualising segmentation\n",
        "img = nilearn.image.load_img(data_list['aseg'].iloc[0])\n",
        "plotting.plot_anat(img)"
      ],
      "execution_count": null,
      "outputs": []
    },
    {
      "cell_type": "code",
      "metadata": {
        "id": "pU0kWyDMR6w4"
      },
      "source": [
        "np.unique(img.get_data())"
      ],
      "execution_count": null,
      "outputs": []
    },
    {
      "cell_type": "markdown",
      "metadata": {
        "id": "DApgjc8gSGD1"
      },
      "source": [
        "Any suggestions on these numbers?"
      ]
    },
    {
      "cell_type": "markdown",
      "metadata": {
        "id": "kia7WAEFHPRw"
      },
      "source": [
        "| Structure | Seg ID |\n",
        "| ----------------- | ----|\n",
        "| Left-Lateral-Ventricle | 4 |\n",
        "| Left-Inf-Lat-Vent | 5 | \n",
        "| 3rd-Ventricle | 14 |\n",
        "| 4th-Ventricle | 15 |\n",
        "| Brain Stem | 16 |\n",
        "| Left Hippocampus | 17 |\n",
        "| Left Amygdala | 18 |\n",
        "| Right-Lateral-Ventricle | 43 |\n",
        "| Right-Inf-Lat-Vent | 44| \n",
        "| Right Hippocampus | 53 |\n",
        "| Right Amygdala | 54 |\n",
        "| 5th-Ventricle | 72 |\n",
        "\n",
        "1. Ventrices - cognitive impairment, aging, Alzheimer's. [1](https://www.ncbi.nlm.nih.gov/pmc/articles/PMC6601311/)\n",
        "\n",
        "2. Brain Stem - cognitive impairment,  metabolic pathway disorders (Parkinson): [2](https://pubmed.ncbi.nlm.nih.gov/15240431/), [3](\n",
        "https://pubs.rsna.org/doi/full/10.1148/rg.2019180126)\n",
        "\n",
        "\n",
        "2. Hippocampus and Amygdala - autism spectrum disorders, epilepsy [4](https://d-nb.info/1137998318/34)\n",
        "\n",
        "\n",
        "\n"
      ]
    },
    {
      "cell_type": "markdown",
      "metadata": {
        "id": "gYxJo7mJKH2c"
      },
      "source": [
        "![Ventricels](https://www.thoughtco.com/thmb/jT1auUqpiaZNZjg-9AHX3eq9yrA=/768x0/filters:no_upscale():max_bytes(150000):strip_icc():format(webp)/brain_ventricles-56d0ccd03df78cfb37b876dc.jpg)"
      ]
    },
    {
      "cell_type": "markdown",
      "metadata": {
        "id": "OUZAi8kCQQA_"
      },
      "source": [
        "#### 4. Writing dataloader"
      ]
    },
    {
      "cell_type": "markdown",
      "metadata": {
        "id": "wrYEX6rRRosY"
      },
      "source": [
        "We will use `TorchIO` library: https://torchio.readthedocs.io/"
      ]
    },
    {
      "cell_type": "code",
      "metadata": {
        "id": "E1vauzBnRMhA"
      },
      "source": [
        "!pip install --quiet --upgrade torchio"
      ],
      "execution_count": null,
      "outputs": []
    },
    {
      "cell_type": "code",
      "metadata": {
        "id": "hY1xztsiQPPO"
      },
      "source": [
        "import torchio \n",
        "import enum\n",
        "\"\"\"\n",
        "    Code adapted from: https://github.com/fepegar/torchio#credits\n",
        "\n",
        "        Credit: Pérez-García et al., 2020, TorchIO: \n",
        "        a Python library for efficient loading, preprocessing, \n",
        "        augmentation and patch-based sampling of medical images in deep learning.\n",
        "\n",
        "\"\"\"\n",
        "\n",
        "CHANNELS_DIMENSION = 1\n",
        "SPATIAL_DIMENSIONS = 2, 3, 4\n",
        "\n",
        "MRI = 'MRI'\n",
        "LABEL = 'LABEL'\n",
        "\n",
        "LIST_ASEG =  [ 8,   10,   11,   12,   13,    16,   17,   18,  26,  47, 49,   50, \n",
        "  51,   52,   53,   54,   58,  85,  251,  252,  253,  254,  255] # gray matter segmentation labels\n",
        "\n",
        "class Action(enum.Enum):\n",
        "    TRAIN = 'Training'\n",
        "    VALIDATE = 'Validation'\n",
        "\n",
        "def get_torchio_dataset(inputs, targets, transform):\n",
        "    \"\"\"\n",
        "    The function creates dataset from the list of files from cunstumised dataloader.\n",
        "    \"\"\"\n",
        "    subjects = []\n",
        "    for (image_path, label_path) in zip(inputs, targets):\n",
        "        subject_dict = {\n",
        "            MRI : torchio.Image(image_path, torchio.INTENSITY),\n",
        "            LABEL: torchio.Image(label_path, torchio.LABEL),\n",
        "        }\n",
        "        subject = torchio.Subject(subject_dict)\n",
        "        subjects.append(subject)\n",
        "    \n",
        "    if transform:\n",
        "        dataset = torchio.SubjectsDataset(subjects, transform = transform)\n",
        "    elif not transform:\n",
        "        dataset = torchio.SubjectsDataset(subjects)\n",
        "    \n",
        "    return  dataset , subjects"
      ],
      "execution_count": 19,
      "outputs": []
    },
    {
      "cell_type": "code",
      "metadata": {
        "id": "yCUWSvOHkASt"
      },
      "source": [
        "data, subjects = get_torchio_dataset(data_list['norm'], data_list['aseg'], False)"
      ],
      "execution_count": 20,
      "outputs": []
    },
    {
      "cell_type": "code",
      "metadata": {
        "id": "N_soFhcYkijr"
      },
      "source": [
        "data[0]['MRI']"
      ],
      "execution_count": null,
      "outputs": []
    },
    {
      "cell_type": "markdown",
      "metadata": {
        "id": "i_JR8HbiPCGl"
      },
      "source": [
        "#### 3. Writing visualization tools for torch tensors\n"
      ]
    },
    {
      "cell_type": "code",
      "metadata": {
        "id": "f26Pc35TPAaO"
      },
      "source": [
        "import matplotlib.pyplot as plt\n",
        "import torch\n",
        "import numpy as np\n",
        "import nibabel\n",
        "\n",
        "def plot_central_cuts(img, title=\"\"):\n",
        "    \"\"\"\n",
        "    param image: tensor or np array of shape (CxDxHxW) if t is None\n",
        "    \"\"\"\n",
        "    if isinstance(img, torch.Tensor):\n",
        "        img = img.numpy()\n",
        "        if (len(img.shape) > 3):\n",
        "            img = img[0,:,:,:]\n",
        "                \n",
        "    elif isinstance(img, nibabel.nifti1.Nifti1Image):    \n",
        "        img = img.get_fdata()\n",
        "   \n",
        "    fig, axes = plt.subplots(nrows=1, ncols=3, figsize=(3 * 4, 4))\n",
        "    axes[0].imshow(img[ img.shape[0] // 2, :, :])\n",
        "    axes[1].imshow(img[ :, img.shape[1] // 2, :])\n",
        "    axes[2].imshow(img[ :, :, img.shape[2] // 2])\n",
        "    \n",
        "    plt.show()\n",
        "    \n",
        "def plot_predicted(img, seg, delta = 0, title=\"\"):\n",
        "    \"\"\"\n",
        "    param image: tensor or np array of shape (CxDxHxW) if t is None\n",
        "    \"\"\"\n",
        "    if isinstance(img, torch.Tensor):\n",
        "        img = img.cpu().numpy()\n",
        "        if (len(img.shape) == 5):\n",
        "            img = img[0,0,:,:,:]\n",
        "        elif (len(img.shape) == 4):\n",
        "            img = img[0,:,:,:]\n",
        "                \n",
        "    elif isinstance(img, nibabel.nifti1.Nifti1Image):    \n",
        "        img = img.get_fdata()\n",
        "        \n",
        "    if isinstance(seg, torch.Tensor):\n",
        "        seg= seg[0].cpu().numpy().astype(np.uint8)\n",
        "   \n",
        "    fig, axes = plt.subplots(nrows=1, ncols=3, figsize=(3 * 4, 4))\n",
        "    axes[0].imshow(img[ img.shape[0] // 2 + delta, :, :])\n",
        "    axes[1].imshow(seg[ seg.shape[0] // 2 + delta, :, :])\n",
        "    intersect = img[ img.shape[0] // 2 + delta, :, :] + seg[ seg.shape[0] // 2 + delta, :, :]*100\n",
        "    axes[2].imshow(intersect, cmap='gray')\n",
        "    \n",
        "    plt.show()"
      ],
      "execution_count": 22,
      "outputs": []
    },
    {
      "cell_type": "markdown",
      "metadata": {
        "id": "l9YsFfH8QNXm"
      },
      "source": [
        "The class `dataset` inherits from `torch.utils.data.Dataset.` It receives as input a list of torchio.Subject instances and an optional `torchio.transforms.Transform.`\n",
        "\n",
        "The inputs to the subject class are instances of torchio.Image, such as torchio.ScalarImage or torchio.LabelMap. The image class will be used by the transforms to decide whether or not to perform the operation. For example, spatial transforms must apply to both, but intensity transforms must apply to scalar images only.\n",
        "\n",
        "https://torchio.readthedocs.io/data/dataset.html"
      ]
    },
    {
      "cell_type": "code",
      "metadata": {
        "id": "LCQr-LiJrRML"
      },
      "source": [
        "from torch.utils.data import DataLoader, Subset\n",
        "from torchio import AFFINE, DATA, PATH, TYPE, STEM"
      ],
      "execution_count": 23,
      "outputs": []
    },
    {
      "cell_type": "code",
      "metadata": {
        "id": "b5Cr6UL5ItfU"
      },
      "source": [
        "print(\"Dataset size: {}\".format(len(data)))\n",
        "img = data[0][MRI]\n",
        "seg = data[0][LABEL]\n",
        "print(\"Image shape: {}\".format(img.shape))\n",
        "print(\"Segmentation shape: {}\".format(seg.shape))\n",
        "plot_central_cuts(img[DATA])\n",
        "plot_central_cuts(seg[DATA])"
      ],
      "execution_count": null,
      "outputs": []
    },
    {
      "cell_type": "markdown",
      "metadata": {
        "id": "kGRajfc3Itfc"
      },
      "source": [
        "## 2. Whole brain segmentation"
      ]
    },
    {
      "cell_type": "markdown",
      "metadata": {
        "id": "irNwaqb6_q-c"
      },
      "source": [
        "Let's define the experiment for whole brain segmentation:"
      ]
    },
    {
      "cell_type": "code",
      "metadata": {
        "id": "Um7RyaNq_rY2"
      },
      "source": [
        "experiment.set_name(\"Whole image based, 1 subject in batch\")"
      ],
      "execution_count": 26,
      "outputs": []
    },
    {
      "cell_type": "code",
      "metadata": {
        "id": "i-xODpTdPbvK"
      },
      "source": [
        "import torch\n",
        "import torch.nn as nn\n",
        "import torch.nn.functional as F\n",
        "from torch.autograd import Variable\n",
        "from torchvision.models.vgg import vgg11_bn\n",
        "from torch.autograd import Function, Variable\n",
        "import random\n",
        "import numpy as np\n",
        "\n",
        "import sys\n",
        "import os\n",
        "from optparse import OptionParser\n",
        "\n",
        "import torch.backends.cudnn as cudnn\n",
        "from torch import optim\n",
        "import time\n",
        "\n",
        "import pandas as pd"
      ],
      "execution_count": 27,
      "outputs": []
    },
    {
      "cell_type": "code",
      "metadata": {
        "id": "j4fivIfjItfe"
      },
      "source": [
        "!pip install --quiet --upgrade unet \n",
        "from IPython.display import clear_output\n",
        "import matplotlib.pyplot as plt\n",
        "from unet import UNet\n",
        "\n",
        "from sklearn.model_selection import StratifiedKFold, ShuffleSplit\n",
        "from torch.utils.data import DataLoader, Subset\n",
        "import warnings\n",
        "import multiprocessing"
      ],
      "execution_count": 28,
      "outputs": []
    },
    {
      "cell_type": "code",
      "metadata": {
        "id": "x524TiSBt7KK",
        "colab": {
          "base_uri": "https://localhost:8080/"
        },
        "outputId": "9ab0823d-b77e-4a0d-b2dc-91c22f963e18"
      },
      "source": [
        "num_subjects = len(data)\n",
        "training_split_ratio = 1/2\n",
        "num_training_subjects = int(training_split_ratio * num_subjects)\n",
        "\n",
        "# training_subjects = subjects[:num_training_subjects]\n",
        "# validation_subjects = subjects[num_training_subjects:]\n",
        "\n",
        "training_subjects = subjects[:20]\n",
        "validation_subjects = subjects[20:40] # experimenting just on 20 first subjects\n",
        "\n",
        "training_set = torchio.SubjectsDataset(\n",
        "    training_subjects, transform=None)\n",
        "\n",
        "validation_set = torchio.SubjectsDataset(\n",
        "    validation_subjects, transform=None)\n",
        "\n",
        "print('Training set:', len(training_set), 'subjects')\n",
        "print('Validation set:', len(validation_set), 'subjects')"
      ],
      "execution_count": 29,
      "outputs": [
        {
          "output_type": "stream",
          "name": "stdout",
          "text": [
            "Training set: 20 subjects\n",
            "Validation set: 20 subjects\n"
          ]
        }
      ]
    },
    {
      "cell_type": "markdown",
      "metadata": {
        "id": "mSJoCf0PzA4V"
      },
      "source": [
        "The data is really heavy, so lets try to start with 1 subject/ batch:"
      ]
    },
    {
      "cell_type": "code",
      "metadata": {
        "id": "v3iQ-5DxytM0"
      },
      "source": [
        "training_batch_size = 1\n",
        "validation_batch_size = 1\n",
        "\n",
        "training_loader = torch.utils.data.DataLoader(\n",
        "    training_set,\n",
        "    batch_size=training_batch_size,\n",
        "    shuffle=True,\n",
        "    num_workers=multiprocessing.cpu_count(),\n",
        ")\n",
        "\n",
        "validation_loader = torch.utils.data.DataLoader(\n",
        "    validation_set,\n",
        "    batch_size=validation_batch_size,\n",
        "    num_workers=multiprocessing.cpu_count(),\n",
        ")"
      ],
      "execution_count": 30,
      "outputs": []
    },
    {
      "cell_type": "markdown",
      "metadata": {
        "id": "olI1JmOGvotO"
      },
      "source": [
        "#### Defining the model and optimizer for training\n",
        "\n",
        "At first check if we have GPU onborad:"
      ]
    },
    {
      "cell_type": "code",
      "metadata": {
        "id": "-I-NoHhMwHMl",
        "colab": {
          "base_uri": "https://localhost:8080/"
        },
        "outputId": "8d69fbb2-a611-4c15-c5b2-47770c55cc18"
      },
      "source": [
        " torch.cuda.is_available()"
      ],
      "execution_count": 31,
      "outputs": [
        {
          "output_type": "execute_result",
          "data": {
            "text/plain": [
              "True"
            ]
          },
          "metadata": {},
          "execution_count": 31
        }
      ]
    },
    {
      "cell_type": "code",
      "metadata": {
        "id": "46QNsxiDxpcy"
      },
      "source": [
        "if torch.cuda.is_available():\n",
        "  device = torch.device(\"cuda\")\n",
        "else:\n",
        "  device = torch.device(\"cpu\")"
      ],
      "execution_count": 32,
      "outputs": []
    },
    {
      "cell_type": "code",
      "metadata": {
        "id": "OTvcHLCFyEEu"
      },
      "source": [
        "def get_iou_score(prediction, ground_truth):\n",
        "    intersection, union = 0, 0\n",
        "    intersection += np.logical_and(prediction > 0, ground_truth > 0).astype(np.float32).sum() \n",
        "    union += np.logical_or(prediction > 0, ground_truth > 0).astype(np.float32).sum()\n",
        "    iou_score = float(intersection) / union\n",
        "    return iou_score\n",
        "\n",
        "def calculate_metrics(surface, prediction):\n",
        "    dsc = compute_dice_coefficient(surface, prediction)\n",
        "    asd_mean, asd_std = compute_average_surface_distance(\n",
        "        compute_surface_distances(\n",
        "            surface, prediction, spacing_mm=(1,1,1))\n",
        "    )\n",
        "    \n",
        "    iou = get_iou_score(prediction, surface)\n",
        "    \n",
        "    return dsc, asd_mean, asd_std, iou        \n",
        "        \n",
        "## see more in https://github.com/deepmind/surface-distance\n",
        "def validate_dsc_asd(model, loader):\n",
        "    \n",
        "    dsc, asd_mean, asd_std, iou = [], [], [], []\n",
        "    model.eval()\n",
        "\n",
        "    for batch_idx, batch in enumerate(tqdm(loader)):\n",
        "            inputs, targets = prepare_batch(batch, device)\n",
        "            with torch.no_grad():\n",
        "                logits = forward(model, inputs)\n",
        "            labels = logits.argmax(dim=CHANNELS_DIMENSION)\n",
        "            prediction = labels[0].cpu().numpy().astype(np.uint8)\n",
        "            dsc_temp, asd_mean_temp, asd_std_temp, iou_temp = calculate_metrics(\n",
        "                targets.cpu().numpy().astype(np.uint8)[0][0], \n",
        "                prediction\n",
        "            )\n",
        "            dsc.append(dsc_temp)\n",
        "            asd_mean.append(asd_mean_temp)\n",
        "            asd_std.append(asd_std_temp)\n",
        "            iou.append(iou_temp)\n",
        "    \n",
        "    return dsc, asd_mean, asd_std, iou\n",
        "\n",
        "def prepare_batch(batch, device):\n",
        "    \"\"\"\n",
        "    The function loaging *nii.gz files, sending to the devise.\n",
        "    For the LABEL in binarises the data.\n",
        "    \"\"\"\n",
        "    inputs = batch[MRI][DATA].to(device)\n",
        "    targets = batch[LABEL][DATA]\n",
        "    targets[0][0][(np.isin(targets[0][0], LIST_ASEG))] = 1\n",
        "    targets[targets >= 1000] = 1\n",
        "    targets[targets != 1] = 0\n",
        "    targets = targets.to(device)    \n",
        "    return inputs, targets\n",
        "\n",
        "def get_dice_score(output, target, SPATIAL_DIMENSIONS = (2, 3, 4), epsilon=1e-9):\n",
        "    p0 = output\n",
        "    g0 = target\n",
        "    p1 = 1 - p0\n",
        "    g1 = 1 - g0\n",
        "    tp = (p0 * g0).sum(dim=SPATIAL_DIMENSIONS)\n",
        "    fp = (p0 * g1).sum(dim=SPATIAL_DIMENSIONS)\n",
        "    fn = (p1 * g0).sum(dim=SPATIAL_DIMENSIONS)\n",
        "    num = 2 * tp\n",
        "    denom = 2 * tp + fp + fn + epsilon\n",
        "    dice_score = num / denom\n",
        "    return dice_score\n",
        "\n",
        "def get_dice_loss(output, target):\n",
        "    return 1 - get_dice_score(output, target)\n",
        "\n",
        "def forward(model, inputs):\n",
        "    with warnings.catch_warnings():\n",
        "        warnings.filterwarnings(\"ignore\", category=UserWarning)\n",
        "        logits = model(inputs)\n",
        "    return logits\n",
        "\n",
        "def run_epoch(epoch_idx, action, loader, model, optimizer, scheduler=False, experiment= False):\n",
        "    is_training = action == Action.TRAIN\n",
        "    epoch_losses = []\n",
        "    model.train(is_training)\n",
        "    \n",
        "    for batch_idx, batch in enumerate(tqdm(loader)):\n",
        "        inputs, targets = prepare_batch(batch, device)\n",
        "        optimizer.zero_grad()\n",
        "        \n",
        "        with torch.set_grad_enabled(is_training):\n",
        "            logits = forward(model, inputs.float())\n",
        "            probabilities = F.softmax(logits, dim=CHANNELS_DIMENSION)\n",
        "            batch_losses = get_dice_loss(probabilities, targets)\n",
        "            batch_loss = batch_losses.mean()\n",
        "            \n",
        "            if is_training:\n",
        "                batch_loss.backward()\n",
        "                optimizer.step()\n",
        "                \n",
        "            # appending the loss\n",
        "            epoch_losses.append(batch_loss.item())\n",
        "           \n",
        "            if experiment:\n",
        "                if action == Action.TRAIN:\n",
        "                    experiment.log_metric(\"train_dice_loss\", batch_loss.item())\n",
        "                elif action == Action.VALIDATE:\n",
        "                    experiment.log_metric(\"validate_dice_loss\", batch_loss.item())\n",
        "                    \n",
        "            del inputs, targets, logits, probabilities, batch_losses\n",
        "    \n",
        "    epoch_losses = np.array(epoch_losses)\n",
        "#     print(f'{action.value} mean loss: {epoch_losses.mean():0.3f}')\n",
        "    \n",
        "    return epoch_losses \n",
        "\n",
        "def train(num_epochs, training_loader, validation_loader, model, optimizer, scheduler,\n",
        "          weights_stem, save_epoch= 1, experiment= False, verbose = True):\n",
        "    \n",
        "    start_time = time.time()\n",
        "    epoch_train_loss, epoch_val_loss = [], []\n",
        "    \n",
        "    run_epoch(0, Action.VALIDATE, validation_loader, model, optimizer, scheduler, experiment)\n",
        "    \n",
        "    for epoch_idx in range(1, num_epochs + 1):\n",
        "        \n",
        "        epoch_train_losses = run_epoch(epoch_idx, Action.TRAIN, training_loader, \n",
        "                                       model, optimizer, scheduler, experiment)\n",
        "        epoch_val_losses = run_epoch(epoch_idx, Action.VALIDATE, validation_loader, \n",
        "                                     model, optimizer, scheduler, experiment)\n",
        "        \n",
        "        # 4. Print metrics\n",
        "        if verbose:\n",
        "            clear_output(True)\n",
        "            print(\"Epoch {} of {} took {:.3f}s\".format(epoch_idx, num_epochs, time.time() - start_time))\n",
        "            print(\"  training loss (in-iteration): \\t{:.6f}\".format(epoch_train_losses[-1]))\n",
        "            print(\"  validation loss: \\t\\t\\t{:.6f}\".format(epoch_val_losses[-1]))    \n",
        "        \n",
        "        epoch_train_loss.append(np.mean(epoch_train_losses))\n",
        "        epoch_val_loss.append(np.mean(epoch_val_losses))\n",
        "        \n",
        "        # 5. Plot metrics\n",
        "        if verbose:\n",
        "            plt.figure(figsize=(10, 5))\n",
        "            plt.plot(epoch_train_loss, label='train')\n",
        "            plt.plot(epoch_val_loss, label='val')\n",
        "            plt.xlabel('epoch')\n",
        "            plt.ylabel('loss')\n",
        "            plt.legend()\n",
        "            plt.show()\n",
        "        \n",
        "        if scheduler:     \n",
        "            scheduler.step(np.mean(epoch_val_losses))\n",
        "        # comet ml\n",
        "        if experiment:\n",
        "            experiment.log_epoch_end(epoch_idx)\n",
        "        #saving the model\n",
        "        # if (epoch_idx% save_epoch == 0):\n",
        "        #     torch.save(model.state_dict(), f'weights/{weights_stem}_epoch_{epoch_idx}.pth')"
      ],
      "execution_count": 33,
      "outputs": []
    },
    {
      "cell_type": "code",
      "metadata": {
        "id": "_CTdHHAt0aYW"
      },
      "source": [
        "def get_model_and_optimizer(device, num_encoding_blocks=3, out_channels_first_layer=4, patience=3):\n",
        "  # Better to train with num_encoding_blocks=3, out_channels_first_layer = 16 '''\n",
        "  \n",
        "  # repoducibility\n",
        "  torch.manual_seed(0)\n",
        "  np.random.seed(0)\n",
        "  torch.backends.cudnn.deterministic = True\n",
        "  torch.backends.cudnn.benchmark = False\n",
        "    \n",
        "  model = UNet(\n",
        "        in_channels=1,\n",
        "        out_classes=2,\n",
        "        dimensions=3,\n",
        "        num_encoding_blocks=num_encoding_blocks,\n",
        "        out_channels_first_layer=out_channels_first_layer,\n",
        "        normalization='batch',\n",
        "        upsampling_type='linear',\n",
        "        padding=True,\n",
        "        activation='PReLU',\n",
        "    ).to(device)\n",
        "    \n",
        "  optimizer = torch.optim.AdamW(model.parameters())\n",
        "#     scheduler = torch.optim.lr_scheduler.StepLR(optimizer, step_size=3, gamma=0.7)\n",
        "  scheduler = torch.optim.lr_scheduler.ReduceLROnPlateau(optimizer, mode='min', factor=0.1, patience=patience, threshold=0.01)\n",
        "    \n",
        "  return model, optimizer, scheduler\n",
        "\n",
        "model, optimizer, scheduler = get_model_and_optimizer(device)"
      ],
      "execution_count": 34,
      "outputs": []
    },
    {
      "cell_type": "code",
      "metadata": {
        "id": "xFazOG6BItfj",
        "colab": {
          "base_uri": "https://localhost:8080/",
          "height": 386
        },
        "outputId": "7b8b245e-8e65-4c19-8198-552dd74709a5"
      },
      "source": [
        "# executes ~ 25 minutes\n",
        "torch.cuda.empty_cache()\n",
        "\n",
        "num_epochs = 5\n",
        "weights_stem = 'whole_images'\n",
        "train(num_epochs, training_loader, validation_loader, model, optimizer, scheduler = False,  weights_stem = weights_stem )"
      ],
      "execution_count": 35,
      "outputs": [
        {
          "output_type": "stream",
          "name": "stdout",
          "text": [
            "Epoch 5 of 5 took 1517.894s\n",
            "  training loss (in-iteration): \t0.829760\n",
            "  validation loss: \t\t\t0.831292\n"
          ]
        },
        {
          "output_type": "display_data",
          "data": {
            "image/png": "[encoded data removed]",
            "text/plain": [
              "<Figure size 720x360 with 1 Axes>"
            ]
          },
          "metadata": {
            "needs_background": "light"
          }
        }
      ]
    },
    {
      "cell_type": "markdown",
      "metadata": {
        "id": "5FXpfIrx5x85"
      },
      "source": [
        "We expect to get `DICE > 0.9` on validation after 40 epochs on the whole sample."
      ]
    },
    {
      "cell_type": "code",
      "metadata": {
        "id": "sSTAYei6Itfl",
        "colab": {
          "base_uri": "https://localhost:8080/",
          "height": 248
        },
        "outputId": "8d2da053-b9ec-4be1-c0a7-9da9d48b25e8"
      },
      "source": [
        "batch = next(iter(validation_loader))\n",
        "model.eval()\n",
        "inputs, targets = prepare_batch(batch, device)\n",
        "with torch.no_grad():\n",
        "    logits = forward(model, inputs.float())\n",
        "labels = logits.argmax(dim=CHANNELS_DIMENSION)\n",
        "foreground = labels[0].cpu().numpy().astype(np.uint8)\n",
        "plot_central_cuts(foreground)"
      ],
      "execution_count": 36,
      "outputs": [
        {
          "output_type": "display_data",
          "data": {
            "image/png": "[encoded data removed]",
            "text/plain": [
              "<Figure size 864x288 with 3 Axes>"
            ]
          },
          "metadata": {
            "needs_background": "light"
          }
        }
      ]
    },
    {
      "cell_type": "code",
      "metadata": {
        "id": "HxtPjdIDItfo",
        "colab": {
          "base_uri": "https://localhost:8080/",
          "height": 248
        },
        "outputId": "5a0f5ba0-2bb6-424b-e32c-bd75e0e6a343"
      },
      "source": [
        "plot_predicted(inputs, foreground, 30, title=\"\")"
      ],
      "execution_count": 38,
      "outputs": [
        {
          "output_type": "display_data",
          "data": {
            "image/png": "[encoded data removed]",
            "text/plain": [
              "<Figure size 864x288 with 3 Axes>"
            ]
          },
          "metadata": {
            "needs_background": "light"
          }
        }
      ]
    },
    {
      "cell_type": "code",
      "metadata": {
        "colab": {
          "base_uri": "https://localhost:8080/",
          "height": 248
        },
        "id": "GBH-rNWlOcr8",
        "outputId": "641fd6c9-9745-461c-a0cb-8166449fda51"
      },
      "source": [
        "plot_central_cuts(targets[0].cpu())"
      ],
      "execution_count": 49,
      "outputs": [
        {
          "output_type": "display_data",
          "data": {
            "image/png": "[encoded data removed]",
            "text/plain": [
              "<Figure size 864x288 with 3 Axes>"
            ]
          },
          "metadata": {
            "needs_background": "light"
          }
        }
      ]
    },
    {
      "cell_type": "code",
      "metadata": {
        "colab": {
          "base_uri": "https://localhost:8080/"
        },
        "id": "PuGGaz0UOtmQ",
        "outputId": "a1a450b2-27da-4b60-acb4-c34376dbe742"
      },
      "source": [
        "print(labels[0].size(), targets[0][0].size())\n",
        "get_dice_score(labels[0],targets)"
      ],
      "execution_count": 54,
      "outputs": [
        {
          "output_type": "stream",
          "name": "stdout",
          "text": [
            "torch.Size([256, 256, 256]) torch.Size([256, 256, 256])\n"
          ]
        },
        {
          "output_type": "execute_result",
          "data": {
            "text/plain": [
              "tensor([[1.6237e-06]], device='cuda:0')"
            ]
          },
          "metadata": {},
          "execution_count": 54
        }
      ]
    },
    {
      "cell_type": "markdown",
      "metadata": {
        "id": "EqlxW7dBItfq"
      },
      "source": [
        "## 3. Patch-based segmentation"
      ]
    },
    {
      "cell_type": "markdown",
      "metadata": {
        "id": "uQb_H1u4-Mzu"
      },
      "source": [
        "Let's fedine another experiment within the same workspace in `COMET ML`:"
      ]
    },
    {
      "cell_type": "code",
      "metadata": {
        "id": "V-x4kQJm-NRG"
      },
      "source": [
        "experiment.set_name(\"Patch based, 64 batch\")"
      ],
      "execution_count": null,
      "outputs": []
    },
    {
      "cell_type": "code",
      "metadata": {
        "id": "sOzdJAykItfw"
      },
      "source": [
        "patch_size = 64\n",
        "samples_per_volume = 8\n",
        "max_queue_length = 240\n",
        "training_batch_size = 16\n",
        "validation_batch_size = 16\n",
        "\n",
        "patches_training_set = torchio.Queue(\n",
        "    subjects_dataset=training_set,\n",
        "    max_length=max_queue_length,\n",
        "    samples_per_volume=samples_per_volume,\n",
        "    sampler=torchio.sampler.UniformSampler(patch_size),\n",
        "    num_workers=multiprocessing.cpu_count(),\n",
        "    shuffle_subjects=True,\n",
        "    shuffle_patches=True,\n",
        ")\n",
        "\n",
        "patches_validation_set = torchio.Queue(\n",
        "    subjects_dataset=validation_set,\n",
        "    max_length=max_queue_length,\n",
        "    samples_per_volume=samples_per_volume,\n",
        "    sampler=torchio.sampler.UniformSampler(patch_size),\n",
        "    num_workers=multiprocessing.cpu_count(),\n",
        "    shuffle_subjects=False,\n",
        "    shuffle_patches=False,\n",
        ")\n",
        "\n",
        "training_loader = torch.utils.data.DataLoader(\n",
        "    patches_training_set, batch_size=training_batch_size)\n",
        "\n",
        "validation_loader = torch.utils.data.DataLoader(\n",
        "    patches_validation_set, batch_size=validation_batch_size)"
      ],
      "execution_count": null,
      "outputs": []
    },
    {
      "cell_type": "code",
      "metadata": {
        "id": "UEOsawhiItf3"
      },
      "source": [
        "import SimpleITK as sitk\n",
        "\n",
        "def train(num_epochs, training_loader, validation_loader, model, optimizer, weights_stem):\n",
        "    run_epoch(0, Action.VALIDATE, validation_loader, model, optimizer)\n",
        "    for epoch_idx in range(1, num_epochs + 1):\n",
        "        print('Starting epoch', epoch_idx)\n",
        "        run_epoch(epoch_idx, Action.TRAIN, training_loader, model, optimizer)\n",
        "        run_epoch(epoch_idx, Action.VALIDATE, validation_loader, model, optimizer)\n",
        "        experiment.log_epoch_end(epoch_idx)\n",
        "        \n",
        "        \n",
        "def run_epoch(epoch_idx, action, loader, model, optimizer):\n",
        "    is_training = action == Action.TRAIN\n",
        "    epoch_losses = []\n",
        "    model.train(is_training)\n",
        "    for batch_idx, batch in enumerate(tqdm(loader)):\n",
        "        inputs, targets = prepare_batch(batch, device)\n",
        "        optimizer.zero_grad()\n",
        "        with torch.set_grad_enabled(is_training):\n",
        "            logits = forward(model, inputs.float())\n",
        "            probabilities = F.softmax(logits, dim=CHANNELS_DIMENSION)\n",
        "            batch_losses = get_dice_loss(probabilities, targets)\n",
        "            batch_loss = batch_losses.mean()\n",
        "            if is_training:\n",
        "                batch_loss.backward()\n",
        "                optimizer.step()\n",
        "            epoch_losses.append(batch_loss.item())\n",
        "            if action == Action.TRAIN:\n",
        "                experiment.log_metric(\"train_dice_loss\", batch_loss.item())\n",
        "            elif action == Action.VALIDATE:\n",
        "                experiment.log_metric(\"validate_dice_loss\", batch_loss.item())\n",
        "    epoch_losses = np.array(epoch_losses)\n",
        "    \n",
        "    print(f'{action.value} mean loss: {epoch_losses.mean():0.3f}')"
      ],
      "execution_count": null,
      "outputs": []
    },
    {
      "cell_type": "code",
      "metadata": {
        "id": "qHEFs-YKItf5",
        "colab": {
          "base_uri": "https://localhost:8080/"
        },
        "outputId": "6d776856-5f25-4cf1-86ea-08405ff05413"
      },
      "source": [
        "model, optimizer, scheduler = get_model_and_optimizer(device)\n",
        "\n",
        "num_epochs = 5\n",
        "\n",
        "weights_stem = 'patches'\n",
        "train(num_epochs, training_loader, validation_loader, model, optimizer, weights_stem)"
      ],
      "execution_count": null,
      "outputs": [
        {
          "output_type": "stream",
          "name": "stderr",
          "text": [
            "100%|██████████| 10/10 [00:24<00:00,  2.40s/it]\n"
          ]
        },
        {
          "output_type": "stream",
          "name": "stdout",
          "text": [
            "Validation mean loss: 0.895\n",
            "Starting epoch 1\n"
          ]
        },
        {
          "output_type": "stream",
          "name": "stderr",
          "text": [
            "100%|██████████| 10/10 [00:39<00:00,  3.96s/it]\n"
          ]
        },
        {
          "output_type": "stream",
          "name": "stdout",
          "text": [
            "Training mean loss: 0.867\n"
          ]
        },
        {
          "output_type": "stream",
          "name": "stderr",
          "text": [
            "100%|██████████| 10/10 [00:23<00:00,  2.37s/it]\n"
          ]
        },
        {
          "output_type": "stream",
          "name": "stdout",
          "text": [
            "Validation mean loss: 0.890\n",
            "Starting epoch 2\n"
          ]
        },
        {
          "output_type": "stream",
          "name": "stderr",
          "text": [
            "100%|██████████| 10/10 [00:43<00:00,  4.37s/it]\n"
          ]
        },
        {
          "output_type": "stream",
          "name": "stdout",
          "text": [
            "Training mean loss: 0.881\n"
          ]
        },
        {
          "output_type": "stream",
          "name": "stderr",
          "text": [
            "100%|██████████| 10/10 [00:24<00:00,  2.42s/it]\n"
          ]
        },
        {
          "output_type": "stream",
          "name": "stdout",
          "text": [
            "Validation mean loss: 0.886\n",
            "Starting epoch 3\n"
          ]
        },
        {
          "output_type": "stream",
          "name": "stderr",
          "text": [
            "100%|██████████| 10/10 [00:45<00:00,  4.58s/it]\n"
          ]
        },
        {
          "output_type": "stream",
          "name": "stdout",
          "text": [
            "Training mean loss: 0.886\n"
          ]
        },
        {
          "output_type": "stream",
          "name": "stderr",
          "text": [
            "100%|██████████| 10/10 [00:23<00:00,  2.36s/it]\n"
          ]
        },
        {
          "output_type": "stream",
          "name": "stdout",
          "text": [
            "Validation mean loss: 0.849\n",
            "Starting epoch 4\n"
          ]
        },
        {
          "output_type": "stream",
          "name": "stderr",
          "text": [
            "100%|██████████| 10/10 [00:43<00:00,  4.38s/it]\n"
          ]
        },
        {
          "output_type": "stream",
          "name": "stdout",
          "text": [
            "Training mean loss: 0.871\n"
          ]
        },
        {
          "output_type": "stream",
          "name": "stderr",
          "text": [
            "100%|██████████| 10/10 [00:23<00:00,  2.36s/it]\n"
          ]
        },
        {
          "output_type": "stream",
          "name": "stdout",
          "text": [
            "Validation mean loss: 0.890\n",
            "Starting epoch 5\n"
          ]
        },
        {
          "output_type": "stream",
          "name": "stderr",
          "text": [
            "100%|██████████| 10/10 [00:43<00:00,  4.37s/it]\n"
          ]
        },
        {
          "output_type": "stream",
          "name": "stdout",
          "text": [
            "Training mean loss: 0.882\n"
          ]
        },
        {
          "output_type": "stream",
          "name": "stderr",
          "text": [
            "100%|██████████| 10/10 [00:24<00:00,  2.49s/it]"
          ]
        },
        {
          "output_type": "stream",
          "name": "stdout",
          "text": [
            "Validation mean loss: 0.864\n"
          ]
        },
        {
          "output_type": "stream",
          "name": "stderr",
          "text": [
            "\n"
          ]
        }
      ]
    },
    {
      "cell_type": "code",
      "metadata": {
        "id": "gXH2vflNItf6",
        "colab": {
          "base_uri": "https://localhost:8080/",
          "height": 317
        },
        "outputId": "e990892f-7611-434a-e811-3f3c6459b808"
      },
      "source": [
        "import nibabel as nib\n",
        "sample = random.choice(validation_set)\n",
        "input_tensor = sample[MRI][DATA][0]\n",
        "patch_size = 64, 64, 64  # we can user larger or smaller patches for inference\n",
        "patch_overlap = 4, 4, 4\n",
        "grid_sampler = torchio.inference.GridSampler(\n",
        "    sample,\n",
        "    patch_size,\n",
        "    patch_overlap,\n",
        ")\n",
        "patch_loader = torch.utils.data.DataLoader(\n",
        "    grid_sampler, batch_size=validation_batch_size)\n",
        "aggregator = torchio.inference.GridAggregator(grid_sampler)\n",
        "\n",
        "model.eval()\n",
        "with torch.no_grad():\n",
        "    for patches_batch in patch_loader:\n",
        "        inputs = patches_batch[MRI][DATA].to(device).float()\n",
        "        locations = patches_batch['location']\n",
        "        logits = model(inputs)\n",
        "        labels = logits.argmax(dim=CHANNELS_DIMENSION, keepdim=True)\n",
        "        aggregator.add_batch(labels, locations)\n",
        "plot_central_cuts(aggregator.get_output_tensor())"
      ],
      "execution_count": null,
      "outputs": [
        {
          "output_type": "stream",
          "name": "stderr",
          "text": [
            "/usr/local/lib/python3.7/dist-packages/torchio/data/inference/aggregator.py:162: RuntimeWarning:\n",
            "\n",
            "Medical image frameworks such as ITK do not support int64. Casting to int32...\n",
            "\n"
          ]
        },
        {
          "output_type": "display_data",
          "data": {
            "image/png": "[encoded data removed]",
            "text/plain": [
              "<Figure size 864x288 with 3 Axes>"
            ]
          },
          "metadata": {
            "needs_background": "light"
          }
        }
      ]
    },
    {
      "cell_type": "code",
      "metadata": {
        "colab": {
          "base_uri": "https://localhost:8080/"
        },
        "id": "IoAiEqVXagv4",
        "outputId": "ea1f04ff-ee3d-47b9-f435-217a355d191e"
      },
      "source": [
        "model, optimizer, scheduler = get_model_and_optimizer(device)\n",
        "num_epochs = 40\n",
        "weights_stem = 'patches'\n",
        "train(num_epochs, training_loader, validation_loader, model, optimizer, weights_stem)"
      ],
      "execution_count": null,
      "outputs": [
        {
          "output_type": "stream",
          "name": "stderr",
          "text": [
            "100%|██████████| 10/10 [00:22<00:00,  2.29s/it]\n"
          ]
        },
        {
          "output_type": "stream",
          "name": "stdout",
          "text": [
            "Validation mean loss: 0.882\n",
            "Starting epoch 1\n"
          ]
        },
        {
          "output_type": "stream",
          "name": "stderr",
          "text": [
            "100%|██████████| 10/10 [00:45<00:00,  4.55s/it]\n"
          ]
        },
        {
          "output_type": "stream",
          "name": "stdout",
          "text": [
            "Training mean loss: 0.867\n"
          ]
        },
        {
          "output_type": "stream",
          "name": "stderr",
          "text": [
            "100%|██████████| 10/10 [00:24<00:00,  2.49s/it]\n"
          ]
        },
        {
          "output_type": "stream",
          "name": "stdout",
          "text": [
            "Validation mean loss: 0.889\n",
            "Starting epoch 2\n"
          ]
        },
        {
          "output_type": "stream",
          "name": "stderr",
          "text": [
            "100%|██████████| 10/10 [00:45<00:00,  4.58s/it]\n"
          ]
        },
        {
          "output_type": "stream",
          "name": "stdout",
          "text": [
            "Training mean loss: 0.879\n"
          ]
        },
        {
          "output_type": "stream",
          "name": "stderr",
          "text": [
            "100%|██████████| 10/10 [00:24<00:00,  2.47s/it]\n"
          ]
        },
        {
          "output_type": "stream",
          "name": "stdout",
          "text": [
            "Validation mean loss: 0.878\n",
            "Starting epoch 3\n"
          ]
        },
        {
          "output_type": "stream",
          "name": "stderr",
          "text": [
            "100%|██████████| 10/10 [00:44<00:00,  4.48s/it]\n"
          ]
        },
        {
          "output_type": "stream",
          "name": "stdout",
          "text": [
            "Training mean loss: 0.886\n"
          ]
        },
        {
          "output_type": "stream",
          "name": "stderr",
          "text": [
            "100%|██████████| 10/10 [00:24<00:00,  2.48s/it]\n"
          ]
        },
        {
          "output_type": "stream",
          "name": "stdout",
          "text": [
            "Validation mean loss: 0.846\n",
            "Starting epoch 4\n"
          ]
        },
        {
          "output_type": "stream",
          "name": "stderr",
          "text": [
            "100%|██████████| 10/10 [00:45<00:00,  4.56s/it]\n"
          ]
        },
        {
          "output_type": "stream",
          "name": "stdout",
          "text": [
            "Training mean loss: 0.872\n"
          ]
        },
        {
          "output_type": "stream",
          "name": "stderr",
          "text": [
            "100%|██████████| 10/10 [00:24<00:00,  2.41s/it]\n"
          ]
        },
        {
          "output_type": "stream",
          "name": "stdout",
          "text": [
            "Validation mean loss: 0.890\n",
            "Starting epoch 5\n"
          ]
        },
        {
          "output_type": "stream",
          "name": "stderr",
          "text": [
            "100%|██████████| 10/10 [00:44<00:00,  4.47s/it]\n"
          ]
        },
        {
          "output_type": "stream",
          "name": "stdout",
          "text": [
            "Training mean loss: 0.886\n"
          ]
        },
        {
          "output_type": "stream",
          "name": "stderr",
          "text": [
            "100%|██████████| 10/10 [00:22<00:00,  2.29s/it]\n"
          ]
        },
        {
          "output_type": "stream",
          "name": "stdout",
          "text": [
            "Validation mean loss: 0.869\n",
            "Starting epoch 6\n"
          ]
        },
        {
          "output_type": "stream",
          "name": "stderr",
          "text": [
            "100%|██████████| 10/10 [00:45<00:00,  4.54s/it]\n"
          ]
        },
        {
          "output_type": "stream",
          "name": "stdout",
          "text": [
            "Training mean loss: 0.884\n"
          ]
        },
        {
          "output_type": "stream",
          "name": "stderr",
          "text": [
            "100%|██████████| 10/10 [00:24<00:00,  2.43s/it]\n"
          ]
        },
        {
          "output_type": "stream",
          "name": "stdout",
          "text": [
            "Validation mean loss: 0.874\n",
            "Starting epoch 7\n"
          ]
        },
        {
          "output_type": "stream",
          "name": "stderr",
          "text": [
            "100%|██████████| 10/10 [00:45<00:00,  4.53s/it]\n"
          ]
        },
        {
          "output_type": "stream",
          "name": "stdout",
          "text": [
            "Training mean loss: 0.881\n"
          ]
        },
        {
          "output_type": "stream",
          "name": "stderr",
          "text": [
            "100%|██████████| 10/10 [00:23<00:00,  2.38s/it]\n"
          ]
        },
        {
          "output_type": "stream",
          "name": "stdout",
          "text": [
            "Validation mean loss: 0.868\n",
            "Starting epoch 8\n"
          ]
        },
        {
          "output_type": "stream",
          "name": "stderr",
          "text": [
            "100%|██████████| 10/10 [00:44<00:00,  4.50s/it]\n"
          ]
        },
        {
          "output_type": "stream",
          "name": "stdout",
          "text": [
            "Training mean loss: 0.867\n"
          ]
        },
        {
          "output_type": "stream",
          "name": "stderr",
          "text": [
            "100%|██████████| 10/10 [00:23<00:00,  2.36s/it]\n"
          ]
        },
        {
          "output_type": "stream",
          "name": "stdout",
          "text": [
            "Validation mean loss: 0.860\n",
            "Starting epoch 9\n"
          ]
        },
        {
          "output_type": "stream",
          "name": "stderr",
          "text": [
            "100%|██████████| 10/10 [00:43<00:00,  4.40s/it]\n"
          ]
        },
        {
          "output_type": "stream",
          "name": "stdout",
          "text": [
            "Training mean loss: 0.864\n"
          ]
        },
        {
          "output_type": "stream",
          "name": "stderr",
          "text": [
            "100%|██████████| 10/10 [00:23<00:00,  2.39s/it]\n"
          ]
        },
        {
          "output_type": "stream",
          "name": "stdout",
          "text": [
            "Validation mean loss: 0.869\n",
            "Starting epoch 10\n"
          ]
        },
        {
          "output_type": "stream",
          "name": "stderr",
          "text": [
            "100%|██████████| 10/10 [00:46<00:00,  4.62s/it]\n"
          ]
        },
        {
          "output_type": "stream",
          "name": "stdout",
          "text": [
            "Training mean loss: 0.862\n"
          ]
        },
        {
          "output_type": "stream",
          "name": "stderr",
          "text": [
            "100%|██████████| 10/10 [00:25<00:00,  2.51s/it]\n"
          ]
        },
        {
          "output_type": "stream",
          "name": "stdout",
          "text": [
            "Validation mean loss: 0.857\n",
            "Starting epoch 11\n"
          ]
        },
        {
          "output_type": "stream",
          "name": "stderr",
          "text": [
            "100%|██████████| 10/10 [00:46<00:00,  4.61s/it]\n"
          ]
        },
        {
          "output_type": "stream",
          "name": "stdout",
          "text": [
            "Training mean loss: 0.860\n"
          ]
        },
        {
          "output_type": "stream",
          "name": "stderr",
          "text": [
            "100%|██████████| 10/10 [00:23<00:00,  2.36s/it]\n"
          ]
        },
        {
          "output_type": "stream",
          "name": "stdout",
          "text": [
            "Validation mean loss: 0.845\n",
            "Starting epoch 12\n"
          ]
        },
        {
          "output_type": "stream",
          "name": "stderr",
          "text": [
            "100%|██████████| 10/10 [00:45<00:00,  4.57s/it]\n"
          ]
        },
        {
          "output_type": "stream",
          "name": "stdout",
          "text": [
            "Training mean loss: 0.849\n"
          ]
        },
        {
          "output_type": "stream",
          "name": "stderr",
          "text": [
            "100%|██████████| 10/10 [00:24<00:00,  2.49s/it]\n"
          ]
        },
        {
          "output_type": "stream",
          "name": "stdout",
          "text": [
            "Validation mean loss: 0.844\n",
            "Starting epoch 13\n"
          ]
        },
        {
          "output_type": "stream",
          "name": "stderr",
          "text": [
            "100%|██████████| 10/10 [00:45<00:00,  4.54s/it]\n"
          ]
        },
        {
          "output_type": "stream",
          "name": "stdout",
          "text": [
            "Training mean loss: 0.835\n"
          ]
        },
        {
          "output_type": "stream",
          "name": "stderr",
          "text": [
            "100%|██████████| 10/10 [00:25<00:00,  2.58s/it]\n"
          ]
        },
        {
          "output_type": "stream",
          "name": "stdout",
          "text": [
            "Validation mean loss: 0.861\n",
            "Starting epoch 14\n"
          ]
        },
        {
          "output_type": "stream",
          "name": "stderr",
          "text": [
            "100%|██████████| 10/10 [00:44<00:00,  4.47s/it]\n"
          ]
        },
        {
          "output_type": "stream",
          "name": "stdout",
          "text": [
            "Training mean loss: 0.839\n"
          ]
        },
        {
          "output_type": "stream",
          "name": "stderr",
          "text": [
            "100%|██████████| 10/10 [00:24<00:00,  2.47s/it]\n"
          ]
        },
        {
          "output_type": "stream",
          "name": "stdout",
          "text": [
            "Validation mean loss: 0.844\n",
            "Starting epoch 15\n"
          ]
        },
        {
          "output_type": "stream",
          "name": "stderr",
          "text": [
            "100%|██████████| 10/10 [00:45<00:00,  4.57s/it]\n"
          ]
        },
        {
          "output_type": "stream",
          "name": "stdout",
          "text": [
            "Training mean loss: 0.834\n"
          ]
        },
        {
          "output_type": "stream",
          "name": "stderr",
          "text": [
            "100%|██████████| 10/10 [00:24<00:00,  2.41s/it]\n"
          ]
        },
        {
          "output_type": "stream",
          "name": "stdout",
          "text": [
            "Validation mean loss: 0.832\n",
            "Starting epoch 16\n"
          ]
        },
        {
          "output_type": "stream",
          "name": "stderr",
          "text": [
            "100%|██████████| 10/10 [00:46<00:00,  4.64s/it]\n"
          ]
        },
        {
          "output_type": "stream",
          "name": "stdout",
          "text": [
            "Training mean loss: 0.839\n"
          ]
        },
        {
          "output_type": "stream",
          "name": "stderr",
          "text": [
            "100%|██████████| 10/10 [00:23<00:00,  2.39s/it]\n"
          ]
        },
        {
          "output_type": "stream",
          "name": "stdout",
          "text": [
            "Validation mean loss: 0.798\n",
            "Starting epoch 17\n"
          ]
        },
        {
          "output_type": "stream",
          "name": "stderr",
          "text": [
            "100%|██████████| 10/10 [00:44<00:00,  4.48s/it]\n"
          ]
        },
        {
          "output_type": "stream",
          "name": "stdout",
          "text": [
            "Training mean loss: 0.823\n"
          ]
        },
        {
          "output_type": "stream",
          "name": "stderr",
          "text": [
            "100%|██████████| 10/10 [00:23<00:00,  2.40s/it]\n"
          ]
        },
        {
          "output_type": "stream",
          "name": "stdout",
          "text": [
            "Validation mean loss: 0.822\n",
            "Starting epoch 18\n"
          ]
        },
        {
          "output_type": "stream",
          "name": "stderr",
          "text": [
            "100%|██████████| 10/10 [00:46<00:00,  4.66s/it]\n"
          ]
        },
        {
          "output_type": "stream",
          "name": "stdout",
          "text": [
            "Training mean loss: 0.807\n"
          ]
        },
        {
          "output_type": "stream",
          "name": "stderr",
          "text": [
            "100%|██████████| 10/10 [00:24<00:00,  2.45s/it]\n"
          ]
        },
        {
          "output_type": "stream",
          "name": "stdout",
          "text": [
            "Validation mean loss: 0.792\n",
            "Starting epoch 19\n"
          ]
        },
        {
          "output_type": "stream",
          "name": "stderr",
          "text": [
            "100%|██████████| 10/10 [00:46<00:00,  4.66s/it]\n"
          ]
        },
        {
          "output_type": "stream",
          "name": "stdout",
          "text": [
            "Training mean loss: 0.791\n"
          ]
        },
        {
          "output_type": "stream",
          "name": "stderr",
          "text": [
            "100%|██████████| 10/10 [00:25<00:00,  2.56s/it]\n"
          ]
        },
        {
          "output_type": "stream",
          "name": "stdout",
          "text": [
            "Validation mean loss: 0.800\n",
            "Starting epoch 20\n"
          ]
        },
        {
          "output_type": "stream",
          "name": "stderr",
          "text": [
            "100%|██████████| 10/10 [00:46<00:00,  4.67s/it]\n"
          ]
        },
        {
          "output_type": "stream",
          "name": "stdout",
          "text": [
            "Training mean loss: 0.795\n"
          ]
        },
        {
          "output_type": "stream",
          "name": "stderr",
          "text": [
            "100%|██████████| 10/10 [00:25<00:00,  2.59s/it]\n"
          ]
        },
        {
          "output_type": "stream",
          "name": "stdout",
          "text": [
            "Validation mean loss: 0.793\n",
            "Starting epoch 21\n"
          ]
        },
        {
          "output_type": "stream",
          "name": "stderr",
          "text": [
            "100%|██████████| 10/10 [00:46<00:00,  4.63s/it]\n"
          ]
        },
        {
          "output_type": "stream",
          "name": "stdout",
          "text": [
            "Training mean loss: 0.794\n"
          ]
        },
        {
          "output_type": "stream",
          "name": "stderr",
          "text": [
            "100%|██████████| 10/10 [00:25<00:00,  2.56s/it]\n"
          ]
        },
        {
          "output_type": "stream",
          "name": "stdout",
          "text": [
            "Validation mean loss: 0.811\n",
            "Starting epoch 22\n"
          ]
        },
        {
          "output_type": "stream",
          "name": "stderr",
          "text": [
            "100%|██████████| 10/10 [00:46<00:00,  4.67s/it]\n"
          ]
        },
        {
          "output_type": "stream",
          "name": "stdout",
          "text": [
            "Training mean loss: 0.803\n"
          ]
        },
        {
          "output_type": "stream",
          "name": "stderr",
          "text": [
            "100%|██████████| 10/10 [00:24<00:00,  2.45s/it]\n"
          ]
        },
        {
          "output_type": "stream",
          "name": "stdout",
          "text": [
            "Validation mean loss: 0.793\n",
            "Starting epoch 23\n"
          ]
        },
        {
          "output_type": "stream",
          "name": "stderr",
          "text": [
            "100%|██████████| 10/10 [00:46<00:00,  4.65s/it]\n"
          ]
        },
        {
          "output_type": "stream",
          "name": "stdout",
          "text": [
            "Training mean loss: 0.788\n"
          ]
        },
        {
          "output_type": "stream",
          "name": "stderr",
          "text": [
            "100%|██████████| 10/10 [00:25<00:00,  2.57s/it]\n"
          ]
        },
        {
          "output_type": "stream",
          "name": "stdout",
          "text": [
            "Validation mean loss: 0.789\n",
            "Starting epoch 24\n"
          ]
        },
        {
          "output_type": "stream",
          "name": "stderr",
          "text": [
            "100%|██████████| 10/10 [00:45<00:00,  4.51s/it]\n"
          ]
        },
        {
          "output_type": "stream",
          "name": "stdout",
          "text": [
            "Training mean loss: 0.787\n"
          ]
        },
        {
          "output_type": "stream",
          "name": "stderr",
          "text": [
            "100%|██████████| 10/10 [00:24<00:00,  2.47s/it]\n"
          ]
        },
        {
          "output_type": "stream",
          "name": "stdout",
          "text": [
            "Validation mean loss: 0.791\n",
            "Starting epoch 25\n"
          ]
        },
        {
          "output_type": "stream",
          "name": "stderr",
          "text": [
            "100%|██████████| 10/10 [00:45<00:00,  4.53s/it]\n"
          ]
        },
        {
          "output_type": "stream",
          "name": "stdout",
          "text": [
            "Training mean loss: 0.770\n"
          ]
        },
        {
          "output_type": "stream",
          "name": "stderr",
          "text": [
            "100%|██████████| 10/10 [00:26<00:00,  2.63s/it]\n"
          ]
        },
        {
          "output_type": "stream",
          "name": "stdout",
          "text": [
            "Validation mean loss: 0.826\n",
            "Starting epoch 26\n"
          ]
        },
        {
          "output_type": "stream",
          "name": "stderr",
          "text": [
            "100%|██████████| 10/10 [00:46<00:00,  4.61s/it]\n"
          ]
        },
        {
          "output_type": "stream",
          "name": "stdout",
          "text": [
            "Training mean loss: 0.764\n"
          ]
        },
        {
          "output_type": "stream",
          "name": "stderr",
          "text": [
            "100%|██████████| 10/10 [00:24<00:00,  2.40s/it]\n"
          ]
        },
        {
          "output_type": "stream",
          "name": "stdout",
          "text": [
            "Validation mean loss: 0.792\n",
            "Starting epoch 27\n"
          ]
        },
        {
          "output_type": "stream",
          "name": "stderr",
          "text": [
            "100%|██████████| 10/10 [00:44<00:00,  4.50s/it]\n"
          ]
        },
        {
          "output_type": "stream",
          "name": "stdout",
          "text": [
            "Training mean loss: 0.768\n"
          ]
        },
        {
          "output_type": "stream",
          "name": "stderr",
          "text": [
            "100%|██████████| 10/10 [00:24<00:00,  2.43s/it]\n"
          ]
        },
        {
          "output_type": "stream",
          "name": "stdout",
          "text": [
            "Validation mean loss: 0.757\n",
            "Starting epoch 28\n"
          ]
        },
        {
          "output_type": "stream",
          "name": "stderr",
          "text": [
            "100%|██████████| 10/10 [00:45<00:00,  4.59s/it]\n"
          ]
        },
        {
          "output_type": "stream",
          "name": "stdout",
          "text": [
            "Training mean loss: 0.751\n"
          ]
        },
        {
          "output_type": "stream",
          "name": "stderr",
          "text": [
            "100%|██████████| 10/10 [00:24<00:00,  2.49s/it]\n"
          ]
        },
        {
          "output_type": "stream",
          "name": "stdout",
          "text": [
            "Validation mean loss: 0.763\n",
            "Starting epoch 29\n"
          ]
        },
        {
          "output_type": "stream",
          "name": "stderr",
          "text": [
            "100%|██████████| 10/10 [00:46<00:00,  4.67s/it]\n"
          ]
        },
        {
          "output_type": "stream",
          "name": "stdout",
          "text": [
            "Training mean loss: 0.747\n"
          ]
        },
        {
          "output_type": "stream",
          "name": "stderr",
          "text": [
            "100%|██████████| 10/10 [00:25<00:00,  2.56s/it]\n"
          ]
        },
        {
          "output_type": "stream",
          "name": "stdout",
          "text": [
            "Validation mean loss: 0.751\n",
            "Starting epoch 30\n"
          ]
        },
        {
          "output_type": "stream",
          "name": "stderr",
          "text": [
            "100%|██████████| 10/10 [00:48<00:00,  4.83s/it]\n"
          ]
        },
        {
          "output_type": "stream",
          "name": "stdout",
          "text": [
            "Training mean loss: 0.751\n"
          ]
        },
        {
          "output_type": "stream",
          "name": "stderr",
          "text": [
            "100%|██████████| 10/10 [00:23<00:00,  2.39s/it]\n"
          ]
        },
        {
          "output_type": "stream",
          "name": "stdout",
          "text": [
            "Validation mean loss: 0.772\n",
            "Starting epoch 31\n"
          ]
        },
        {
          "output_type": "stream",
          "name": "stderr",
          "text": [
            "100%|██████████| 10/10 [00:45<00:00,  4.52s/it]\n"
          ]
        },
        {
          "output_type": "stream",
          "name": "stdout",
          "text": [
            "Training mean loss: 0.719\n"
          ]
        },
        {
          "output_type": "stream",
          "name": "stderr",
          "text": [
            "100%|██████████| 10/10 [00:24<00:00,  2.41s/it]\n"
          ]
        },
        {
          "output_type": "stream",
          "name": "stdout",
          "text": [
            "Validation mean loss: 0.754\n",
            "Starting epoch 32\n"
          ]
        },
        {
          "output_type": "stream",
          "name": "stderr",
          "text": [
            "100%|██████████| 10/10 [00:44<00:00,  4.45s/it]\n"
          ]
        },
        {
          "output_type": "stream",
          "name": "stdout",
          "text": [
            "Training mean loss: 0.720\n"
          ]
        },
        {
          "output_type": "stream",
          "name": "stderr",
          "text": [
            "100%|██████████| 10/10 [00:23<00:00,  2.35s/it]\n"
          ]
        },
        {
          "output_type": "stream",
          "name": "stdout",
          "text": [
            "Validation mean loss: 0.720\n",
            "Starting epoch 33\n"
          ]
        },
        {
          "output_type": "stream",
          "name": "stderr",
          "text": [
            "100%|██████████| 10/10 [00:44<00:00,  4.50s/it]\n"
          ]
        },
        {
          "output_type": "stream",
          "name": "stdout",
          "text": [
            "Training mean loss: 0.739\n"
          ]
        },
        {
          "output_type": "stream",
          "name": "stderr",
          "text": [
            "100%|██████████| 10/10 [00:26<00:00,  2.60s/it]\n"
          ]
        },
        {
          "output_type": "stream",
          "name": "stdout",
          "text": [
            "Validation mean loss: 0.753\n",
            "Starting epoch 34\n"
          ]
        },
        {
          "output_type": "stream",
          "name": "stderr",
          "text": [
            "100%|██████████| 10/10 [00:46<00:00,  4.65s/it]\n"
          ]
        },
        {
          "output_type": "stream",
          "name": "stdout",
          "text": [
            "Training mean loss: 0.715\n"
          ]
        },
        {
          "output_type": "stream",
          "name": "stderr",
          "text": [
            "100%|██████████| 10/10 [00:23<00:00,  2.39s/it]\n"
          ]
        },
        {
          "output_type": "stream",
          "name": "stdout",
          "text": [
            "Validation mean loss: 0.775\n",
            "Starting epoch 35\n"
          ]
        },
        {
          "output_type": "stream",
          "name": "stderr",
          "text": [
            "100%|██████████| 10/10 [00:47<00:00,  4.72s/it]\n"
          ]
        },
        {
          "output_type": "stream",
          "name": "stdout",
          "text": [
            "Training mean loss: 0.763\n"
          ]
        },
        {
          "output_type": "stream",
          "name": "stderr",
          "text": [
            "100%|██████████| 10/10 [00:26<00:00,  2.63s/it]\n"
          ]
        },
        {
          "output_type": "stream",
          "name": "stdout",
          "text": [
            "Validation mean loss: 0.735\n",
            "Starting epoch 36\n"
          ]
        },
        {
          "output_type": "stream",
          "name": "stderr",
          "text": [
            "100%|██████████| 10/10 [00:46<00:00,  4.64s/it]\n"
          ]
        },
        {
          "output_type": "stream",
          "name": "stdout",
          "text": [
            "Training mean loss: 0.710\n"
          ]
        },
        {
          "output_type": "stream",
          "name": "stderr",
          "text": [
            "100%|██████████| 10/10 [00:24<00:00,  2.45s/it]\n"
          ]
        },
        {
          "output_type": "stream",
          "name": "stdout",
          "text": [
            "Validation mean loss: 0.761\n",
            "Starting epoch 37\n"
          ]
        },
        {
          "output_type": "stream",
          "name": "stderr",
          "text": [
            "100%|██████████| 10/10 [00:46<00:00,  4.63s/it]\n"
          ]
        },
        {
          "output_type": "stream",
          "name": "stdout",
          "text": [
            "Training mean loss: 0.692\n"
          ]
        },
        {
          "output_type": "stream",
          "name": "stderr",
          "text": [
            "100%|██████████| 10/10 [00:24<00:00,  2.47s/it]\n"
          ]
        },
        {
          "output_type": "stream",
          "name": "stdout",
          "text": [
            "Validation mean loss: 0.758\n",
            "Starting epoch 38\n"
          ]
        },
        {
          "output_type": "stream",
          "name": "stderr",
          "text": [
            "100%|██████████| 10/10 [00:46<00:00,  4.64s/it]\n"
          ]
        },
        {
          "output_type": "stream",
          "name": "stdout",
          "text": [
            "Training mean loss: 0.717\n"
          ]
        },
        {
          "output_type": "stream",
          "name": "stderr",
          "text": [
            "100%|██████████| 10/10 [00:24<00:00,  2.47s/it]\n"
          ]
        },
        {
          "output_type": "stream",
          "name": "stdout",
          "text": [
            "Validation mean loss: 0.714\n",
            "Starting epoch 39\n"
          ]
        },
        {
          "output_type": "stream",
          "name": "stderr",
          "text": [
            "100%|██████████| 10/10 [00:46<00:00,  4.67s/it]\n"
          ]
        },
        {
          "output_type": "stream",
          "name": "stdout",
          "text": [
            "Training mean loss: 0.708\n"
          ]
        },
        {
          "output_type": "stream",
          "name": "stderr",
          "text": [
            "100%|██████████| 10/10 [00:26<00:00,  2.61s/it]\n"
          ]
        },
        {
          "output_type": "stream",
          "name": "stdout",
          "text": [
            "Validation mean loss: 0.771\n",
            "Starting epoch 40\n"
          ]
        },
        {
          "output_type": "stream",
          "name": "stderr",
          "text": [
            "100%|██████████| 10/10 [00:46<00:00,  4.67s/it]\n"
          ]
        },
        {
          "output_type": "stream",
          "name": "stdout",
          "text": [
            "Training mean loss: 0.690\n"
          ]
        },
        {
          "output_type": "stream",
          "name": "stderr",
          "text": [
            "100%|██████████| 10/10 [00:24<00:00,  2.49s/it]"
          ]
        },
        {
          "output_type": "stream",
          "name": "stdout",
          "text": [
            "Validation mean loss: 0.744\n"
          ]
        },
        {
          "output_type": "stream",
          "name": "stderr",
          "text": [
            "\n"
          ]
        }
      ]
    },
    {
      "cell_type": "markdown",
      "metadata": {
        "id": "Zk2l3Yz2A3rP"
      },
      "source": [
        "We expect to see loss < 0.7 after 40 epochs."
      ]
    },
    {
      "cell_type": "code",
      "metadata": {
        "colab": {
          "base_uri": "https://localhost:8080/",
          "height": 317
        },
        "id": "bfWWycu6mC2v",
        "outputId": "85692f2a-d6d0-4253-9d92-531603c55e64"
      },
      "source": [
        "sample = random.choice(validation_set)\n",
        "input_tensor = sample[MRI][DATA][0]\n",
        "patch_size = 64, 64, 64  # we can user larger or smaller patches for inference\n",
        "patch_overlap = 4, 4, 4\n",
        "grid_sampler = torchio.inference.GridSampler(\n",
        "    sample,\n",
        "    patch_size,\n",
        "    patch_overlap,\n",
        ")\n",
        "patch_loader = torch.utils.data.DataLoader(\n",
        "    grid_sampler, batch_size=validation_batch_size)\n",
        "aggregator = torchio.inference.GridAggregator(grid_sampler)\n",
        "\n",
        "model.eval()\n",
        "with torch.no_grad():\n",
        "    for patches_batch in patch_loader:\n",
        "        inputs = patches_batch[MRI][DATA].to(device).float()\n",
        "        locations = patches_batch['location']\n",
        "        logits = model(inputs)\n",
        "        labels = logits.argmax(dim=CHANNELS_DIMENSION, keepdim=True)\n",
        "        aggregator.add_batch(labels, locations)\n",
        "plot_central_cuts(aggregator.get_output_tensor())"
      ],
      "execution_count": null,
      "outputs": [
        {
          "output_type": "stream",
          "name": "stderr",
          "text": [
            "/usr/local/lib/python3.7/dist-packages/torchio/data/inference/aggregator.py:162: RuntimeWarning:\n",
            "\n",
            "Medical image frameworks such as ITK do not support int64. Casting to int32...\n",
            "\n"
          ]
        },
        {
          "output_type": "display_data",
          "data": {
            "image/png": "[encoded data removed]",
            "text/plain": [
              "<Figure size 864x288 with 3 Axes>"
            ]
          },
          "metadata": {
            "needs_background": "light"
          }
        }
      ]
    },
    {
      "cell_type": "markdown",
      "metadata": {
        "id": "WUSY0_Db9g3t"
      },
      "source": [
        "## 4. What else?\n",
        "\n",
        "1. Crop unnesessary parts of all images, be sure you are using only relevant for segmentation brain parts. Avoid empty corners.\n",
        "2. Batch size and patch size - the bigger the better, and patch size of 128x128x128 is the best strategy (yet watch your time and memory, it is limited).\n",
        "3. U-net: is it deep enough or wide enough? Watch your memory :)\n",
        "3. Augmentations for patch based segmentation it is a must. Be sure, you have enough time to train model, augmentation with rotation, smothing with double training time\n",
        "4. Advanced loss: CrossEntropy + DICE are your best friends.\n",
        "5. Do not you forget about adjusting learning rate with training.\n",
        "\n",
        "\n",
        "**Dont waste your time:**\n",
        "1. Adding patch localization to a model input.\n",
        "2. Focal loss.\n",
        "3. Training on non-zero patches."
      ]
    }
  ]
}