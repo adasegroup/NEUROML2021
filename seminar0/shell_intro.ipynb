{
 "cells": [
  {
   "cell_type": "markdown",
   "metadata": {},
   "source": [
    "<a href=\"https://colab.research.google.com/drive/1kgt64vX3u_8ZQRsD3eZmFJmneI6OYO-2?usp=sharing\" target=\"_parent\"><img src=\"https://colab.research.google.com/assets/colab-badge.svg\" alt=\"Open In Colab\"/></a>"
   ]
  },
  {
   "cell_type": "markdown",
   "metadata": {
    "colab_type": "text",
    "id": "KQHev1QZ8mMO"
   },
   "source": [
    "# Contexts"
   ]
  },
  {
   "cell_type": "markdown",
   "metadata": {
    "colab_type": "text",
    "id": "LfBf-okoLFXe"
   },
   "source": [
    "Context is the most important thing when you deal with complex environment. You should learn figuring out where you are wherever you are and bring the context to others."
   ]
  },
  {
   "cell_type": "markdown",
   "metadata": {
    "colab_type": "text",
    "id": "aeqIlxOm3UZj"
   },
   "source": [
    "Your Python code in Jupyter Notebooks hosted on Colab is running on the following nested environment\n",
    "\n",
    "> Colab\n",
    ">\n",
    ">> Docker Machine\n",
    ">>\n",
    ">>> Shell\n",
    ">>>\n",
    ">>>> Jupyter\n",
    ">>>>\n",
    ">>>> `python code`\n",
    ">>>>\n",
    ">>>>> `!shell command`\n",
    ">>>>\n",
    ">>>> `python code`"
   ]
  },
  {
   "cell_type": "code",
   "execution_count": 122,
   "metadata": {
    "colab": {
     "base_uri": "https://localhost:8080/",
     "height": 68
    },
    "colab_type": "code",
    "id": "iITXk2v_yzSP",
    "outputId": "560e2166-f53a-4f04-f795-7ff6e400b98b"
   },
   "outputs": [
    {
     "name": "stdout",
     "output_type": "stream",
     "text": [
      "python:\t42\n",
      "shell:\t/bin/bash\n",
      "python:\t43\n"
     ]
    }
   ],
   "source": [
    "long_living_variable = 42\n",
    "print(f'python:\\t{long_living_variable}')\n",
    "\n",
    "!echo -e \"shell:\\t$SHELL\" # You can't do it on Windows easy way\n",
    "\n",
    "print(f'python:\\t{long_living_variable + 1}')"
   ]
  },
  {
   "cell_type": "markdown",
   "metadata": {
    "colab_type": "text",
    "id": "TJ_gVwtB7ql_"
   },
   "source": [
    "Colab gives you access to ⟼ Docker runtime environment that runs ⟼ some shell which starts ⟼ Jupyter web-server where ⟻ Colab connects to and runs ⟼ cells with `python code` or `shell command`."
   ]
  },
  {
   "cell_type": "markdown",
   "metadata": {
    "colab_type": "text",
    "id": "OpY7BInk4NjP"
   },
   "source": [
    "You even can access to the python variable from other cells executed previously"
   ]
  },
  {
   "cell_type": "code",
   "execution_count": 102,
   "metadata": {
    "colab": {
     "base_uri": "https://localhost:8080/",
     "height": 34
    },
    "colab_type": "code",
    "id": "CQvgIL102v4A",
    "outputId": "0ed6b48b-01be-459c-e289-53f51737096a"
   },
   "outputs": [
    {
     "name": "stdout",
     "output_type": "stream",
     "text": [
      "41\n"
     ]
    }
   ],
   "source": [
    "print(long_living_variable - 1)"
   ]
  },
  {
   "cell_type": "markdown",
   "metadata": {
    "colab_type": "text",
    "id": "vAbiUs_I5JyV"
   },
   "source": [
    "You knew it if you use Jupyter before. But what does it mean?\n",
    "\n",
    "That means python namespace lives forever until you restart the kernel of Jupyter Notebook"
   ]
  },
  {
   "cell_type": "code",
   "execution_count": 1,
   "metadata": {
    "colab": {
     "base_uri": "https://localhost:8080/",
     "height": 164
    },
    "colab_type": "code",
    "id": "x0zKZXSiEwzD",
    "outputId": "ae969ec1-726b-4ca2-9847-7a65cd0fe24c"
   },
   "outputs": [
    {
     "ename": "NameError",
     "evalue": "ignored",
     "output_type": "error",
     "traceback": [
      "\u001b[0;31m---------------------------------------------------------------------------\u001b[0m",
      "\u001b[0;31mNameError\u001b[0m                                 Traceback (most recent call last)",
      "\u001b[0;32m<ipython-input-1-a9476b52d68c>\u001b[0m in \u001b[0;36m<module>\u001b[0;34m()\u001b[0m\n\u001b[0;32m----> 1\u001b[0;31m \u001b[0mprint\u001b[0m\u001b[0;34m(\u001b[0m\u001b[0mlong_living_variable\u001b[0m \u001b[0;34m-\u001b[0m \u001b[0;36m1\u001b[0m\u001b[0;34m)\u001b[0m\u001b[0;34m\u001b[0m\u001b[0;34m\u001b[0m\u001b[0m\n\u001b[0m",
      "\u001b[0;31mNameError\u001b[0m: name 'long_living_variable' is not defined"
     ]
    }
   ],
   "source": [
    "print(long_living_variable - 1)"
   ]
  },
  {
   "cell_type": "markdown",
   "metadata": {
    "colab_type": "text",
    "id": "Z3jDmZaIN3D3"
   },
   "source": [
    "Inside Jupyter the **lifetime** of shell environment (name it *session*) is shorter and spans single line, not even single cell."
   ]
  },
  {
   "cell_type": "markdown",
   "metadata": {
    "colab_type": "text",
    "id": "IV1w-FHZ_wkn"
   },
   "source": [
    "Exclamation point `!` starts new instance of the shell and teleports you from Cell to Shell until the line ends\n",
    "\n",
    "\n",
    "> Jupyter\n",
    ">\n",
    ">> `!shell command`\n",
    ">\n",
    ">> `!shell command`"
   ]
  },
  {
   "cell_type": "code",
   "execution_count": 28,
   "metadata": {
    "colab": {
     "base_uri": "https://localhost:8080/",
     "height": 68
    },
    "colab_type": "code",
    "id": "nPbZ396fm2mw",
    "outputId": "a7d132d2-7863-4973-98e4-cf80cc922faf"
   },
   "outputs": [
    {
     "name": "stdout",
     "output_type": "stream",
     "text": [
      "session 1 episode 1: shell instance\r\n",
      "session 1 episode 2: shell instance\n",
      "session 2: \n"
     ]
    }
   ],
   "source": [
    "!short_living_variable='shell instance'; echo \"session 1 episode 1: $short_living_variable\"; echo \"session 1 episode 2: $short_living_variable\"\n",
    "\n",
    "!echo \"session 2: $short_living_variable\""
   ]
  },
  {
   "cell_type": "markdown",
   "metadata": {
    "colab_type": "text",
    "id": "ph-x6uvfm4Za"
   },
   "source": [
    "The *scope of namespaces* is not important when you're working in the shell interactively within single session, but it does matter when you're making your own Docker Image, especially with environment driven control flow."
   ]
  },
  {
   "cell_type": "markdown",
   "metadata": {
    "colab_type": "text",
    "id": "d6XFpvT9qNND"
   },
   "source": [
    "# Connect Colab to Local Jupyter"
   ]
  },
  {
   "cell_type": "markdown",
   "metadata": {
    "colab_type": "text",
    "id": "FqbkEJCK8ep9"
   },
   "source": [
    "To mount your Google Drive into Jupyter hosted on Colab run cell below (not locally) and follow Colab intructions"
   ]
  },
  {
   "cell_type": "code",
   "execution_count": null,
   "metadata": {
    "colab": {},
    "colab_type": "code",
    "id": "6Dw8KKei3mhb"
   },
   "outputs": [],
   "source": [
    "from google.colab import drive\n",
    "drive.mount('/content/drive')"
   ]
  },
  {
   "cell_type": "markdown",
   "metadata": {
    "colab_type": "text",
    "id": "0hpxLwRm1kGA"
   },
   "source": [
    "Mount means you attach remote disk and inject its content somewhere on current filesystem. Without mounting you will have to rebuild disk content of Jupyter instace everytime you restart Colab."
   ]
  },
  {
   "cell_type": "markdown",
   "metadata": {
    "colab_type": "text",
    "id": "9riK2jOjqbUS"
   },
   "source": [
    "However, you have an option to switch Colab runtimes from Google host to your own local host (e.g. your laptop) and work on your home disk. You will need [Anaconda](https://www.anaconda.com/products/individual). Open your terminal and do the following.\n",
    "\n",
    "Install module for web sockets:\n",
    "\n",
    "`pip install --upgrade 'jupyter_http_over_ws>=0.0.7' && jupyter serverextension enable --py jupyter_http_over_ws`\n",
    "\n",
    "Run your Jupyter locally allowing Colab access to it:\n",
    "\n",
    "`jupyter-lab --NotebookApp.allow_origin='https://colab.research.google.com' --port=8888 --NotebookApp.port_retries=0`\n",
    "\n",
    "Copy from your terminal and paste Jupyter backend URL into Colab:\n",
    "\n",
    "`http://localhost:8888/?token=e01060f000d010b0800060f0c0a080600050f0e080d06050`"
   ]
  },
  {
   "cell_type": "markdown",
   "metadata": {
    "colab_type": "text",
    "id": "peh5vLksYLYe"
   },
   "source": [
    "In this case your Jupyter Notebooks still are hosted on Google Drive, but Jupyter web-server and it's environment are hosted on your machine\n",
    "\n",
    "> Colab\n",
    ">\n",
    ">> *Local* Machine\n",
    ">>\n",
    ">>> Shell\n",
    ">>>\n",
    ">>>> Jupyter\n",
    ">>>>\n",
    ">>>> `python code`\n",
    ">>>>\n",
    ">>>>> `!shell command`\n",
    ">>>>\n",
    ">>>> `python code`"
   ]
  },
  {
   "cell_type": "markdown",
   "metadata": {
    "colab_type": "text",
    "id": "TANuZhgyrAZ7"
   },
   "source": [
    "# Away\n",
    "\n",
    "You can be free if you can explain or guess what the following command does\n",
    "\n",
    "```\n",
    "(set | cut -d= -f1) | grep -v -E \"'$(env | cut -d= -f1 | tr '\\n' '|')'\"\n",
    "```"
   ]
  },
  {
   "cell_type": "markdown",
   "metadata": {
    "colab_type": "text",
    "id": "1FjSig94J037"
   },
   "source": [
    "# First Hour at the Terminal"
   ]
  },
  {
   "cell_type": "markdown",
   "metadata": {
    "colab_type": "text",
    "id": "drIzlVHN1i2K"
   },
   "source": [
    "### Who?"
   ]
  },
  {
   "cell_type": "markdown",
   "metadata": {
    "colab_type": "text",
    "id": "gFQ-lVujx5J1"
   },
   "source": [
    "What is my login name?"
   ]
  },
  {
   "cell_type": "code",
   "execution_count": 135,
   "metadata": {
    "colab": {
     "base_uri": "https://localhost:8080/",
     "height": 34
    },
    "colab_type": "code",
    "id": "t7diUaWFopJp",
    "outputId": "14807da1-55f1-4da8-9e61-400f404d3c1d"
   },
   "outputs": [
    {
     "name": "stdout",
     "output_type": "stream",
     "text": [
      "root\n"
     ]
    }
   ],
   "source": [
    "! whoami"
   ]
  },
  {
   "cell_type": "markdown",
   "metadata": {
    "colab_type": "text",
    "id": "98IeYHnK2Vam"
   },
   "source": [
    "Who else is there?"
   ]
  },
  {
   "cell_type": "code",
   "execution_count": 131,
   "metadata": {
    "colab": {},
    "colab_type": "code",
    "id": "oK24YkBT1_Vr"
   },
   "outputs": [],
   "source": [
    "! who"
   ]
  },
  {
   "cell_type": "markdown",
   "metadata": {
    "colab_type": "text",
    "id": "OcSJYA0e9Qzj"
   },
   "source": [
    "Typically all users has own directory at `/home`, but not on Colab where you're alone"
   ]
  },
  {
   "cell_type": "code",
   "execution_count": 169,
   "metadata": {
    "colab": {},
    "colab_type": "code",
    "id": "SHgFjvr5rYKL"
   },
   "outputs": [],
   "source": [
    "!ls /home"
   ]
  },
  {
   "cell_type": "markdown",
   "metadata": {
    "colab_type": "text",
    "id": "h4RJ5x5E2dFT"
   },
   "source": [
    "When I was here last time?"
   ]
  },
  {
   "cell_type": "code",
   "execution_count": 134,
   "metadata": {
    "colab": {
     "base_uri": "https://localhost:8080/",
     "height": 51
    },
    "colab_type": "code",
    "id": "nE-bT60I2DF-",
    "outputId": "76ebc099-ba7e-4e9b-e227-a3d4af034dfd"
   },
   "outputs": [
    {
     "name": "stdout",
     "output_type": "stream",
     "text": [
      "\n",
      "wtmp begins Wed Sep  2 16:39:38 2020\n"
     ]
    }
   ],
   "source": [
    "! last"
   ]
  },
  {
   "cell_type": "markdown",
   "metadata": {
    "colab_type": "text",
    "id": "mH_3Lgulx_yX"
   },
   "source": [
    "What is my machine name?"
   ]
  },
  {
   "cell_type": "code",
   "execution_count": 108,
   "metadata": {
    "colab": {
     "base_uri": "https://localhost:8080/",
     "height": 34
    },
    "colab_type": "code",
    "id": "uq7zMhwQyFaY",
    "outputId": "f3a9c8e2-963b-419d-e487-9378b21efb87"
   },
   "outputs": [
    {
     "name": "stdout",
     "output_type": "stream",
     "text": [
      "99dcd175f744\n"
     ]
    }
   ],
   "source": [
    "! hostname"
   ]
  },
  {
   "cell_type": "markdown",
   "metadata": {
    "colab_type": "text",
    "id": "VSyYWMSt5UNs"
   },
   "source": [
    "### Where?"
   ]
  },
  {
   "cell_type": "markdown",
   "metadata": {
    "colab_type": "text",
    "id": "FW5DB7dVyPDb"
   },
   "source": [
    "Where am I on the filesystem? Print work directory"
   ]
  },
  {
   "cell_type": "code",
   "execution_count": 109,
   "metadata": {
    "colab": {
     "base_uri": "https://localhost:8080/",
     "height": 34
    },
    "colab_type": "code",
    "id": "1SUlEzcNqp3s",
    "outputId": "de4f14e4-c29e-4c75-d2ad-d6ab74e6da37"
   },
   "outputs": [
    {
     "name": "stdout",
     "output_type": "stream",
     "text": [
      "/content\n"
     ]
    }
   ],
   "source": [
    "! pwd"
   ]
  },
  {
   "cell_type": "markdown",
   "metadata": {
    "colab_type": "text",
    "id": "tvYD1uylysA2"
   },
   "source": [
    "What is on the filesystem? List `l`ong format with `a`ll (including hidden) files"
   ]
  },
  {
   "cell_type": "code",
   "execution_count": 111,
   "metadata": {
    "colab": {
     "base_uri": "https://localhost:8080/",
     "height": 102
    },
    "colab_type": "code",
    "id": "IoE7V5YDqua-",
    "outputId": "ecc9a392-fc95-49cb-bf93-36d05a509742"
   },
   "outputs": [
    {
     "name": "stdout",
     "output_type": "stream",
     "text": [
      "total 16\n",
      "drwxr-xr-x 1 root root 4096 Aug 27 16:39 .\n",
      "drwxr-xr-x 1 root root 4096 Sep  3 19:50 ..\n",
      "drwxr-xr-x 1 root root 4096 Aug 31 16:13 .config\n",
      "drwxr-xr-x 1 root root 4096 Aug 27 16:39 sample_data\n"
     ]
    }
   ],
   "source": [
    "! ls -la /content"
   ]
  },
  {
   "cell_type": "markdown",
   "metadata": {
    "colab_type": "text",
    "id": "2pNs9xWi99Mb"
   },
   "source": [
    "There are two default directories: current `.` (omitted in `ls`)"
   ]
  },
  {
   "cell_type": "code",
   "execution_count": 118,
   "metadata": {
    "colab": {
     "base_uri": "https://localhost:8080/",
     "height": 34
    },
    "colab_type": "code",
    "id": "Hd4l8KP30NV4",
    "outputId": "dbbd6406-56e1-4ef8-f577-91e270a0b1d2"
   },
   "outputs": [
    {
     "name": "stdout",
     "output_type": "stream",
     "text": [
      "sample_data\n"
     ]
    }
   ],
   "source": [
    "! ls"
   ]
  },
  {
   "cell_type": "markdown",
   "metadata": {
    "colab_type": "text",
    "id": "yyNbXULR-cU1"
   },
   "source": [
    "and parent `..`"
   ]
  },
  {
   "cell_type": "code",
   "execution_count": 158,
   "metadata": {
    "colab": {
     "base_uri": "https://localhost:8080/",
     "height": 68
    },
    "colab_type": "code",
    "id": "DjOUHnlK0gAs",
    "outputId": "ccf51ac3-d653-46ff-c082-af161690243e"
   },
   "outputs": [
    {
     "name": "stdout",
     "output_type": "stream",
     "text": [
      "bin\t datalab  home\t lib64\topt   run   swift\t       tmp    var\n",
      "boot\t dev\t  lib\t media\tproc  sbin  sys\t\t       tools\n",
      "content  etc\t  lib32  mnt\troot  srv   tensorflow-1.15.2  usr\n"
     ]
    }
   ],
   "source": [
    "! ls .."
   ]
  },
  {
   "cell_type": "markdown",
   "metadata": {
    "colab_type": "text",
    "id": "pDCtnXBX-lNV"
   },
   "source": [
    "Here parent directry is root `/` directory"
   ]
  },
  {
   "cell_type": "code",
   "execution_count": 159,
   "metadata": {
    "colab": {
     "base_uri": "https://localhost:8080/",
     "height": 68
    },
    "colab_type": "code",
    "id": "M183lljq0v_c",
    "outputId": "5910ab38-1490-4c27-be49-ad1a54b540c4"
   },
   "outputs": [
    {
     "name": "stdout",
     "output_type": "stream",
     "text": [
      "bin\t datalab  home\t lib64\topt   run   swift\t       tmp    var\n",
      "boot\t dev\t  lib\t media\tproc  sbin  sys\t\t       tools\n",
      "content  etc\t  lib32  mnt\troot  srv   tensorflow-1.15.2  usr\n"
     ]
    }
   ],
   "source": [
    "! ls /"
   ]
  },
  {
   "cell_type": "markdown",
   "metadata": {
    "colab_type": "text",
    "id": "S1A4m4Qx-8UW"
   },
   "source": [
    "What is directory structure?"
   ]
  },
  {
   "cell_type": "code",
   "execution_count": 115,
   "metadata": {
    "colab": {
     "base_uri": "https://localhost:8080/",
     "height": 34
    },
    "colab_type": "code",
    "id": "Itwq9JhysY9a",
    "outputId": "4c0d824a-d7f1-4db5-b87d-b7132f2e3772"
   },
   "outputs": [
    {
     "name": "stdout",
     "output_type": "stream",
     "text": [
      "/bin/bash: tree: command not found\n"
     ]
    }
   ],
   "source": [
    "! tree"
   ]
  },
  {
   "cell_type": "code",
   "execution_count": 127,
   "metadata": {
    "colab": {
     "base_uri": "https://localhost:8080/",
     "height": 340
    },
    "colab_type": "code",
    "id": "lDSym8wq1Usc",
    "outputId": "a66f6d3a-4888-49c6-d567-9830c70d264c"
   },
   "outputs": [
    {
     "name": "stdout",
     "output_type": "stream",
     "text": [
      "Reading package lists... Done\n",
      "Building dependency tree       \n",
      "Reading state information... Done\n",
      "The following package was automatically installed and is no longer required:\n",
      "  libnvidia-common-440\n",
      "Use 'apt autoremove' to remove it.\n",
      "The following NEW packages will be installed:\n",
      "  tree\n",
      "0 upgraded, 1 newly installed, 0 to remove and 39 not upgraded.\n",
      "Need to get 40.7 kB of archives.\n",
      "After this operation, 105 kB of additional disk space will be used.\n",
      "Get:1 http://archive.ubuntu.com/ubuntu bionic/universe amd64 tree amd64 1.7.0-5 [40.7 kB]\n",
      "Fetched 40.7 kB in 0s (152 kB/s)\n",
      "Selecting previously unselected package tree.\n",
      "(Reading database ... 144636 files and directories currently installed.)\n",
      "Preparing to unpack .../tree_1.7.0-5_amd64.deb ...\n",
      "Unpacking tree (1.7.0-5) ...\n",
      "Setting up tree (1.7.0-5) ...\n",
      "Processing triggers for man-db (2.8.3-2ubuntu0.1) ...\n"
     ]
    }
   ],
   "source": [
    "! apt install tree"
   ]
  },
  {
   "cell_type": "code",
   "execution_count": 130,
   "metadata": {
    "colab": {
     "base_uri": "https://localhost:8080/",
     "height": 187
    },
    "colab_type": "code",
    "id": "pdP0uI4f1nSX",
    "outputId": "95b7f253-62a2-423d-82d9-be5df712c7cc"
   },
   "outputs": [
    {
     "name": "stdout",
     "output_type": "stream",
     "text": [
      ".\n",
      "└── sample_data\n",
      "    ├── anscombe.json\n",
      "    ├── california_housing_test.csv\n",
      "    ├── california_housing_train.csv\n",
      "    ├── mnist_test.csv\n",
      "    ├── mnist_train_small.csv\n",
      "    └── README.md\n",
      "\n",
      "1 directory, 6 files\n"
     ]
    }
   ],
   "source": [
    "! tree"
   ]
  },
  {
   "cell_type": "markdown",
   "metadata": {
    "colab_type": "text",
    "id": "fK-l9ODK_f-9"
   },
   "source": [
    "Who is the owner of the files?"
   ]
  },
  {
   "cell_type": "code",
   "execution_count": 160,
   "metadata": {
    "colab": {
     "base_uri": "https://localhost:8080/",
     "height": 136
    },
    "colab_type": "code",
    "id": "o1QDvYn70zrr",
    "outputId": "5721c96f-c9a1-4f57-9108-78c23563a009"
   },
   "outputs": [
    {
     "name": "stdout",
     "output_type": "stream",
     "text": [
      "total 55504\n",
      "-rwxr-xr-x 1 root root     1697 Jan  1  2000 anscombe.json\n",
      "-rw-r--r-- 1 root root   301141 Aug 27 16:39 california_housing_test.csv\n",
      "-rw-r--r-- 1 root root  1706430 Aug 27 16:39 california_housing_train.csv\n",
      "-rw-r--r-- 1 root root 18289443 Aug 27 16:39 mnist_test.csv\n",
      "-rw-r--r-- 1 root root 36523880 Aug 27 16:39 mnist_train_small.csv\n",
      "-rwxr-xr-x 1 root root      930 Jan  1  2000 README.md\n"
     ]
    }
   ],
   "source": [
    "! ls -l sample_data"
   ]
  },
  {
   "cell_type": "markdown",
   "metadata": {
    "colab_type": "text",
    "id": "npeAjLov_oU7"
   },
   "source": [
    "Add new user. Change the owner `R`ecursively (in depth of the directory)"
   ]
  },
  {
   "cell_type": "code",
   "execution_count": 155,
   "metadata": {
    "colab": {
     "base_uri": "https://localhost:8080/",
     "height": 136
    },
    "colab_type": "code",
    "id": "hXgwwZGLq43x",
    "outputId": "03d65d8a-c508-4322-f5ce-270f404123bc"
   },
   "outputs": [
    {
     "name": "stdout",
     "output_type": "stream",
     "text": [
      "total 55M\n",
      "-rwxr-xr-x 1 me me 1.7K Jan  1  2000 anscombe.json\n",
      "-rw-r--r-- 1 me me 295K Aug 27 16:39 california_housing_test.csv\n",
      "-rw-r--r-- 1 me me 1.7M Aug 27 16:39 california_housing_train.csv\n",
      "-rw-r--r-- 1 me me  18M Aug 27 16:39 mnist_test.csv\n",
      "-rw-r--r-- 1 me me  35M Aug 27 16:39 mnist_train_small.csv\n",
      "-rwxr-xr-x 1 me me  930 Jan  1  2000 README.md\n"
     ]
    }
   ],
   "source": [
    "! useradd me\n",
    "! chown -R me:me sample_data/\n",
    "! ls -lh sample_data"
   ]
  },
  {
   "cell_type": "markdown",
   "metadata": {
    "colab_type": "text",
    "id": "0hxv-m1r_ywk"
   },
   "source": [
    "Remove the user. Check the owner"
   ]
  },
  {
   "cell_type": "code",
   "execution_count": 156,
   "metadata": {
    "colab": {
     "base_uri": "https://localhost:8080/",
     "height": 136
    },
    "colab_type": "code",
    "id": "uzc8lceA6S-x",
    "outputId": "258b15e1-2b6e-4c1d-c326-82a1efb578a0"
   },
   "outputs": [
    {
     "name": "stdout",
     "output_type": "stream",
     "text": [
      "total 55M\n",
      "-rwxr-xr-x 1 1000 1000 1.7K Jan  1  2000 anscombe.json\n",
      "-rw-r--r-- 1 1000 1000 295K Aug 27 16:39 california_housing_test.csv\n",
      "-rw-r--r-- 1 1000 1000 1.7M Aug 27 16:39 california_housing_train.csv\n",
      "-rw-r--r-- 1 1000 1000  18M Aug 27 16:39 mnist_test.csv\n",
      "-rw-r--r-- 1 1000 1000  35M Aug 27 16:39 mnist_train_small.csv\n",
      "-rwxr-xr-x 1 1000 1000  930 Jan  1  2000 README.md\n"
     ]
    }
   ],
   "source": [
    "! userdel me\n",
    "! ls -lh sample_data"
   ]
  },
  {
   "cell_type": "markdown",
   "metadata": {
    "colab_type": "text",
    "id": "AZ8GDwOJAJ_g"
   },
   "source": [
    "There is no more user `me`, but files still hold his UID (user ID) and GID (group ID): `1000`. Change back the owner"
   ]
  },
  {
   "cell_type": "code",
   "execution_count": 157,
   "metadata": {
    "colab": {
     "base_uri": "https://localhost:8080/",
     "height": 51
    },
    "colab_type": "code",
    "id": "U9MQ8wkErBsk",
    "outputId": "b87877ee-3648-4822-950c-cf009b7ad558"
   },
   "outputs": [
    {
     "name": "stdout",
     "output_type": "stream",
     "text": [
      "total 8\n",
      "drwxr-xr-x 1 root root 4096 Aug 27 16:39 sample_data\n"
     ]
    }
   ],
   "source": [
    "! chown -R root:root sample_data/\n",
    "! ls -l"
   ]
  },
  {
   "cell_type": "markdown",
   "metadata": {
    "colab_type": "text",
    "id": "WOO0gxrDDzm5"
   },
   "source": [
    "## Space"
   ]
  },
  {
   "cell_type": "markdown",
   "metadata": {
    "colab_type": "text",
    "id": "L-YwbYm1D6RN"
   },
   "source": [
    "### Disk"
   ]
  },
  {
   "cell_type": "markdown",
   "metadata": {
    "colab_type": "text",
    "id": "Xp5A55Ks7pvT"
   },
   "source": [
    "How much `sample_data` uses the disk in `s`um?"
   ]
  },
  {
   "cell_type": "code",
   "execution_count": 165,
   "metadata": {
    "colab": {
     "base_uri": "https://localhost:8080/",
     "height": 34
    },
    "colab_type": "code",
    "id": "3gU-7xjvrDxn",
    "outputId": "1d1f43cf-c89c-48fa-9b2a-6d95fc39dda1"
   },
   "outputs": [
    {
     "name": "stdout",
     "output_type": "stream",
     "text": [
      "55M\tsample_data\n"
     ]
    }
   ],
   "source": [
    "! du -hs sample_data"
   ]
  },
  {
   "cell_type": "markdown",
   "metadata": {
    "colab_type": "text",
    "id": "Ps6Oocjc8iXr"
   },
   "source": [
    "How much space is free on the disk the `/content` is mounted to?"
   ]
  },
  {
   "cell_type": "code",
   "execution_count": 168,
   "metadata": {
    "colab": {
     "base_uri": "https://localhost:8080/",
     "height": 51
    },
    "colab_type": "code",
    "id": "htcZ1-QMrQOX",
    "outputId": "ccf2a895-ce2f-41a5-e7eb-67e771a7fd6d"
   },
   "outputs": [
    {
     "name": "stdout",
     "output_type": "stream",
     "text": [
      "Filesystem      Size  Used Avail Use% Mounted on\n",
      "overlay         108G   31G   73G  30% /\n"
     ]
    }
   ],
   "source": [
    "! df -h /content"
   ]
  },
  {
   "cell_type": "markdown",
   "metadata": {
    "colab_type": "text",
    "id": "4iFBdOkSuU_F"
   },
   "source": [
    "Info about disk devices"
   ]
  },
  {
   "cell_type": "code",
   "execution_count": 201,
   "metadata": {
    "colab": {
     "base_uri": "https://localhost:8080/",
     "height": 272
    },
    "colab_type": "code",
    "id": "26Ddo0_QuAFv",
    "outputId": "8940efbc-fb48-4c30-f64c-80b495b9394c"
   },
   "outputs": [
    {
     "name": "stdout",
     "output_type": "stream",
     "text": [
      "NAME      SIZE\n",
      "loop0     110G\n",
      "sda       120G\n",
      "├─sda1  115.9G\n",
      "├─sda2     16M\n",
      "├─sda3      2G\n",
      "├─sda4     16M\n",
      "├─sda5      2G\n",
      "├─sda6    512B\n",
      "├─sda7    512B\n",
      "├─sda8     16M\n",
      "├─sda9    512B\n",
      "├─sda10   512B\n",
      "├─sda11     8M\n",
      "└─sda12    32M\n"
     ]
    }
   ],
   "source": [
    "! lsblk -o NAME,SIZE"
   ]
  },
  {
   "cell_type": "markdown",
   "metadata": {
    "colab_type": "text",
    "id": "M4gy9fsUucfA"
   },
   "source": [
    "and its' mount points"
   ]
  },
  {
   "cell_type": "code",
   "execution_count": 199,
   "metadata": {
    "colab": {
     "base_uri": "https://localhost:8080/",
     "height": 85
    },
    "colab_type": "code",
    "id": "41iHWIXBhCik",
    "outputId": "b4ce91b8-30c3-4da6-cb93-4af9a4b6515e"
   },
   "outputs": [
    {
     "name": "stdout",
     "output_type": "stream",
     "text": [
      "TARGET           FSTYPE  SIZE\n",
      "/etc/resolv.conf ext4    114G\n",
      "/etc/hostname    ext4    114G\n",
      "/etc/hosts       ext4    114G\n"
     ]
    }
   ],
   "source": [
    "! findmnt -o TARGET,FSTYPE,SIZE -t ext4"
   ]
  },
  {
   "cell_type": "markdown",
   "metadata": {
    "colab_type": "text",
    "id": "lXLgcMm8D-Bh"
   },
   "source": [
    "### Memory"
   ]
  },
  {
   "cell_type": "markdown",
   "metadata": {
    "colab_type": "text",
    "id": "k506bbwvEPtG"
   },
   "source": [
    "Free memory on CPU"
   ]
  },
  {
   "cell_type": "code",
   "execution_count": 170,
   "metadata": {
    "colab": {
     "base_uri": "https://localhost:8080/",
     "height": 68
    },
    "colab_type": "code",
    "id": "pQUOtCSosdWM",
    "outputId": "27b9f855-bc38-4eb2-b498-2a1c5149db59"
   },
   "outputs": [
    {
     "name": "stdout",
     "output_type": "stream",
     "text": [
      "              total        used        free      shared  buff/cache   available\n",
      "Mem:            12G        518M        9.9G        928K        2.3G         11G\n",
      "Swap:            0B          0B          0B\n"
     ]
    }
   ],
   "source": [
    "! free -h"
   ]
  },
  {
   "cell_type": "markdown",
   "metadata": {
    "colab_type": "text",
    "id": "wup6QgZXETae"
   },
   "source": [
    "Free memory on GPU"
   ]
  },
  {
   "cell_type": "code",
   "execution_count": 1,
   "metadata": {
    "colab": {
     "base_uri": "https://localhost:8080/",
     "height": 357
    },
    "colab_type": "code",
    "id": "A4wjQP0islF5",
    "outputId": "43e2bf0f-2637-41dd-d2fc-61e3320e5493"
   },
   "outputs": [
    {
     "name": "stdout",
     "output_type": "stream",
     "text": [
      "Wed Sep  2 08:16:28 2020       \n",
      "+-----------------------------------------------------------------------------+\n",
      "| NVIDIA-SMI 450.66       Driver Version: 418.67       CUDA Version: 10.1     |\n",
      "|-------------------------------+----------------------+----------------------+\n",
      "| GPU  Name        Persistence-M| Bus-Id        Disp.A | Volatile Uncorr. ECC |\n",
      "| Fan  Temp  Perf  Pwr:Usage/Cap|         Memory-Usage | GPU-Util  Compute M. |\n",
      "|                               |                      |               MIG M. |\n",
      "|===============================+======================+======================|\n",
      "|   0  Tesla P100-PCIE...  Off  | 00000000:00:04.0 Off |                    0 |\n",
      "| N/A   37C    P0    28W / 250W |      0MiB / 16280MiB |      0%      Default |\n",
      "|                               |                      |                 ERR! |\n",
      "+-------------------------------+----------------------+----------------------+\n",
      "                                                                               \n",
      "+-----------------------------------------------------------------------------+\n",
      "| Processes:                                                                  |\n",
      "|  GPU   GI   CI        PID   Type   Process name                  GPU Memory |\n",
      "|        ID   ID                                                   Usage      |\n",
      "|=============================================================================|\n",
      "|  No running processes found                                                 |\n",
      "+-----------------------------------------------------------------------------+\n"
     ]
    }
   ],
   "source": [
    "! nvidia-smi"
   ]
  },
  {
   "cell_type": "markdown",
   "metadata": {
    "colab_type": "text",
    "id": "KWlSRpj2H5SH"
   },
   "source": [
    "### CPU Cores"
   ]
  },
  {
   "cell_type": "markdown",
   "metadata": {
    "colab_type": "text",
    "id": "q7-68qWrIF1j"
   },
   "source": [
    "Number of logical cores"
   ]
  },
  {
   "cell_type": "code",
   "execution_count": 203,
   "metadata": {
    "colab": {
     "base_uri": "https://localhost:8080/",
     "height": 34
    },
    "colab_type": "code",
    "id": "YsqPpDuSFgKe",
    "outputId": "99ad560b-585d-4f38-93e0-abe31ea5da69"
   },
   "outputs": [
    {
     "name": "stdout",
     "output_type": "stream",
     "text": [
      "2\n"
     ]
    }
   ],
   "source": [
    "!nproc"
   ]
  },
  {
   "cell_type": "markdown",
   "metadata": {
    "colab_type": "text",
    "id": "jEo05p3mINQE"
   },
   "source": [
    "CPU info"
   ]
  },
  {
   "cell_type": "code",
   "execution_count": 204,
   "metadata": {
    "colab": {
     "base_uri": "https://localhost:8080/",
     "height": 445
    },
    "colab_type": "code",
    "id": "jaYSW7ImDu3L",
    "outputId": "2dbee54c-5e7e-43db-ade7-4cb81121bc24"
   },
   "outputs": [
    {
     "name": "stdout",
     "output_type": "stream",
     "text": [
      "Architecture:        x86_64\n",
      "CPU op-mode(s):      32-bit, 64-bit\n",
      "Byte Order:          Little Endian\n",
      "CPU(s):              2\n",
      "On-line CPU(s) list: 0,1\n",
      "Thread(s) per core:  2\n",
      "Core(s) per socket:  1\n",
      "Socket(s):           1\n",
      "NUMA node(s):        1\n",
      "Vendor ID:           GenuineIntel\n",
      "CPU family:          6\n",
      "Model:               63\n",
      "Model name:          Intel(R) Xeon(R) CPU @ 2.30GHz\n",
      "Stepping:            0\n",
      "CPU MHz:             2299.998\n",
      "BogoMIPS:            4599.99\n",
      "Hypervisor vendor:   KVM\n",
      "Virtualization type: full\n",
      "L1d cache:           32K\n",
      "L1i cache:           32K\n",
      "L2 cache:            256K\n",
      "L3 cache:            46080K\n",
      "NUMA node0 CPU(s):   0,1\n",
      "Flags:               fpu vme de pse tsc msr pae mce cx8 apic sep mtrr pge mca cmov pat pse36 clflush mmx fxsr sse sse2 ss ht syscall nx pdpe1gb rdtscp lm constant_tsc rep_good nopl xtopology nonstop_tsc cpuid tsc_known_freq pni pclmulqdq ssse3 fma cx16 pcid sse4_1 sse4_2 x2apic movbe popcnt aes xsave avx f16c rdrand hypervisor lahf_lm abm invpcid_single ssbd ibrs ibpb stibp fsgsbase tsc_adjust bmi1 avx2 smep bmi2 erms invpcid xsaveopt arat md_clear arch_capabilities\n"
     ]
    }
   ],
   "source": [
    "!lscpu"
   ]
  },
  {
   "cell_type": "markdown",
   "metadata": {
    "colab_type": "text",
    "id": "iLRAi5g_6XLw"
   },
   "source": [
    "## Namespaces"
   ]
  },
  {
   "cell_type": "markdown",
   "metadata": {
    "colab_type": "text",
    "id": "jeCAZ7-TT5GC"
   },
   "source": [
    "As you might see `echo` command outputs text string to the terminal."
   ]
  },
  {
   "cell_type": "markdown",
   "metadata": {
    "colab_type": "text",
    "id": "ayGY37roQgbz"
   },
   "source": [
    "To understand interrelations between parent and child shells, let's create shell-script `inside.sh` with the following content\n",
    "\n",
    "```\n",
    "echo \"inside: $namespace PID:$$\"\n",
    "namespace=internal\n",
    "echo \"inside: $namespace PID:$$\"\n",
    "```\n",
    "\n",
    "You can do it with changing the context of commands output."
   ]
  },
  {
   "cell_type": "markdown",
   "metadata": {
    "colab_type": "text",
    "id": "EF8K_FIjSKjR"
   },
   "source": [
    "### Operator `>`\n",
    "\n",
    "redirects shell-command output from the terminal to the *head* of the file"
   ]
  },
  {
   "cell_type": "code",
   "execution_count": 119,
   "metadata": {
    "colab": {
     "base_uri": "https://localhost:8080/",
     "height": 34
    },
    "colab_type": "code",
    "id": "W5sIFbRJX9Ng",
    "outputId": "91149ae2-e940-4a6e-fe21-35e33a539d6a"
   },
   "outputs": [
    {
     "name": "stdout",
     "output_type": "stream",
     "text": [
      "rm: cannot remove 'inside.sh': No such file or directory\n"
     ]
    }
   ],
   "source": [
    "! rm inside.sh # To make sure inside.sh does not exist"
   ]
  },
  {
   "cell_type": "code",
   "execution_count": 120,
   "metadata": {
    "colab": {
     "base_uri": "https://localhost:8080/",
     "height": 51
    },
    "colab_type": "code",
    "id": "OlFU8z8eNT4x",
    "outputId": "d9d1e6cb-0508-43c0-8176-2743823adc8b"
   },
   "outputs": [
    {
     "name": "stdout",
     "output_type": "stream",
     "text": [
      "-rw-r--r-- 1 root root 34 Sep  4 10:47 inside.sh\n",
      " 1  5 34 inside.sh\n"
     ]
    }
   ],
   "source": [
    "! echo 'echo \" inside: $namespace PID:$$\"' > inside.sh\n",
    "! ls -l inside.sh\n",
    "! wc inside.sh"
   ]
  },
  {
   "cell_type": "markdown",
   "metadata": {
    "colab_type": "text",
    "id": "29y7g_TVTYjC"
   },
   "source": [
    "### Operator `>>`\n",
    "\n",
    "redirects shell-command output from the terminal to the *tail* of the file"
   ]
  },
  {
   "cell_type": "code",
   "execution_count": 121,
   "metadata": {
    "colab": {
     "base_uri": "https://localhost:8080/",
     "height": 51
    },
    "colab_type": "code",
    "id": "UKtG2VRhN9oD",
    "outputId": "4efb7d47-74b8-4e03-bb66-1cad8231d77f"
   },
   "outputs": [
    {
     "name": "stdout",
     "output_type": "stream",
     "text": [
      "-rw-r--r-- 1 root root 53 Sep  4 10:47 inside.sh\n",
      " 2  6 53 inside.sh\n"
     ]
    }
   ],
   "source": [
    "! echo 'namespace=internal' >> inside.sh\n",
    "! ls -l inside.sh\n",
    "! wc inside.sh"
   ]
  },
  {
   "cell_type": "code",
   "execution_count": 122,
   "metadata": {
    "colab": {
     "base_uri": "https://localhost:8080/",
     "height": 51
    },
    "colab_type": "code",
    "id": "CoSfmMYkN91V",
    "outputId": "5d47284c-5f4c-4d29-f0ef-2f1a5cfee549"
   },
   "outputs": [
    {
     "name": "stdout",
     "output_type": "stream",
     "text": [
      "-rw-r--r-- 1 root root 87 Sep  4 10:47 inside.sh\n",
      " 3 11 87 inside.sh\n"
     ]
    }
   ],
   "source": [
    "! echo 'echo \" inside: $namespace PID:$$\"' >> inside.sh\n",
    "! ls -l inside.sh\n",
    "! wc inside.sh"
   ]
  },
  {
   "cell_type": "markdown",
   "metadata": {
    "colab_type": "text",
    "id": "meQaTUdNUNBb"
   },
   "source": [
    "You haven't seen any output of `echo` that has been input for `inside.sh`"
   ]
  },
  {
   "cell_type": "code",
   "execution_count": 123,
   "metadata": {
    "colab": {
     "base_uri": "https://localhost:8080/",
     "height": 68
    },
    "colab_type": "code",
    "id": "oIHUHmr0RcTV",
    "outputId": "bd573a7d-4310-404d-d3b7-251606c3a5c2"
   },
   "outputs": [
    {
     "name": "stdout",
     "output_type": "stream",
     "text": [
      "echo \" inside: $namespace PID:$$\"\n",
      "namespace=internal\n",
      "echo \" inside: $namespace PID:$$\"\n"
     ]
    }
   ],
   "source": [
    "! cat inside.sh"
   ]
  },
  {
   "cell_type": "markdown",
   "metadata": {
    "colab_type": "text",
    "id": "SxkB0X0nAAUD"
   },
   "source": [
    "### Sub-shell and Super-shell"
   ]
  },
  {
   "cell_type": "code",
   "execution_count": 86,
   "metadata": {
    "colab": {
     "base_uri": "https://localhost:8080/",
     "height": 85
    },
    "colab_type": "code",
    "id": "TGLcOL10-DWT",
    "outputId": "79fa7993-d829-48d5-dc05-048b8092c93b"
   },
   "outputs": [
    {
     "name": "stdout",
     "output_type": "stream",
     "text": [
      "outside: external PID:2656\n",
      " inside: external PID:2656\n",
      " inside: internal PID:2656\n",
      "outside: internal PID:2656\n"
     ]
    }
   ],
   "source": [
    "! namespace=external; echo \"outside: $namespace PID:$$\"; . inside.sh; echo \"outside: $namespace PID:$$\""
   ]
  },
  {
   "cell_type": "code",
   "execution_count": 87,
   "metadata": {
    "colab": {
     "base_uri": "https://localhost:8080/",
     "height": 85
    },
    "colab_type": "code",
    "id": "RKWRENgB6sE9",
    "outputId": "1e9cfdfb-81a9-4a18-f3b6-78f3d6e6344a"
   },
   "outputs": [
    {
     "name": "stdout",
     "output_type": "stream",
     "text": [
      "outside: external PID:2660\n",
      " inside: external PID:2660\n",
      " inside: internal PID:2660\n",
      "outside: internal PID:2660\n"
     ]
    }
   ],
   "source": [
    "! namespace=external; echo \"outside: $namespace PID:$$\"; source inside.sh; echo \"outside: $namespace PID:$$\""
   ]
  },
  {
   "cell_type": "code",
   "execution_count": 88,
   "metadata": {
    "colab": {
     "base_uri": "https://localhost:8080/",
     "height": 85
    },
    "colab_type": "code",
    "id": "9aOdLpwhbLhr",
    "outputId": "438a3840-1912-4fa3-8316-1a9a5e202c01"
   },
   "outputs": [
    {
     "name": "stdout",
     "output_type": "stream",
     "text": [
      "outside: external PID:2664\n",
      " inside: external PID:2664\n",
      " inside: internal PID:2664\n",
      "outside: external PID:2664\n"
     ]
    }
   ],
   "source": [
    "! namespace=external; echo \"outside: $namespace PID:$$\"; (source inside.sh); echo \"outside: $namespace PID:$$\""
   ]
  },
  {
   "cell_type": "code",
   "execution_count": 89,
   "metadata": {
    "colab": {
     "base_uri": "https://localhost:8080/",
     "height": 85
    },
    "colab_type": "code",
    "id": "CyK20UW8eYa0",
    "outputId": "7e662270-3138-47e9-cd98-fa5e0b6696d3"
   },
   "outputs": [
    {
     "name": "stdout",
     "output_type": "stream",
     "text": [
      "outside: external PID:2669\n",
      " inside: external PID:2669\n",
      " inside: internal PID:2669\n",
      "outside:  PID:2669\n"
     ]
    }
   ],
   "source": [
    "! (namespace=external; echo \"outside: $namespace PID:$$\"; source inside.sh); echo \"outside: $namespace PID:$$\""
   ]
  },
  {
   "cell_type": "code",
   "execution_count": 90,
   "metadata": {
    "colab": {
     "base_uri": "https://localhost:8080/",
     "height": 85
    },
    "colab_type": "code",
    "id": "Z_MTa7Tzekug",
    "outputId": "6357c271-2a27-4c7d-f091-a9ea81e858fe"
   },
   "outputs": [
    {
     "name": "stdout",
     "output_type": "stream",
     "text": [
      "outside: external PID:2674\n",
      " inside: external PID:2674\n",
      " inside: internal PID:2674\n",
      "outside:  PID:2674\n"
     ]
    }
   ],
   "source": [
    "! namespace=external; echo \"outside: $namespace PID:$$\"; source inside.sh; unset namespace; echo \"outside: $namespace PID:$$\""
   ]
  },
  {
   "cell_type": "code",
   "execution_count": 91,
   "metadata": {
    "colab": {
     "base_uri": "https://localhost:8080/",
     "height": 85
    },
    "colab_type": "code",
    "id": "c4q7mGJh-DxD",
    "outputId": "417f2598-fe59-465e-dec5-e58b4f60fa12"
   },
   "outputs": [
    {
     "name": "stdout",
     "output_type": "stream",
     "text": [
      "outside: external PID:2699\n",
      " inside:  PID:2700\n",
      " inside: internal PID:2700\n",
      "outside: external PID:2699\n"
     ]
    }
   ],
   "source": [
    "! namespace=external; echo \"outside: $namespace PID:$$\"; sh inside.sh; echo \"outside: $namespace PID:$$\""
   ]
  },
  {
   "cell_type": "code",
   "execution_count": 130,
   "metadata": {
    "colab": {
     "base_uri": "https://localhost:8080/",
     "height": 714
    },
    "colab_type": "code",
    "id": "0p5zDMP4zku4",
    "outputId": "d80f1408-d75d-4367-e520-00e1fbe89512"
   },
   "outputs": [
    {
     "name": "stdout",
     "output_type": "stream",
     "text": [
      "CUDNN_VERSION=7.6.5.32\n",
      "LD_LIBRARY_PATH=/usr/local/nvidia/lib:/usr/local/nvidia/lib64\n",
      "CLOUDSDK_PYTHON=python3\n",
      "_=/usr/bin/printenv\n",
      "LANG=en_US.UTF-8\n",
      "HOSTNAME=c42321bfafed\n",
      "OLDPWD=/\n",
      "CLOUDSDK_CONFIG=/content/.config\n",
      "NVIDIA_VISIBLE_DEVICES=all\n",
      "DATALAB_SETTINGS_OVERRIDES={\"kernelManagerProxyPort\":6000,\"kernelManagerProxyHost\":\"172.28.0.3\",\"jupyterArgs\":[\"--ip=\\\"172.28.0.2\\\"\"]}\n",
      "ENV=/root/.bashrc\n",
      "PAGER=cat\n",
      "NCCL_VERSION=2.4.8\n",
      "TF_FORCE_GPU_ALLOW_GROWTH=true\n",
      "JPY_PARENT_PID=24\n",
      "NO_GCE_CHECK=True\n",
      "PWD=/content\n",
      "HOME=/root\n",
      "LAST_FORCED_REBUILD=20200821\n",
      "CLICOLOR=1\n",
      "DEBIAN_FRONTEND=noninteractive\n",
      "LIBRARY_PATH=/usr/local/cuda/lib64/stubs\n",
      "GCE_METADATA_TIMEOUT=0\n",
      "GLIBCPP_FORCE_NEW=1\n",
      "TBE_CREDS_ADDR=172.28.0.1:8008\n",
      "TERM=xterm-color\n",
      "SHELL=/bin/bash\n",
      "GCS_READ_CACHE_BLOCK_SIZE_MB=16\n",
      "PYTHONWARNINGS=ignore:::pip._internal.cli.base_command\n",
      "MPLBACKEND=module://ipykernel.pylab.backend_inline\n",
      "CUDA_PKG_VERSION=10-1=10.1.243-1\n",
      "CUDA_VERSION=10.1.243\n",
      "NVIDIA_DRIVER_CAPABILITIES=compute,utility\n",
      "SHLVL=2\n",
      "PYTHONPATH=/env/python\n",
      "NVIDIA_REQUIRE_CUDA=cuda>=10.1 brand=tesla,driver>=384,driver<385 brand=tesla,driver>=396,driver<397 brand=tesla,driver>=410,driver<411\n",
      "COLAB_GPU=0\n",
      "GLIBCXX_FORCE_NEW=1\n",
      "PATH=/usr/local/nvidia/bin:/usr/local/cuda/bin:/usr/local/sbin:/usr/local/bin:/usr/sbin:/usr/bin:/sbin:/bin:/tools/node/bin:/tools/google-cloud-sdk/bin:/opt/bin\n",
      "LD_PRELOAD=/usr/lib/x86_64-linux-gnu/libtcmalloc.so.4\n",
      "GIT_PAGER=cat\n"
     ]
    }
   ],
   "source": [
    "! printenv"
   ]
  },
  {
   "cell_type": "code",
   "execution_count": 131,
   "metadata": {
    "colab": {
     "base_uri": "https://localhost:8080/",
     "height": 714
    },
    "colab_type": "code",
    "id": "Otmxh5MSz33L",
    "outputId": "0b137dbd-3061-4361-d999-31dd4af640f0"
   },
   "outputs": [
    {
     "name": "stdout",
     "output_type": "stream",
     "text": [
      "CUDNN_VERSION=7.6.5.32\n",
      "LD_LIBRARY_PATH=/usr/local/nvidia/lib:/usr/local/nvidia/lib64\n",
      "CLOUDSDK_PYTHON=python3\n",
      "_=/usr/bin/env\n",
      "LANG=en_US.UTF-8\n",
      "HOSTNAME=c42321bfafed\n",
      "OLDPWD=/\n",
      "CLOUDSDK_CONFIG=/content/.config\n",
      "NVIDIA_VISIBLE_DEVICES=all\n",
      "DATALAB_SETTINGS_OVERRIDES={\"kernelManagerProxyPort\":6000,\"kernelManagerProxyHost\":\"172.28.0.3\",\"jupyterArgs\":[\"--ip=\\\"172.28.0.2\\\"\"]}\n",
      "ENV=/root/.bashrc\n",
      "PAGER=cat\n",
      "NCCL_VERSION=2.4.8\n",
      "TF_FORCE_GPU_ALLOW_GROWTH=true\n",
      "JPY_PARENT_PID=24\n",
      "NO_GCE_CHECK=True\n",
      "PWD=/content\n",
      "HOME=/root\n",
      "LAST_FORCED_REBUILD=20200821\n",
      "CLICOLOR=1\n",
      "DEBIAN_FRONTEND=noninteractive\n",
      "LIBRARY_PATH=/usr/local/cuda/lib64/stubs\n",
      "GCE_METADATA_TIMEOUT=0\n",
      "GLIBCPP_FORCE_NEW=1\n",
      "TBE_CREDS_ADDR=172.28.0.1:8008\n",
      "TERM=xterm-color\n",
      "SHELL=/bin/bash\n",
      "GCS_READ_CACHE_BLOCK_SIZE_MB=16\n",
      "PYTHONWARNINGS=ignore:::pip._internal.cli.base_command\n",
      "MPLBACKEND=module://ipykernel.pylab.backend_inline\n",
      "CUDA_PKG_VERSION=10-1=10.1.243-1\n",
      "CUDA_VERSION=10.1.243\n",
      "NVIDIA_DRIVER_CAPABILITIES=compute,utility\n",
      "SHLVL=2\n",
      "PYTHONPATH=/env/python\n",
      "NVIDIA_REQUIRE_CUDA=cuda>=10.1 brand=tesla,driver>=384,driver<385 brand=tesla,driver>=396,driver<397 brand=tesla,driver>=410,driver<411\n",
      "COLAB_GPU=0\n",
      "GLIBCXX_FORCE_NEW=1\n",
      "PATH=/usr/local/nvidia/bin:/usr/local/cuda/bin:/usr/local/sbin:/usr/local/bin:/usr/sbin:/usr/bin:/sbin:/bin:/tools/node/bin:/tools/google-cloud-sdk/bin:/opt/bin\n",
      "LD_PRELOAD=/usr/lib/x86_64-linux-gnu/libtcmalloc.so.4\n",
      "GIT_PAGER=cat\n"
     ]
    }
   ],
   "source": [
    "! env"
   ]
  },
  {
   "cell_type": "code",
   "execution_count": 92,
   "metadata": {
    "colab": {
     "base_uri": "https://localhost:8080/",
     "height": 85
    },
    "colab_type": "code",
    "id": "UI6tOjikexcn",
    "outputId": "f88018be-0523-4407-e813-d80f064cfdb4"
   },
   "outputs": [
    {
     "name": "stdout",
     "output_type": "stream",
     "text": [
      "outside: external PID:2704\n",
      " inside: external PID:2705\n",
      " inside: internal PID:2705\n",
      "outside: external PID:2704\n"
     ]
    }
   ],
   "source": [
    "! namespace=external; echo \"outside: $namespace PID:$$\"; export namespace; sh inside.sh; echo \"outside: $namespace PID:$$\""
   ]
  },
  {
   "cell_type": "code",
   "execution_count": 93,
   "metadata": {
    "colab": {
     "base_uri": "https://localhost:8080/",
     "height": 68
    },
    "colab_type": "code",
    "id": "p6q5OccVFg2B",
    "outputId": "5ae82941-914e-455d-f703-caca4dd2ae6e"
   },
   "outputs": [
    {
     "name": "stdout",
     "output_type": "stream",
     "text": [
      "outside: external PID:2709\n",
      " inside:  PID:2709\n",
      " inside: internal PID:2709\n"
     ]
    }
   ],
   "source": [
    "! namespace=external; echo \"outside: $namespace PID:$$\"; exec ./inside.sh; echo \"outside: $namespace PID:$$\""
   ]
  },
  {
   "cell_type": "code",
   "execution_count": 100,
   "metadata": {
    "colab": {
     "base_uri": "https://localhost:8080/",
     "height": 85
    },
    "colab_type": "code",
    "id": "oXwmJOiLNMQO",
    "outputId": "53f47e90-49f4-4378-cc93-76a855ed5828"
   },
   "outputs": [
    {
     "name": "stdout",
     "output_type": "stream",
     "text": [
      "outside: external PID:2798\n",
      " inside:  PID:2799\n",
      " inside: internal PID:2799\n",
      "outside: internal PID:2799\n"
     ]
    }
   ],
   "source": [
    "! namespace=external; echo \"outside: $namespace PID:$$\"; bash -c 'source inside.sh; echo \"outside: $namespace PID:$$\"'"
   ]
  },
  {
   "cell_type": "code",
   "execution_count": 95,
   "metadata": {
    "colab": {
     "base_uri": "https://localhost:8080/",
     "height": 85
    },
    "colab_type": "code",
    "id": "Pgl7dlbYfRXQ",
    "outputId": "bd9e9abb-706f-4b65-ca94-fd831d38f1a9"
   },
   "outputs": [
    {
     "name": "stdout",
     "output_type": "stream",
     "text": [
      "outside: external PID:2754\n",
      " inside:  PID:2756\n",
      " inside: internal PID:2756\n",
      "outside: external PID:2754\n"
     ]
    }
   ],
   "source": [
    "! namespace=external; echo \"outside: $namespace PID:$$\"; (sh inside.sh; echo \"outside: $namespace PID:$$\")"
   ]
  },
  {
   "cell_type": "code",
   "execution_count": 96,
   "metadata": {
    "colab": {
     "base_uri": "https://localhost:8080/",
     "height": 51
    },
    "colab_type": "code",
    "id": "VIm7Q4E-lqPG",
    "outputId": "e5791555-469a-48ea-e555-31b82968bbac"
   },
   "outputs": [
    {
     "name": "stdout",
     "output_type": "stream",
     "text": [
      "/bin/bash: -c: line 0: syntax error near unexpected token `inside.sh'\n",
      "/bin/bash: -c: line 0: ` namespace=external; echo \"outside: $namespace PID:$$\"; sh (inside.sh; echo \"outside: $namespace PID:$$\")'\n"
     ]
    }
   ],
   "source": [
    "! namespace=external; echo \"outside: $namespace PID:$$\"; sh (inside.sh; echo \"outside: $namespace PID:$$\")"
   ]
  },
  {
   "cell_type": "code",
   "execution_count": 101,
   "metadata": {
    "colab": {
     "base_uri": "https://localhost:8080/",
     "height": 85
    },
    "colab_type": "code",
    "id": "OzkOfoDkmjZT",
    "outputId": "f3d5d3d9-de7d-434d-968d-6ba66962b395"
   },
   "outputs": [
    {
     "name": "stdout",
     "output_type": "stream",
     "text": [
      "outside: external PID:2848\n",
      " inside: external PID:2848\n",
      " inside: internal PID:2848\n",
      "outside: internal PID:2848\n"
     ]
    }
   ],
   "source": [
    "! namespace=external; echo \"outside: $namespace PID:$$\"; (source inside.sh; echo \"outside: $namespace PID:$$\")"
   ]
  },
  {
   "cell_type": "markdown",
   "metadata": {
    "colab_type": "text",
    "id": "QDXKxwm5HpA4"
   },
   "source": [
    "### Subsstitutions"
   ]
  },
  {
   "cell_type": "markdown",
   "metadata": {
    "colab_type": "text",
    "id": "kBFkcu7zHsE6"
   },
   "source": [
    "Shell strings (quoted stuff) possess ability to be constant or variable. Compare"
   ]
  },
  {
   "cell_type": "code",
   "execution_count": 9,
   "metadata": {
    "colab": {
     "base_uri": "https://localhost:8080/",
     "height": 34
    },
    "colab_type": "code",
    "id": "Yky2IcTIJS9w",
    "outputId": "3701b456-5076-4c6d-82e7-6130de1177c2"
   },
   "outputs": [
    {
     "name": "stdout",
     "output_type": "stream",
     "text": [
      "external\n"
     ]
    }
   ],
   "source": [
    "! namespace=external; echo $namespace"
   ]
  },
  {
   "cell_type": "code",
   "execution_count": 11,
   "metadata": {
    "colab": {
     "base_uri": "https://localhost:8080/",
     "height": 34
    },
    "colab_type": "code",
    "id": "QrSWIMZ9Jew2",
    "outputId": "5f06afe4-b9c9-48fd-ac54-434b9ad9cbc6"
   },
   "outputs": [
    {
     "name": "stdout",
     "output_type": "stream",
     "text": [
      "external\n"
     ]
    }
   ],
   "source": [
    "! namespace=external; echo \"$namespace\""
   ]
  },
  {
   "cell_type": "code",
   "execution_count": 10,
   "metadata": {
    "colab": {
     "base_uri": "https://localhost:8080/",
     "height": 34
    },
    "colab_type": "code",
    "id": "pKQ9sqZxJZyw",
    "outputId": "9372af71-0e37-4c5a-88a9-8621758a5fbb"
   },
   "outputs": [
    {
     "name": "stdout",
     "output_type": "stream",
     "text": [
      "$namespace\n"
     ]
    }
   ],
   "source": [
    "! namespace=external; echo '$namespace'"
   ]
  },
  {
   "cell_type": "code",
   "execution_count": 12,
   "metadata": {
    "colab": {
     "base_uri": "https://localhost:8080/",
     "height": 34
    },
    "colab_type": "code",
    "id": "JdrXrVUDJqTx",
    "outputId": "badd8f18-e4a2-4ddc-d91f-d08a350246d9"
   },
   "outputs": [
    {
     "name": "stdout",
     "output_type": "stream",
     "text": [
      "external    external\n"
     ]
    }
   ],
   "source": [
    "! namespace=external; echo \"$namespace    $namespace\""
   ]
  },
  {
   "cell_type": "code",
   "execution_count": 13,
   "metadata": {
    "colab": {
     "base_uri": "https://localhost:8080/",
     "height": 34
    },
    "colab_type": "code",
    "id": "NCsqGInYJycu",
    "outputId": "996f6555-86d8-4cba-c850-9879759ff3e2"
   },
   "outputs": [
    {
     "name": "stdout",
     "output_type": "stream",
     "text": [
      "external external\n"
     ]
    }
   ],
   "source": [
    "! namespace=external; echo $namespace    $namespace"
   ]
  },
  {
   "cell_type": "code",
   "execution_count": 7,
   "metadata": {
    "colab": {
     "base_uri": "https://localhost:8080/",
     "height": 34
    },
    "colab_type": "code",
    "id": "OO6Xw-8UJGtG",
    "outputId": "55bc9e12-48e1-4702-9e47-5d52a2458148"
   },
   "outputs": [
    {
     "name": "stdout",
     "output_type": "stream",
     "text": [
      "internal\n"
     ]
    }
   ],
   "source": [
    "! namespace=external; sh -c 'namespace=internal; echo $namespace'"
   ]
  },
  {
   "cell_type": "code",
   "execution_count": 8,
   "metadata": {
    "colab": {
     "base_uri": "https://localhost:8080/",
     "height": 34
    },
    "colab_type": "code",
    "id": "z0_46sg-JPs7",
    "outputId": "4c7ece2e-037e-4245-d7ee-5f13b9bf08ce"
   },
   "outputs": [
    {
     "name": "stdout",
     "output_type": "stream",
     "text": [
      "external\n"
     ]
    }
   ],
   "source": [
    "! namespace=external; sh -c \"namespace=internal; echo $namespace\""
   ]
  },
  {
   "cell_type": "markdown",
   "metadata": {
    "colab_type": "text",
    "id": "YAKbKoxuW1Sx"
   },
   "source": [
    "---"
   ]
  },
  {
   "cell_type": "markdown",
   "metadata": {
    "colab_type": "text",
    "id": "yXbBrPM-BDWt"
   },
   "source": [
    "### Permissions"
   ]
  },
  {
   "cell_type": "markdown",
   "metadata": {
    "colab_type": "text",
    "id": "E4iyI1rWW4on"
   },
   "source": [
    "Although `inside.sh` extension `.sh` means executing by shell, you can't execute text file ordinary way until you make it executable"
   ]
  },
  {
   "cell_type": "code",
   "execution_count": 41,
   "metadata": {
    "colab": {
     "base_uri": "https://localhost:8080/",
     "height": 34
    },
    "colab_type": "code",
    "id": "fsDltSOoXqug",
    "outputId": "531f05d3-afd8-4fd6-9d3b-d436d5dbd742"
   },
   "outputs": [
    {
     "name": "stdout",
     "output_type": "stream",
     "text": [
      "/bin/bash: ./inside.sh: Permission denied\n"
     ]
    }
   ],
   "source": [
    "! ./inside.sh"
   ]
  },
  {
   "cell_type": "markdown",
   "metadata": {
    "colab_type": "text",
    "id": "8eZvNINCWJP7"
   },
   "source": [
    "Change permission mode of `inside.sh` to e`x`ecutable for the owner (`u`ser)"
   ]
  },
  {
   "cell_type": "code",
   "execution_count": 42,
   "metadata": {
    "colab": {
     "base_uri": "https://localhost:8080/",
     "height": 34
    },
    "colab_type": "code",
    "id": "Ea3VaHNkOuuI",
    "outputId": "58492de5-c086-40d4-b2c7-933c2d071367"
   },
   "outputs": [
    {
     "name": "stdout",
     "output_type": "stream",
     "text": [
      "-rwxr--r-- 1 root root 87 Sep  4 08:51 inside.sh\n"
     ]
    }
   ],
   "source": [
    "! chmod u+x inside.sh\n",
    "! ls -l inside.sh"
   ]
  },
  {
   "cell_type": "code",
   "execution_count": 43,
   "metadata": {
    "colab": {
     "base_uri": "https://localhost:8080/",
     "height": 51
    },
    "colab_type": "code",
    "id": "8G7cAMYNPK8s",
    "outputId": "bfea9620-0a88-4164-c985-35c6e716cf75"
   },
   "outputs": [
    {
     "name": "stdout",
     "output_type": "stream",
     "text": [
      "-rwxrw-r-- 1 root root 87 Sep  4 08:51 inside.sh\n",
      "-rwx------ 1 root root 87 Sep  4 08:51 inside.sh\n"
     ]
    }
   ],
   "source": [
    "! chmod g+w inside.sh\n",
    "! ls -l inside.sh\n",
    "! chmod go-rw inside.sh\n",
    "! ls -l inside.sh"
   ]
  },
  {
   "cell_type": "code",
   "execution_count": 83,
   "metadata": {
    "colab": {
     "base_uri": "https://localhost:8080/",
     "height": 85
    },
    "colab_type": "code",
    "id": "9DSR8ZpB-PBa",
    "outputId": "ee900b30-6d64-45dc-e86e-d001b8da63e6"
   },
   "outputs": [
    {
     "name": "stdout",
     "output_type": "stream",
     "text": [
      "outside: external PID:2619\n",
      " inside:  PID:2620\n",
      " inside: internal PID:2620\n",
      "outside: external PID:2619\n"
     ]
    }
   ],
   "source": [
    "! namespace=external; echo \"outside: $namespace PID:$$\"; ./inside.sh; echo \"outside: $namespace PID:$$\""
   ]
  },
  {
   "cell_type": "code",
   "execution_count": 85,
   "metadata": {
    "colab": {
     "base_uri": "https://localhost:8080/",
     "height": 153
    },
    "colab_type": "code",
    "id": "TC89m6_mcV4W",
    "outputId": "ef94b740-f1e2-4919-fbf1-cdce64fdc85f"
   },
   "outputs": [
    {
     "name": "stdout",
     "output_type": "stream",
     "text": [
      "/content\n",
      "/content\n",
      "outside: external PID:2635\n",
      " inside:  PID:2636\n",
      " inside: internal PID:2636\n",
      "outside: external PID:2635\n",
      "/\n",
      "/content\n"
     ]
    }
   ],
   "source": [
    "! pwd; echo $PWD\n",
    "! cd ..; namespace=external; echo \"outside: $namespace PID:$$\"; content/inside.sh; echo \"outside: $namespace PID:$$\"; pwd\n",
    "! pwd"
   ]
  },
  {
   "cell_type": "code",
   "execution_count": 103,
   "metadata": {
    "colab": {
     "base_uri": "https://localhost:8080/",
     "height": 51
    },
    "colab_type": "code",
    "id": "W4F50AL0n_Gh",
    "outputId": "66ca2336-b9d7-478d-fd4e-a1e5b0590944"
   },
   "outputs": [
    {
     "name": "stdout",
     "output_type": "stream",
     "text": [
      "     1\techo \" inside: $namespace PID:$$\"\n",
      "     2\tnamespace=internal\n"
     ]
    }
   ],
   "source": [
    "! cat -n inside.sh | head -2"
   ]
  },
  {
   "cell_type": "markdown",
   "metadata": {
    "colab_type": "text",
    "id": "tCSmuTBjWhXC"
   },
   "source": [
    "---"
   ]
  },
  {
   "cell_type": "markdown",
   "metadata": {
    "colab_type": "text",
    "id": "XoVcrxPkijGR"
   },
   "source": [
    "When you wonder what command in the script is outputting to terminal, you can enable debug mode `set -x` on the head of the script"
   ]
  },
  {
   "cell_type": "code",
   "execution_count": 77,
   "metadata": {
    "colab": {
     "base_uri": "https://localhost:8080/",
     "height": 102
    },
    "colab_type": "code",
    "id": "M6sjoxhqTj1j",
    "outputId": "b76954eb-47e8-43cb-a9f5-a98d95e7b460"
   },
   "outputs": [
    {
     "name": "stdout",
     "output_type": "stream",
     "text": [
      "++ echo ' inside:  PID:2077'\n",
      " inside:  PID:2077\n",
      "++ namespace=internal\n",
      "++ echo ' inside: internal PID:2077'\n",
      " inside: internal PID:2077\n"
     ]
    }
   ],
   "source": [
    "! sed -i '1s/^/set -x\\n/' inside.sh\n",
    "! ./inside.sh\n",
    "! sed -i '1d' inside.sh"
   ]
  },
  {
   "cell_type": "code",
   "execution_count": 80,
   "metadata": {
    "colab": {
     "base_uri": "https://localhost:8080/",
     "height": 102
    },
    "colab_type": "code",
    "id": "6wTEx1XnVwIj",
    "outputId": "d6492c45-8999-458a-f0dc-d2c102902661"
   },
   "outputs": [
    {
     "name": "stdout",
     "output_type": "stream",
     "text": [
      "namespace=internal\n",
      "echo \" inside: $namespace PID:$$\"\n",
      "echo \" inside: $namespace PID:$$\"\n",
      "namespace=internal\n",
      "echo \" inside: $namespace PID:$$\"\n"
     ]
    }
   ],
   "source": [
    "! sed '1d' inside.sh; cat inside.sh"
   ]
  },
  {
   "cell_type": "code",
   "execution_count": 113,
   "metadata": {
    "colab": {
     "base_uri": "https://localhost:8080/",
     "height": 119
    },
    "colab_type": "code",
    "id": "RgWIcV_ViG4K",
    "outputId": "4ec09341-af71-4ea5-d914-c1cd4a065eee"
   },
   "outputs": [
    {
     "name": "stdout",
     "output_type": "stream",
     "text": [
      "SET -xSET -xSET -x\n",
      "SET -xSET -xecho \" inside: $namespace PID:$$\"\n",
      "SET -xSET -xSET -x\n",
      "SET -xSET -xnamespace=internal\n",
      "SET -xSET -xSET -x\n",
      "SET -xSET -xecho \" inside: $namespace PID:$$\"\n"
     ]
    }
   ],
   "source": [
    "! sed -i 's/set/SET/g' inside.sh; cat inside.sh"
   ]
  },
  {
   "cell_type": "code",
   "execution_count": 144,
   "metadata": {
    "colab": {
     "base_uri": "https://localhost:8080/",
     "height": 1000
    },
    "colab_type": "code",
    "id": "vN5M1uVcGVJV",
    "outputId": "2fe2e5cd-e070-4018-de44-9de4552a564e"
   },
   "outputs": [
    {
     "name": "stdout",
     "output_type": "stream",
     "text": [
      "_\n",
      "BASH\n",
      "BASH_ALIASES\n",
      "BASH_ARGC\n",
      "BASH_ARGV\n",
      "BASH_CMDS\n",
      "BASH_EXECUTION_STRING\n",
      "BASH_LINENO\n",
      "BASHOPTS\n",
      "BASH_SOURCE\n",
      "BASH_VERSINFO\n",
      "BASH_VERSION\n",
      "CLICOLOR\n",
      "CLOUDSDK_CONFIG\n",
      "CLOUDSDK_PYTHON\n",
      "COLAB_GPU\n",
      "CUDA_PKG_VERSION\n",
      "CUDA_VERSION\n",
      "CUDNN_VERSION\n",
      "DATALAB_SETTINGS_OVERRIDES\n",
      "DEBIAN_FRONTEND\n",
      "DIRSTACK\n",
      "ENV\n",
      "EUID\n",
      "GCE_METADATA_TIMEOUT\n",
      "GCS_READ_CACHE_BLOCK_SIZE_MB\n",
      "GIT_PAGER\n",
      "GLIBCPP_FORCE_NEW\n",
      "GLIBCXX_FORCE_NEW\n",
      "GROUPS\n",
      "HOME\n",
      "HOSTNAME\n",
      "HOSTTYPE\n",
      "IFS\n",
      "JPY_PARENT_PID\n",
      "LANG\n",
      "LAST_FORCED_REBUILD\n",
      "LD_LIBRARY_PATH\n",
      "LD_PRELOAD\n",
      "LIBRARY_PATH\n",
      "MACHTYPE\n",
      "MPLBACKEND\n",
      "NCCL_VERSION\n",
      "NO_GCE_CHECK\n",
      "NVIDIA_DRIVER_CAPABILITIES\n",
      "NVIDIA_REQUIRE_CUDA\n",
      "NVIDIA_VISIBLE_DEVICES\n",
      "OLDPWD\n",
      "OPTERR\n",
      "OPTIND\n",
      "OSTYPE\n",
      "PAGER\n",
      "PATH\n",
      "PPID\n",
      "PS4\n",
      "PWD\n",
      "PYTHONPATH\n",
      "PYTHONWARNINGS\n",
      "SHELL\n",
      "SHELLOPTS\n",
      "SHLVL\n",
      "TBE_CREDS_ADDR\n",
      "TERM\n",
      "TF_FORCE_GPU_ALLOW_GROWTH\n",
      "UID\n"
     ]
    }
   ],
   "source": [
    "!set | cut -d= -f1 | sort"
   ]
  },
  {
   "cell_type": "code",
   "execution_count": 114,
   "metadata": {
    "colab": {
     "base_uri": "https://localhost:8080/",
     "height": 255
    },
    "colab_type": "code",
    "id": "yKQHeDbsqxcq",
    "outputId": "b22bbdc8-e52f-4e55-a19a-e61feb413258"
   },
   "outputs": [
    {
     "name": "stdout",
     "output_type": "stream",
     "text": [
      "BASH\n",
      "BASHOPTS\n",
      "DIRSTACK\n",
      "EUID\n",
      "GROUPS\n",
      "HOSTTYPE\n",
      "IFS\n",
      "MACHTYPE\n",
      "OPTERR\n",
      "OPTIND\n",
      "OSTYPE\n",
      "PPID\n",
      "PS4\n",
      "UID\n"
     ]
    }
   ],
   "source": [
    "! (set | cut -d= -f1) | grep -v -E \"'$(env | cut -d= -f1 | tr '\\n' '|')'\""
   ]
  },
  {
   "cell_type": "code",
   "execution_count": null,
   "metadata": {
    "colab": {
     "base_uri": "https://localhost:8080/",
     "height": 34
    },
    "colab_type": "code",
    "id": "34hup8eWCmAZ",
    "outputId": "8d825963-bc09-4e51-a2d4-bb3e3205eba9"
   },
   "outputs": [
    {
     "name": "stdout",
     "output_type": "stream",
     "text": [
      "/root\n"
     ]
    }
   ],
   "source": [
    "!printenv HOME"
   ]
  },
  {
   "cell_type": "code",
   "execution_count": null,
   "metadata": {
    "colab": {},
    "colab_type": "code",
    "id": "lVJIqYkFEnD_"
   },
   "outputs": [],
   "source": [
    "!set"
   ]
  },
  {
   "cell_type": "code",
   "execution_count": null,
   "metadata": {
    "colab": {
     "base_uri": "https://localhost:8080/",
     "height": 85
    },
    "colab_type": "code",
    "id": "kPSzdU7sA-a4",
    "outputId": "b1c6a470-ecce-4b36-9ddd-6a26fe059a02"
   },
   "outputs": [
    {
     "name": "stdout",
     "output_type": "stream",
     "text": [
      "2494-4094 ex 4095 4094 1\n",
      "2494-4094 ex\n",
      "2494-4094 ex\n",
      "2494-4097\n"
     ]
    }
   ],
   "source": [
    "!v=ex; echo $PPID-$$ $v $(pidof bash); echo $PPID-$$ $v; \\\n",
    "echo $PPID-$$ $v\n",
    "!echo $PPID-$$ $v"
   ]
  },
  {
   "cell_type": "code",
   "execution_count": null,
   "metadata": {
    "colab": {
     "base_uri": "https://localhost:8080/",
     "height": 136
    },
    "colab_type": "code",
    "id": "jr4-57w3Js0e",
    "outputId": "87ac6dae-808d-4270-bd27-c1c888117a3b"
   },
   "outputs": [
    {
     "name": "stdout",
     "output_type": "stream",
     "text": [
      "USER         PID %CPU %MEM    VSZ   RSS TTY      STAT START   TIME COMMAND\n",
      "root          93  0.0  0.0  35888  4932 ?        Ss   07:42   0:01 tail -n +0 -F\n",
      "root           1  0.0  0.0  39196  6416 ?        Ss   07:41   0:00 /bin/bash -e \n",
      "root           8  0.0  0.4 690832 61928 ?        Sl   07:41   0:11 /tools/node/b\n",
      "root          23  0.1  0.4 195468 61852 ?        Rl   07:41   0:20  \\_ /usr/bin/\n",
      "root        2494  0.0  0.8 515648 109160 ?       Ssl  10:05   0:03      \\_ /usr/\n",
      "root        4125  0.0  0.0  59032  6452 ?        R    13:27   0:00          \\_ p\n"
     ]
    }
   ],
   "source": [
    "!ps auxf -p $$"
   ]
  },
  {
   "cell_type": "code",
   "execution_count": 143,
   "metadata": {
    "colab": {
     "base_uri": "https://localhost:8080/",
     "height": 136
    },
    "colab_type": "code",
    "id": "QqZVLVWPJ8sr",
    "outputId": "0ab4187d-37f7-45c8-c05d-87e6272c11eb"
   },
   "outputs": [
    {
     "name": "stdout",
     "output_type": "stream",
     "text": [
      "   PPID     PID CMD\n",
      "      0      93 tail -n +0 -F /root/.config/Google/DriveFS/Logs/drive_fs.txt\n",
      "      0       1 /bin/bash -e /datalab/run.sh\n",
      "      1       8 /tools/node/bin/node /datalab/web/app.js\n",
      "      8      24  \\_ /usr/bin/python2 /usr/local/bin/jupyter-notebook --ip=\"172.28.0.2\" --port=9000 --FileContentsManager.root_dir=\"/\n",
      "     24     101      \\_ /usr/bin/python3 -m ipykernel_launcher -f /root/.local/share/jupyter/runtime/kernel-172b9ae8-6a21-4442-a8c4-\n",
      "    101    4210          \\_ ps axwf -o ppid,pid,cmd -p 4210\n"
     ]
    }
   ],
   "source": [
    "!ps axwf -o ppid,pid,cmd -p $$"
   ]
  },
  {
   "cell_type": "code",
   "execution_count": null,
   "metadata": {
    "colab": {
     "base_uri": "https://localhost:8080/",
     "height": 34
    },
    "colab_type": "code",
    "id": "g94eBIa6m0OE",
    "outputId": "d054c575-dc3f-45a3-c92c-8aae14742119"
   },
   "outputs": [
    {
     "name": "stdout",
     "output_type": "stream",
     "text": [
      "run.sh───node───jupyter-noteboo───python3───pstree\n"
     ]
    }
   ],
   "source": [
    "! pstree -s $$"
   ]
  },
  {
   "cell_type": "code",
   "execution_count": null,
   "metadata": {
    "colab": {
     "base_uri": "https://localhost:8080/",
     "height": 34
    },
    "colab_type": "code",
    "id": "N2VmLtpfoCix",
    "outputId": "23a2b700-cde9-4e2b-d495-b900dc61167a"
   },
   "outputs": [
    {
     "name": "stdout",
     "output_type": "stream",
     "text": [
      "run.sh───node───jupyter-noteboo───python3───pstree\n"
     ]
    }
   ],
   "source": [
    "! pstree -sT"
   ]
  },
  {
   "cell_type": "code",
   "execution_count": null,
   "metadata": {
    "colab": {
     "base_uri": "https://localhost:8080/",
     "height": 255
    },
    "colab_type": "code",
    "id": "QxcstuqTp8y6",
    "outputId": "3709f10e-63f0-42fa-de45-d471fb467853"
   },
   "outputs": [
    {
     "name": "stdout",
     "output_type": "stream",
     "text": [
      "\u001b[?1h\u001b=\u001b[H\u001b[2J\u001b[mtop - 20:30:54 up 40 min,  0 users,  load average: 0.04, 0.03, 0.00\u001b[m\u001b[m\u001b[m\u001b[m\u001b[K\n",
      "Tasks:\u001b[m\u001b[m\u001b[1m   6 \u001b[m\u001b[mtotal,\u001b[m\u001b[m\u001b[1m   1 \u001b[m\u001b[mrunning,\u001b[m\u001b[m\u001b[1m   5 \u001b[m\u001b[msleeping,\u001b[m\u001b[m\u001b[1m   0 \u001b[m\u001b[mstopped,\u001b[m\u001b[m\u001b[1m   0 \u001b[m\u001b[mzombie\u001b[m\u001b[m\u001b[m\u001b[m\u001b[K\n",
      "%Cpu(s):\u001b[m\u001b[m\u001b[1m  1.3 \u001b[m\u001b[mus,\u001b[m\u001b[m\u001b[1m  1.0 \u001b[m\u001b[msy,\u001b[m\u001b[m\u001b[1m  0.0 \u001b[m\u001b[mni,\u001b[m\u001b[m\u001b[1m 97.1 \u001b[m\u001b[mid,\u001b[m\u001b[m\u001b[1m  0.6 \u001b[m\u001b[mwa,\u001b[m\u001b[m\u001b[1m  0.0 \u001b[m\u001b[mhi,\u001b[m\u001b[m\u001b[1m  0.0 \u001b[m\u001b[msi,\u001b[m\u001b[m\u001b[1m  0.0 \u001b[m\u001b[mst\u001b[m\u001b[m\u001b[m\u001b[m\u001b[K\n",
      "KiB Mem :\u001b[m\u001b[m\u001b[1m 13333552 \u001b[m\u001b[mtotal,\u001b[m\u001b[m\u001b[1m 10673344 \u001b[m\u001b[mfree,\u001b[m\u001b[m\u001b[1m   523048 \u001b[m\u001b[mused,\u001b[m\u001b[m\u001b[1m  2137160 \u001b[m\u001b[mbuff/cache\u001b[m\u001b[m\u001b[m\u001b[m\u001b[K\n",
      "KiB Swap:\u001b[m\u001b[m\u001b[1m        0 \u001b[m\u001b[mtotal,\u001b[m\u001b[m\u001b[1m        0 \u001b[m\u001b[mfree,\u001b[m\u001b[m\u001b[1m        0 \u001b[m\u001b[mused.\u001b[m\u001b[m\u001b[1m 12540420 \u001b[m\u001b[mavail Mem \u001b[m\u001b[m\u001b[m\u001b[m\u001b[K\n",
      "\u001b[K\n",
      "\u001b[7m    PID USER      PR  NI    VIRT    RES    SHR S  %CPU %MEM     TIME+ COMMAND   \u001b[m\u001b[m\u001b[K\n",
      "\u001b[m      8 root      20   0  682644  55108  24960 S   6.7  0.4   0:03.20 node      \u001b[m\u001b[m\u001b[K\n",
      "\u001b[m    100 root      20   0  513852 108364  31676 S   6.7  0.8   0:03.50 python3   \u001b[m\u001b[m\u001b[K\n",
      "\u001b[m      1 root      20   0   39196   6368   4860 S   0.0  0.0   0:00.31 run.sh    \u001b[m\u001b[m\u001b[K\n",
      "\u001b[m     23 root      20   0  194184  60700  13772 S   0.0  0.5   0:05.29 jupyter-+ \u001b[m\u001b[m\u001b[K\n",
      "\u001b[m     92 root      20   0   35888   4852   3748 S   0.0  0.0   0:00.59 tail      \u001b[m\u001b[m\u001b[K\n",
      "\u001b[m\u001b[1m   1008 root      20   0   63176   6812   5088 R   0.0  0.1   0:00.00 top       \u001b[m\u001b[m\u001b[K\n",
      "\u001b[J\u001b[?1l\u001b>\u001b[25;1H\n",
      "\u001b[K"
     ]
    }
   ],
   "source": [
    "! top"
   ]
  },
  {
   "cell_type": "code",
   "execution_count": null,
   "metadata": {
    "colab": {
     "base_uri": "https://localhost:8080/",
     "height": 136
    },
    "colab_type": "code",
    "id": "R2G6sf8ak5zn",
    "outputId": "604676e5-47af-4e06-c9ab-9b2312ca1c7a"
   },
   "outputs": [
    {
     "name": "stdout",
     "output_type": "stream",
     "text": [
      "   PPID     PID CMD\n",
      "      0      92 tail -n +0 -F /root/.config/Google/DriveFS/Logs/drive_fs.txt\n",
      "      0       1 /bin/bash -e /datalab/run.sh\n",
      "      1       8 /tools/node/bin/node /datalab/web/app.js\n",
      "      8      23  \\_ /usr/bin/python2 /usr/local/bin/jupyter-notebook --ip=\"172.28.0.2\" --port=9000 --FileContentsManager.root_dir=\"/\n",
      "     23     100      \\_ /usr/bin/python3 -m ipykernel_launcher -f /root/.local/share/jupyter/runtime/kernel-a83b579f-638d-42de-ac81-\n",
      "    100    1476          \\_ ps xfw -o ppid,pid,cmd\n"
     ]
    }
   ],
   "source": [
    "! ps xfw -o ppid,pid,cmd"
   ]
  },
  {
   "cell_type": "markdown",
   "metadata": {
    "colab_type": "text",
    "id": "54P4Lcpi1vfk"
   },
   "source": [
    "## Change Filesystem"
   ]
  },
  {
   "cell_type": "code",
   "execution_count": null,
   "metadata": {
    "colab": {},
    "colab_type": "code",
    "id": "u4jpVoTcQVLY"
   },
   "outputs": [],
   "source": [
    "!date > date.txt"
   ]
  },
  {
   "cell_type": "code",
   "execution_count": null,
   "metadata": {
    "colab": {
     "base_uri": "https://localhost:8080/",
     "height": 34
    },
    "colab_type": "code",
    "id": "5MeSS87rxoPr",
    "outputId": "bbbb902c-9425-4f03-958f-38cd7a436419"
   },
   "outputs": [
    {
     "name": "stdout",
     "output_type": "stream",
     "text": [
      " 1  6 29 date.txt\n"
     ]
    }
   ],
   "source": [
    "!wc date.txt"
   ]
  },
  {
   "cell_type": "code",
   "execution_count": null,
   "metadata": {
    "colab": {
     "base_uri": "https://localhost:8080/",
     "height": 34
    },
    "colab_type": "code",
    "id": "Hqyp1h6tx79t",
    "outputId": "c16ea33e-f2e5-4787-8bed-3b90cbb2b8b6"
   },
   "outputs": [
    {
     "name": "stdout",
     "output_type": "stream",
     "text": [
      "Mon Aug 17 23:39:37 UTC 2020\n"
     ]
    }
   ],
   "source": [
    "!cat date.txt"
   ]
  },
  {
   "cell_type": "code",
   "execution_count": null,
   "metadata": {
    "colab": {},
    "colab_type": "code",
    "id": "ci0LeZhw48Nq"
   },
   "outputs": [],
   "source": [
    "!ls sample_data/"
   ]
  },
  {
   "cell_type": "code",
   "execution_count": null,
   "metadata": {
    "colab": {},
    "colab_type": "code",
    "id": "QqhxmcYj5Hmm"
   },
   "outputs": [],
   "source": [
    "!head sample_data/README.md"
   ]
  },
  {
   "cell_type": "code",
   "execution_count": null,
   "metadata": {
    "colab": {},
    "colab_type": "code",
    "id": "3JZpEBQ85M1-"
   },
   "outputs": [],
   "source": [
    "!mkdir -p dir/sub/subdir"
   ]
  },
  {
   "cell_type": "code",
   "execution_count": null,
   "metadata": {
    "colab": {},
    "colab_type": "code",
    "id": "7EzTIZal5oC3"
   },
   "outputs": [],
   "source": [
    "!tree dir"
   ]
  },
  {
   "cell_type": "code",
   "execution_count": null,
   "metadata": {
    "colab": {},
    "colab_type": "code",
    "id": "hY4EdKSx5xUg"
   },
   "outputs": [],
   "source": [
    "!touch dir/empty.txt"
   ]
  },
  {
   "cell_type": "code",
   "execution_count": null,
   "metadata": {
    "colab": {},
    "colab_type": "code",
    "id": "FlB21WxB56md"
   },
   "outputs": [],
   "source": [
    "!echo content > dir/full.txt"
   ]
  },
  {
   "cell_type": "code",
   "execution_count": null,
   "metadata": {
    "colab": {},
    "colab_type": "code",
    "id": "8nbZXpxr6HWT"
   },
   "outputs": [],
   "source": [
    "!tree dir"
   ]
  },
  {
   "cell_type": "code",
   "execution_count": null,
   "metadata": {
    "colab": {},
    "colab_type": "code",
    "id": "xJNP4xia6Kei"
   },
   "outputs": [],
   "source": [
    "!cat dir/*.txt"
   ]
  },
  {
   "cell_type": "code",
   "execution_count": null,
   "metadata": {
    "colab": {},
    "colab_type": "code",
    "id": "sMmCcYtI6P8v"
   },
   "outputs": [],
   "source": [
    "!date > dir/date.txt"
   ]
  },
  {
   "cell_type": "code",
   "execution_count": null,
   "metadata": {
    "colab": {},
    "colab_type": "code",
    "id": "fPVF6JA9BdtX"
   },
   "outputs": [],
   "source": [
    "!tree"
   ]
  },
  {
   "cell_type": "code",
   "execution_count": null,
   "metadata": {
    "colab": {},
    "colab_type": "code",
    "id": "odLX2vv16nl3"
   },
   "outputs": [],
   "source": [
    "!cat dir/*.txt"
   ]
  },
  {
   "cell_type": "code",
   "execution_count": null,
   "metadata": {
    "colab": {},
    "colab_type": "code",
    "id": "ld2-XrJM6syq"
   },
   "outputs": [],
   "source": [
    "cd dir"
   ]
  },
  {
   "cell_type": "code",
   "execution_count": null,
   "metadata": {
    "colab": {},
    "colab_type": "code",
    "id": "bqWxXMTI7FkM"
   },
   "outputs": [],
   "source": [
    "!cp date.txt sub/; tree"
   ]
  },
  {
   "cell_type": "code",
   "execution_count": null,
   "metadata": {
    "colab": {},
    "colab_type": "code",
    "id": "ktyTxCtP7gaK"
   },
   "outputs": [],
   "source": [
    "!cat *.txt"
   ]
  },
  {
   "cell_type": "code",
   "execution_count": null,
   "metadata": {
    "colab": {},
    "colab_type": "code",
    "id": "9iV_Uvhl7zGt"
   },
   "outputs": [],
   "source": [
    "!cat */*.txt"
   ]
  },
  {
   "cell_type": "code",
   "execution_count": null,
   "metadata": {
    "colab": {},
    "colab_type": "code",
    "id": "RbEa1jaK8Cz5"
   },
   "outputs": [],
   "source": [
    "!date >> sub/date.txt"
   ]
  },
  {
   "cell_type": "code",
   "execution_count": null,
   "metadata": {
    "colab": {},
    "colab_type": "code",
    "id": "SuSgxaxx8Iv1"
   },
   "outputs": [],
   "source": [
    "!cat */*.txt"
   ]
  },
  {
   "cell_type": "code",
   "execution_count": null,
   "metadata": {
    "colab": {},
    "colab_type": "code",
    "id": "xakZ0Iss8Rg_"
   },
   "outputs": [],
   "source": [
    "!cp -a sub/date.txt sub/subdir/date_dual.txt; tree"
   ]
  },
  {
   "cell_type": "code",
   "execution_count": null,
   "metadata": {
    "colab": {},
    "colab_type": "code",
    "id": "OTJ_l7V48v67"
   },
   "outputs": [],
   "source": [
    "!cp sub/subdir sub/subdir_copy && tree"
   ]
  },
  {
   "cell_type": "code",
   "execution_count": null,
   "metadata": {
    "colab": {},
    "colab_type": "code",
    "id": "Csy_xs6e83PP"
   },
   "outputs": [],
   "source": [
    "!cp -r sub/subdir sub/subdir_copy && tree"
   ]
  },
  {
   "cell_type": "code",
   "execution_count": null,
   "metadata": {
    "colab": {},
    "colab_type": "code",
    "id": "GbuXOQ_H9pTW"
   },
   "outputs": [],
   "source": [
    "ls -l */*"
   ]
  },
  {
   "cell_type": "code",
   "execution_count": null,
   "metadata": {
    "colab": {},
    "colab_type": "code",
    "id": "ywQAUJDe9tz2"
   },
   "outputs": [],
   "source": [
    "!cat date.txt; echo ----; cat sub/date.txt"
   ]
  },
  {
   "cell_type": "markdown",
   "metadata": {
    "colab_type": "text",
    "id": "ivfcWZfbAffL"
   },
   "source": [
    "So, `sub/date.txt` consists of two dates. Let's make consistent names. Rename with `mv`"
   ]
  },
  {
   "cell_type": "code",
   "execution_count": null,
   "metadata": {
    "colab": {},
    "colab_type": "code",
    "id": "aqjo_cQ--ftg"
   },
   "outputs": [],
   "source": [
    "!mv sub/date.txt sub/date_dual.txt; tree sub; ls -l */*"
   ]
  },
  {
   "cell_type": "markdown",
   "metadata": {
    "colab_type": "text",
    "id": "_gGHtZ9-TukN"
   },
   "source": [
    "## Content Filters"
   ]
  },
  {
   "cell_type": "code",
   "execution_count": 153,
   "metadata": {
    "colab": {
     "base_uri": "https://localhost:8080/",
     "height": 51
    },
    "colab_type": "code",
    "id": "GSBIwBiS4ZEh",
    "outputId": "e15c9daa-58b2-41ac-dbf0-a23dab36b165"
   },
   "outputs": [
    {
     "name": "stdout",
     "output_type": "stream",
     "text": [
      "california_housing_test.csv   mnist_test.csv\t     anscombe.json\n",
      "california_housing_train.csv  mnist_train_small.csv  README.md\n"
     ]
    }
   ],
   "source": [
    "! ls -X sample_data"
   ]
  },
  {
   "cell_type": "code",
   "execution_count": null,
   "metadata": {
    "colab": {},
    "colab_type": "code",
    "id": "p5dl2fgBoY12"
   },
   "outputs": [],
   "source": [
    "!ls"
   ]
  },
  {
   "cell_type": "code",
   "execution_count": null,
   "metadata": {
    "colab": {},
    "colab_type": "code",
    "id": "PvMfIAMb3P22"
   },
   "outputs": [],
   "source": [
    "!pwd"
   ]
  },
  {
   "cell_type": "code",
   "execution_count": null,
   "metadata": {
    "colab": {},
    "colab_type": "code",
    "id": "yqG5fYrH3TuY"
   },
   "outputs": [],
   "source": [
    "!date > date.txt"
   ]
  },
  {
   "cell_type": "code",
   "execution_count": null,
   "metadata": {
    "colab": {},
    "colab_type": "code",
    "id": "06SBGAmj3edD"
   },
   "outputs": [],
   "source": [
    "!date > date2.txt; date >> date2.txt"
   ]
  },
  {
   "cell_type": "code",
   "execution_count": null,
   "metadata": {
    "colab": {},
    "colab_type": "code",
    "id": "SsmXboYY3lbM"
   },
   "outputs": [],
   "source": [
    "!find /content/*.txt"
   ]
  },
  {
   "cell_type": "code",
   "execution_count": null,
   "metadata": {
    "colab": {},
    "colab_type": "code",
    "id": "BQbaIIwt3vkw"
   },
   "outputs": [],
   "source": [
    "!cat *.txt"
   ]
  },
  {
   "cell_type": "code",
   "execution_count": null,
   "metadata": {
    "colab": {},
    "colab_type": "code",
    "id": "SUZ2zcOb5f5L"
   },
   "outputs": [],
   "source": [
    "!awk '{if ($4 == \"21:55:10\") {print}}' *.txt"
   ]
  },
  {
   "cell_type": "code",
   "execution_count": null,
   "metadata": {
    "colab": {},
    "colab_type": "code",
    "id": "EpxEoAtJ51Op"
   },
   "outputs": [],
   "source": [
    "!awk '{if ($4 == \"21:55:10\") {print}}' *.txt | sed -e 's/^/[$(date)] /'"
   ]
  },
  {
   "cell_type": "code",
   "execution_count": null,
   "metadata": {
    "colab": {},
    "colab_type": "code",
    "id": "jXkwESC-6md9"
   },
   "outputs": [],
   "source": [
    "!awk '{if ($4 == \"21:55:10\") {print}}' *.txt | sed -e \"s/^/[$(date)] /\""
   ]
  },
  {
   "cell_type": "code",
   "execution_count": null,
   "metadata": {
    "colab": {},
    "colab_type": "code",
    "id": "I4MYdHQw7VOh"
   },
   "outputs": [],
   "source": [
    "!awk \"{print $4}\" *.txt"
   ]
  },
  {
   "cell_type": "code",
   "execution_count": null,
   "metadata": {
    "colab": {},
    "colab_type": "code",
    "id": "j9G8Tp3c8iW9"
   },
   "outputs": [],
   "source": [
    "!ls -X sample_data | cut -f2 -d. | uniq -c"
   ]
  },
  {
   "cell_type": "code",
   "execution_count": null,
   "metadata": {
    "colab": {
     "base_uri": "https://localhost:8080/",
     "height": 1000
    },
    "colab_type": "code",
    "id": "siAPkUhU9pg7",
    "outputId": "5fb86ced-d906-4ef5-e823-1a9f221cea80"
   },
   "outputs": [
    {
     "name": "stdout",
     "output_type": "stream",
     "text": [
      "Usage: sort [OPTION]... [FILE]...\n",
      "  or:  sort [OPTION]... --files0-from=F\n",
      "Write sorted concatenation of all FILE(s) to standard output.\n",
      "\n",
      "With no FILE, or when FILE is -, read standard input.\n",
      "\n",
      "Mandatory arguments to long options are mandatory for short options too.\n",
      "Ordering options:\n",
      "\n",
      "  -b, --ignore-leading-blanks  ignore leading blanks\n",
      "  -d, --dictionary-order      consider only blanks and alphanumeric characters\n",
      "  -f, --ignore-case           fold lower case to upper case characters\n",
      "  -g, --general-numeric-sort  compare according to general numerical value\n",
      "  -i, --ignore-nonprinting    consider only printable characters\n",
      "  -M, --month-sort            compare (unknown) < 'JAN' < ... < 'DEC'\n",
      "  -h, --human-numeric-sort    compare human readable numbers (e.g., 2K 1G)\n",
      "  -n, --numeric-sort          compare according to string numerical value\n",
      "  -R, --random-sort           shuffle, but group identical keys.  See shuf(1)\n",
      "      --random-source=FILE    get random bytes from FILE\n",
      "  -r, --reverse               reverse the result of comparisons\n",
      "      --sort=WORD             sort according to WORD:\n",
      "                                general-numeric -g, human-numeric -h, month -M,\n",
      "                                numeric -n, random -R, version -V\n",
      "  -V, --version-sort          natural sort of (version) numbers within text\n",
      "\n",
      "Other options:\n",
      "\n",
      "      --batch-size=NMERGE   merge at most NMERGE inputs at once;\n",
      "                            for more use temp files\n",
      "  -c, --check, --check=diagnose-first  check for sorted input; do not sort\n",
      "  -C, --check=quiet, --check=silent  like -c, but do not report first bad line\n",
      "      --compress-program=PROG  compress temporaries with PROG;\n",
      "                              decompress them with PROG -d\n",
      "      --debug               annotate the part of the line used to sort,\n",
      "                              and warn about questionable usage to stderr\n",
      "      --files0-from=F       read input from the files specified by\n",
      "                            NUL-terminated names in file F;\n",
      "                            If F is - then read names from standard input\n",
      "  -k, --key=KEYDEF          sort via a key; KEYDEF gives location and type\n",
      "  -m, --merge               merge already sorted files; do not sort\n",
      "  -o, --output=FILE         write result to FILE instead of standard output\n",
      "  -s, --stable              stabilize sort by disabling last-resort comparison\n",
      "  -S, --buffer-size=SIZE    use SIZE for main memory buffer\n",
      "  -t, --field-separator=SEP  use SEP instead of non-blank to blank transition\n",
      "  -T, --temporary-directory=DIR  use DIR for temporaries, not $TMPDIR or /tmp;\n",
      "                              multiple options specify multiple directories\n",
      "      --parallel=N          change the number of sorts run concurrently to N\n",
      "  -u, --unique              with -c, check for strict ordering;\n",
      "                              without -c, output only the first of an equal run\n",
      "  -z, --zero-terminated     line delimiter is NUL, not newline\n",
      "      --help     display this help and exit\n",
      "      --version  output version information and exit\n",
      "\n",
      "KEYDEF is F[.C][OPTS][,F[.C][OPTS]] for start and stop position, where F is a\n",
      "field number and C a character position in the field; both are origin 1, and\n",
      "the stop position defaults to the line's end.  If neither -t nor -b is in\n",
      "effect, characters in a field are counted from the beginning of the preceding\n",
      "whitespace.  OPTS is one or more single-letter ordering options [bdfgiMhnRrV],\n",
      "which override global ordering options for that key.  If no key is given, use\n",
      "the entire line as the key.  Use --debug to diagnose incorrect key usage.\n",
      "\n",
      "SIZE may be followed by the following multiplicative suffixes:\n",
      "% 1% of memory, b 1, K 1024 (default), and so on for M, G, T, P, E, Z, Y.\n",
      "\n",
      "*** WARNING ***\n",
      "The locale specified by the environment affects sort order.\n",
      "Set LC_ALL=C to get the traditional sort order that uses\n",
      "native byte values.\n",
      "\n",
      "GNU coreutils online help: <http://www.gnu.org/software/coreutils/>\n",
      "Full documentation at: <http://www.gnu.org/software/coreutils/sort>\n",
      "or available locally via: info '(coreutils) sort invocation'\n"
     ]
    }
   ],
   "source": [
    "!sort --help"
   ]
  },
  {
   "cell_type": "code",
   "execution_count": null,
   "metadata": {
    "colab": {},
    "colab_type": "code",
    "id": "Ua0CNG8SFjZ_"
   },
   "outputs": [],
   "source": [
    "!ls sample_data; echo ---; ls sample_data | sort -u -t. -k2"
   ]
  },
  {
   "cell_type": "code",
   "execution_count": 160,
   "metadata": {
    "colab": {
     "base_uri": "https://localhost:8080/",
     "height": 34
    },
    "colab_type": "code",
    "id": "ffdJpH_K7qSi",
    "outputId": "21d1b21f-9923-43f6-9add-6603f9a9546f"
   },
   "outputs": [
    {
     "name": "stdout",
     "output_type": "stream",
     "text": [
      "3001 sample_data/california_housing_test.csv\n"
     ]
    }
   ],
   "source": [
    "! wc -l sample_data/california_housing_test.csv"
   ]
  },
  {
   "cell_type": "code",
   "execution_count": 161,
   "metadata": {
    "colab": {
     "base_uri": "https://localhost:8080/",
     "height": 187
    },
    "colab_type": "code",
    "id": "wZvlw6y6M5Xz",
    "outputId": "94a6f0c7-79b1-4440-d62d-404bd973a444"
   },
   "outputs": [
    {
     "name": "stdout",
     "output_type": "stream",
     "text": [
      "\"longitude\",\"latitude\",\"housing_median_age\",\"total_rooms\",\"total_bedrooms\",\"population\",\"households\",\"median_income\",\"median_house_value\"\n",
      "-122.050000,37.370000,27.000000,3885.000000,661.000000,1537.000000,606.000000,6.608500,344700.000000\n",
      "-118.300000,34.260000,43.000000,1510.000000,310.000000,809.000000,277.000000,3.599000,176500.000000\n",
      "-117.810000,33.780000,27.000000,3589.000000,507.000000,1484.000000,495.000000,5.793400,270500.000000\n",
      "-118.360000,33.820000,28.000000,67.000000,15.000000,49.000000,11.000000,6.135900,330000.000000\n",
      "-119.670000,36.330000,19.000000,1241.000000,244.000000,850.000000,237.000000,2.937500,81700.000000\n",
      "-119.560000,36.510000,37.000000,1018.000000,213.000000,663.000000,204.000000,1.663500,67000.000000\n",
      "-121.430000,38.630000,43.000000,1009.000000,225.000000,604.000000,218.000000,1.664100,67000.000000\n",
      "-120.650000,35.480000,19.000000,2310.000000,471.000000,1341.000000,441.000000,3.225000,166900.000000\n",
      "-122.840000,38.400000,15.000000,3080.000000,617.000000,1446.000000,599.000000,3.669600,194400.000000\n"
     ]
    }
   ],
   "source": [
    "! head sample_data/california_housing_test.csv"
   ]
  },
  {
   "cell_type": "code",
   "execution_count": 167,
   "metadata": {
    "colab": {
     "base_uri": "https://localhost:8080/",
     "height": 187
    },
    "colab_type": "code",
    "id": "SqYYeAuqOBMo",
    "outputId": "a6546662-3304-4e0a-f547-037ac77e580d"
   },
   "outputs": [
    {
     "name": "stdout",
     "output_type": "stream",
     "text": [
      "-118.230000,34.090000,49.000000,1638.000000,456.000000,1500.000000,430.000000,2.692300,150000.000000\n",
      "-117.170000,34.280000,13.000000,4867.000000,718.000000,780.000000,250.000000,7.199700,253800.000000\n",
      "-122.330000,37.390000,52.000000,573.000000,102.000000,232.000000,92.000000,6.226300,500001.000000\n",
      "-117.910000,33.600000,37.000000,2088.000000,510.000000,673.000000,390.000000,5.104800,500001.000000\n",
      "-117.930000,33.860000,35.000000,931.000000,181.000000,516.000000,174.000000,5.586700,182500.000000\n",
      "-119.860000,34.420000,23.000000,1450.000000,642.000000,1258.000000,607.000000,1.179000,225000.000000\n",
      "-118.140000,34.060000,27.000000,5257.000000,1082.000000,3496.000000,1036.000000,3.390600,237200.000000\n",
      "-119.700000,36.300000,10.000000,956.000000,201.000000,693.000000,220.000000,2.289500,62000.000000\n",
      "-117.120000,34.100000,40.000000,96.000000,14.000000,46.000000,14.000000,3.270800,162500.000000\n",
      "-119.630000,34.420000,42.000000,1765.000000,263.000000,753.000000,260.000000,8.560800,500001.000000\n"
     ]
    }
   ],
   "source": [
    "! tail sample_data/california_housing_test.csv"
   ]
  },
  {
   "cell_type": "code",
   "execution_count": 171,
   "metadata": {
    "colab": {
     "base_uri": "https://localhost:8080/",
     "height": 187
    },
    "colab_type": "code",
    "id": "WUm2U6J79SyD",
    "outputId": "b5fb788e-8a4b-4560-fd0f-d1004450c198"
   },
   "outputs": [
    {
     "name": "stdout",
     "output_type": "stream",
     "text": [
      "-122.050000,37.370000,27.000000,3885.000000,661.000000,1537.000000,606.000000,6.608500,344700.000000\n",
      "-118.300000,34.260000,43.000000,1510.000000,310.000000,809.000000,277.000000,3.599000,176500.000000\n",
      "-117.810000,33.780000,27.000000,3589.000000,507.000000,1484.000000,495.000000,5.793400,270500.000000\n",
      "-118.360000,33.820000,28.000000,67.000000,15.000000,49.000000,11.000000,6.135900,330000.000000\n",
      "-119.670000,36.330000,19.000000,1241.000000,244.000000,850.000000,237.000000,2.937500,81700.000000\n",
      "-119.560000,36.510000,37.000000,1018.000000,213.000000,663.000000,204.000000,1.663500,67000.000000\n",
      "-121.430000,38.630000,43.000000,1009.000000,225.000000,604.000000,218.000000,1.664100,67000.000000\n",
      "-120.650000,35.480000,19.000000,2310.000000,471.000000,1341.000000,441.000000,3.225000,166900.000000\n",
      "-122.840000,38.400000,15.000000,3080.000000,617.000000,1446.000000,599.000000,3.669600,194400.000000\n",
      "-118.020000,34.080000,31.000000,2402.000000,632.000000,2830.000000,603.000000,2.333300,164200.000000\n"
     ]
    }
   ],
   "source": [
    "! tail +2 sample_data/california_housing_test.csv | head"
   ]
  },
  {
   "cell_type": "code",
   "execution_count": 169,
   "metadata": {
    "colab": {
     "base_uri": "https://localhost:8080/",
     "height": 187
    },
    "colab_type": "code",
    "id": "p5VP1JqSNl2j",
    "outputId": "13cb5047-1395-4ae3-b0cd-17f9c8738082"
   },
   "outputs": [
    {
     "name": "stdout",
     "output_type": "stream",
     "text": [
      "-122.840000,38.400000,15.000000,3080.000000,617.000000,1446.000000,599.000000,3.669600,194400.000000\n",
      "-119.670000,36.330000,19.000000,1241.000000,244.000000,850.000000,237.000000,2.937500,81700.000000\n",
      "-120.650000,35.480000,19.000000,2310.000000,471.000000,1341.000000,441.000000,3.225000,166900.000000\n",
      "-117.810000,33.780000,27.000000,3589.000000,507.000000,1484.000000,495.000000,5.793400,270500.000000\n",
      "-122.050000,37.370000,27.000000,3885.000000,661.000000,1537.000000,606.000000,6.608500,344700.000000\n",
      "-118.360000,33.820000,28.000000,67.000000,15.000000,49.000000,11.000000,6.135900,330000.000000\n",
      "-118.020000,34.080000,31.000000,2402.000000,632.000000,2830.000000,603.000000,2.333300,164200.000000\n",
      "-119.560000,36.510000,37.000000,1018.000000,213.000000,663.000000,204.000000,1.663500,67000.000000\n",
      "-121.430000,38.630000,43.000000,1009.000000,225.000000,604.000000,218.000000,1.664100,67000.000000\n",
      "-118.300000,34.260000,43.000000,1510.000000,310.000000,809.000000,277.000000,3.599000,176500.000000\n"
     ]
    }
   ],
   "source": [
    "!tail +2 sample_data/california_housing_test.csv | head | sort -t, -k3"
   ]
  },
  {
   "cell_type": "code",
   "execution_count": 170,
   "metadata": {
    "colab": {
     "base_uri": "https://localhost:8080/",
     "height": 748
    },
    "colab_type": "code",
    "id": "rfJ5S3VxNxSP",
    "outputId": "187a52ac-b6b8-4210-fd62-1505cfdf77b0"
   },
   "outputs": [
    {
     "name": "stdout",
     "output_type": "stream",
     "text": [
      "sort: using ‘en_US.UTF-8’ sorting rules\n",
      "sort: key 1 is numeric and spans multiple fields\n",
      "sort: key 2 is numeric and spans multiple fields\n",
      "-122.840000,38.400000,15.000000,3080.000000,617.000000,1446.000000,599.000000,3.669600,194400.000000\n",
      "                      _________\n",
      "            _________\n",
      "____________________________________________________________________________________________________\n",
      "-120.650000,35.480000,19.000000,2310.000000,471.000000,1341.000000,441.000000,3.225000,166900.000000\n",
      "                      _________\n",
      "            _________\n",
      "____________________________________________________________________________________________________\n",
      "-119.670000,36.330000,19.000000,1241.000000,244.000000,850.000000,237.000000,2.937500,81700.000000\n",
      "                      _________\n",
      "            _________\n",
      "__________________________________________________________________________________________________\n",
      "-117.810000,33.780000,27.000000,3589.000000,507.000000,1484.000000,495.000000,5.793400,270500.000000\n",
      "                      _________\n",
      "            _________\n",
      "____________________________________________________________________________________________________\n",
      "-122.050000,37.370000,27.000000,3885.000000,661.000000,1537.000000,606.000000,6.608500,344700.000000\n",
      "                      _________\n",
      "            _________\n",
      "____________________________________________________________________________________________________\n",
      "-118.360000,33.820000,28.000000,67.000000,15.000000,49.000000,11.000000,6.135900,330000.000000\n",
      "                      _________\n",
      "            _________\n",
      "______________________________________________________________________________________________\n",
      "-118.020000,34.080000,31.000000,2402.000000,632.000000,2830.000000,603.000000,2.333300,164200.000000\n",
      "                      _________\n",
      "            _________\n",
      "____________________________________________________________________________________________________\n",
      "-119.560000,36.510000,37.000000,1018.000000,213.000000,663.000000,204.000000,1.663500,67000.000000\n",
      "                      _________\n",
      "            _________\n",
      "__________________________________________________________________________________________________\n",
      "-118.300000,34.260000,43.000000,1510.000000,310.000000,809.000000,277.000000,3.599000,176500.000000\n",
      "                      _________\n",
      "            _________\n",
      "___________________________________________________________________________________________________\n",
      "-121.430000,38.630000,43.000000,1009.000000,225.000000,604.000000,218.000000,1.664100,67000.000000\n",
      "                      _________\n",
      "            _________\n",
      "__________________________________________________________________________________________________\n"
     ]
    }
   ],
   "source": [
    "! tail +2 sample_data/california_housing_test.csv | head | sort -t, -k3 -k2 -n --debug"
   ]
  },
  {
   "cell_type": "code",
   "execution_count": 174,
   "metadata": {
    "colab": {
     "base_uri": "https://localhost:8080/",
     "height": 187
    },
    "colab_type": "code",
    "id": "s-RLIb0QYrpd",
    "outputId": "2ac92df9-02eb-4376-f277-90b6c42edcc1"
   },
   "outputs": [
    {
     "name": "stdout",
     "output_type": "stream",
     "text": [
      "yes 27\n",
      "yes 43\n",
      "yes 27\n",
      "yes 28\n",
      "no  19\n",
      "yes 37\n",
      "yes 43\n",
      "no  19\n",
      "no  15\n",
      "yes 31\n"
     ]
    }
   ],
   "source": [
    "! tail +2 sample_data/california_housing_test.csv | head | cut -d, -f3 | cut -d. -f1 | xargs -I% sh -c 'test % -gt 19 && echo yes % || echo \"no  %\"'"
   ]
  },
  {
   "cell_type": "code",
   "execution_count": 175,
   "metadata": {
    "colab": {
     "base_uri": "https://localhost:8080/",
     "height": 34
    },
    "colab_type": "code",
    "id": "WnHN9K8gaBS_",
    "outputId": "94916ce7-cf56-445e-9df4-c6db88f1d9ca"
   },
   "outputs": [
    {
     "name": "stdout",
     "output_type": "stream",
     "text": [
      "yes\n"
     ]
    }
   ],
   "source": [
    "! test 11 -gt 10 && echo yes || echo no"
   ]
  },
  {
   "cell_type": "code",
   "execution_count": 178,
   "metadata": {
    "colab": {
     "base_uri": "https://localhost:8080/",
     "height": 34
    },
    "colab_type": "code",
    "id": "iF7gXZRN9wPA",
    "outputId": "6203c8f7-1ec8-4df3-b30f-04d5e832f36b"
   },
   "outputs": [
    {
     "name": "stdout",
     "output_type": "stream",
     "text": [
      "yes\n"
     ]
    }
   ],
   "source": [
    "! ((11 > 10)) && echo yes || echo no"
   ]
  },
  {
   "cell_type": "code",
   "execution_count": null,
   "metadata": {
    "colab": {},
    "colab_type": "code",
    "id": "2V0Iw21zJm5G"
   },
   "outputs": [],
   "source": [
    "!ls sample_data; echo ---; ls sample_data | sort -u -t. -k2"
   ]
  },
  {
   "cell_type": "code",
   "execution_count": null,
   "metadata": {
    "colab": {},
    "colab_type": "code",
    "id": "7Ft9wI6TYFCg"
   },
   "outputs": [],
   "source": [
    "!whereis head"
   ]
  },
  {
   "cell_type": "code",
   "execution_count": null,
   "metadata": {
    "colab": {},
    "colab_type": "code",
    "id": "sCLjk6OpYGZ8"
   },
   "outputs": [],
   "source": [
    "!whereis time"
   ]
  },
  {
   "cell_type": "code",
   "execution_count": null,
   "metadata": {
    "colab": {},
    "colab_type": "code",
    "id": "Q3cnlqycYSnb"
   },
   "outputs": [],
   "source": [
    "!which head"
   ]
  },
  {
   "cell_type": "code",
   "execution_count": null,
   "metadata": {
    "colab": {},
    "colab_type": "code",
    "id": "HMlc2jxhYXJC"
   },
   "outputs": [],
   "source": [
    "!apt install bc"
   ]
  },
  {
   "cell_type": "code",
   "execution_count": null,
   "metadata": {
    "colab": {},
    "colab_type": "code",
    "id": "mmVElXpTciMz"
   },
   "outputs": [],
   "source": [
    "!bc --help"
   ]
  },
  {
   "cell_type": "code",
   "execution_count": null,
   "metadata": {
    "colab": {},
    "colab_type": "code",
    "id": "5LpkUD4Wi9M4"
   },
   "outputs": [],
   "source": [
    "!if false; then echo yes; else echo no; fi"
   ]
  },
  {
   "cell_type": "code",
   "execution_count": null,
   "metadata": {
    "colab": {},
    "colab_type": "code",
    "id": "kdcvarpVcoKd"
   },
   "outputs": [],
   "source": [
    "!cm='if false; \\\n",
    "then echo yes; \\\n",
    "else echo no; \\\n",
    "fi'; $cm"
   ]
  },
  {
   "cell_type": "code",
   "execution_count": null,
   "metadata": {
    "colab": {},
    "colab_type": "code",
    "id": "yYpBQEAMjpJM"
   },
   "outputs": [],
   "source": [
    "!true && \\\n",
    "(echo ok; false; true) || \\\n",
    "echo no"
   ]
  },
  {
   "cell_type": "code",
   "execution_count": null,
   "metadata": {
    "colab": {},
    "colab_type": "code",
    "id": "0cOTXWNilKsb"
   },
   "outputs": [],
   "source": []
  },
  {
   "cell_type": "code",
   "execution_count": null,
   "metadata": {
    "colab": {
     "base_uri": "https://localhost:8080/",
     "height": 34
    },
    "colab_type": "code",
    "id": "QjJs0XyV-zJa",
    "outputId": "9bb7fdf0-24f9-48be-d5ed-8a19035afa7f"
   },
   "outputs": [
    {
     "name": "stdout",
     "output_type": "stream",
     "text": [
      "[Fri Sep  4 08:41:10 UTC 2020] @root \u001b[1;32mok\u001b[0m\n"
     ]
    }
   ],
   "source": [
    "!echo -e \"[$(date)] @$(whoami) $(true 2>/dev/null && echo '\\033[1;32mok\\033[0m' || echo '\\033[1;31merror\\033[0m')\""
   ]
  },
  {
   "cell_type": "code",
   "execution_count": null,
   "metadata": {
    "colab": {
     "base_uri": "https://localhost:8080/",
     "height": 34
    },
    "colab_type": "code",
    "id": "P_zt8uRnRyoh",
    "outputId": "321ee672-337a-4e5a-dab9-b4979f805468"
   },
   "outputs": [
    {
     "name": "stdout",
     "output_type": "stream",
     "text": [
      "[Fri Sep  4 08:42:27 UTC 2020] @root \u001b[1;31merror\u001b[0m\n"
     ]
    }
   ],
   "source": [
    "!echo -e \"[$(date)] @$(whoami) $(false 2>/dev/null && echo '\\033[1;32mok\\033[0m' || echo c)\""
   ]
  },
  {
   "cell_type": "code",
   "execution_count": null,
   "metadata": {
    "colab": {
     "base_uri": "https://localhost:8080/",
     "height": 34
    },
    "colab_type": "code",
    "id": "0eSKJweqQZqo",
    "outputId": "ad79586c-30ac-4219-a51b-1c1b2e782c23"
   },
   "outputs": [
    {
     "name": "stdout",
     "output_type": "stream",
     "text": [
      "2\n"
     ]
    }
   ],
   "source": [
    "!let c=0; echo $((c+2))"
   ]
  },
  {
   "cell_type": "code",
   "execution_count": null,
   "metadata": {
    "colab": {
     "base_uri": "https://localhost:8080/",
     "height": 51
    },
    "colab_type": "code",
    "id": "ecNovoVFTE6v",
    "outputId": "103fb9f4-c155-4692-faa8-e6b0f03c2ab4"
   },
   "outputs": [
    {
     "name": "stdout",
     "output_type": "stream",
     "text": [
      "0\n",
      "1\n"
     ]
    }
   ],
   "source": [
    "!let c=0; echo $((c++)); echo $c"
   ]
  },
  {
   "cell_type": "code",
   "execution_count": null,
   "metadata": {
    "colab": {
     "base_uri": "https://localhost:8080/",
     "height": 68
    },
    "colab_type": "code",
    "id": "vMWSrLwNTmQ1",
    "outputId": "f8f0031a-7643-4ede-d990-122400b747bb"
   },
   "outputs": [
    {
     "name": "stdout",
     "output_type": "stream",
     "text": [
      "1\n",
      "2\n",
      "3\n"
     ]
    }
   ],
   "source": [
    "!for i in 1 2 3; do echo $i; done"
   ]
  },
  {
   "cell_type": "code",
   "execution_count": null,
   "metadata": {
    "colab": {
     "base_uri": "https://localhost:8080/",
     "height": 119
    },
    "colab_type": "code",
    "id": "NlpkLEgm7NQr",
    "outputId": "fc469876-a092-4799-e38d-dc6c901871bb"
   },
   "outputs": [
    {
     "name": "stdout",
     "output_type": "stream",
     "text": [
      "0: anscombe.json\n",
      "1: california_housing_test.csv\n",
      "2: california_housing_train.csv\n",
      "3: mnist_test.csv\n",
      "4: mnist_train_small.csv\n",
      "5: README.md\n"
     ]
    }
   ],
   "source": [
    "!c=0; for i in $(ls sample_data); do echo $((c++)): $i; done"
   ]
  },
  {
   "cell_type": "code",
   "execution_count": null,
   "metadata": {
    "colab": {
     "base_uri": "https://localhost:8080/",
     "height": 153
    },
    "colab_type": "code",
    "id": "ZMrg3jCBTKU-",
    "outputId": "fd0a7435-3eb8-48ab-bfd8-847cb09a2be6"
   },
   "outputs": [
    {
     "name": "stdout",
     "output_type": "stream",
     "text": [
      "Fri Sep  4 11:36:26 UTC 2020 2\n",
      "Fri Sep  4 11:36:27 UTC 2020 3\n",
      "Fri Sep  4 11:36:28 UTC 2020 4\n",
      "Fri Sep  4 11:36:29 UTC 2020 5\n",
      "Fri Sep  4 11:36:30 UTC 2020 6\n",
      "Fri Sep  4 11:36:31 UTC 2020 7\n",
      "Fri Sep  4 11:36:32 UTC 2020 8\n",
      "^C\n"
     ]
    }
   ],
   "source": [
    "!c=1; while true; do ((c++)); echo \"$(date) $c\"; sleep 1; done"
   ]
  },
  {
   "cell_type": "code",
   "execution_count": null,
   "metadata": {
    "colab": {
     "base_uri": "https://localhost:8080/",
     "height": 68
    },
    "colab_type": "code",
    "id": "ERTDkJQ4zL0A",
    "outputId": "30d7eb7d-9184-4d1d-ee92-cf8bcfcde54b"
   },
   "outputs": [
    {
     "name": "stdout",
     "output_type": "stream",
     "text": [
      "set: BASH_EXECUTION_STRING=' env | grep test; test=tt; env | grep test; echo \"set: $(set | grep test) << set\"; export test; env | grep test; export -n test; env | grep test'\n",
      "test=tt << set\n",
      "test=tt\n"
     ]
    }
   ],
   "source": [
    "! env | grep test; test=tt; env | grep test; echo \"set: $(set | grep test) << set\"; export test; env | grep test; export -n test; env | grep test"
   ]
  },
  {
   "cell_type": "markdown",
   "metadata": {
    "colab_type": "text",
    "id": "Oi2RLPIatqkG"
   },
   "source": [
    "# Docker"
   ]
  },
  {
   "cell_type": "code",
   "execution_count": 1,
   "metadata": {
    "colab": {
     "base_uri": "https://localhost:8080/",
     "height": 68
    },
    "colab_type": "code",
    "id": "eS4aYhuqtpj7",
    "outputId": "6e3d908a-964b-465d-c38c-ddb374885023"
   },
   "outputs": [
    {
     "name": "stdout",
     "output_type": "stream",
     "text": [
      "CONTAINER ID        IMAGE               COMMAND             CREATED             STATUS              PORTS               NAMES\r\n",
      "d50ad43b43a1        ubuntu:20.04        \"/bin/bash\"         3 days ago          Up 3 days                               diff\r\n",
      "fec0cdfaa39c        ubuntu:20.04        \"/bin/bash\"         3 days ago          Up 3 days                               fifo\r\n"
     ]
    }
   ],
   "source": [
    "! docker ps"
   ]
  },
  {
   "cell_type": "code",
   "execution_count": 5,
   "metadata": {
    "colab": {
     "base_uri": "https://localhost:8080/",
     "height": 51
    },
    "colab_type": "code",
    "id": "cWtGkFZztuC_",
    "outputId": "eb7345a5-0e02-4db9-f114-da317fa98183"
   },
   "outputs": [
    {
     "name": "stdout",
     "output_type": "stream",
     "text": [
      "39623-39779\n",
      "39623-39780\n"
     ]
    }
   ],
   "source": [
    "! echo $PPID-$$\n",
    "! echo $$PPID-$$"
   ]
  },
  {
   "cell_type": "code",
   "execution_count": 8,
   "metadata": {
    "colab": {
     "base_uri": "https://localhost:8080/",
     "height": 51
    },
    "colab_type": "code",
    "id": "jdIBuyjruV_H",
    "outputId": "b726e14f-f7ee-45fc-b88b-94e9a3a5ac44"
   },
   "outputs": [
    {
     "name": "stdout",
     "output_type": "stream",
     "text": [
      "  PID TTY           TIME CMD\n",
      "39623 ??         0:01.23 /Users/arseniyb/anaconda3/bin/python -m ipykernel_laun\n"
     ]
    }
   ],
   "source": [
    "! ps -p 39623"
   ]
  },
  {
   "cell_type": "code",
   "execution_count": 11,
   "metadata": {
    "colab": {
     "base_uri": "https://localhost:8080/",
     "height": 34
    },
    "colab_type": "code",
    "id": "jRPO0BguwrUd",
    "outputId": "dc4abc52-1ad1-49ba-f24a-eb2ccc911381"
   },
   "outputs": [
    {
     "name": "stdout",
     "output_type": "stream",
     "text": [
      "39623\r\n"
     ]
    }
   ],
   "source": [
    "! sh -c 'echo $PPID'"
   ]
  },
  {
   "cell_type": "code",
   "execution_count": 26,
   "metadata": {
    "colab": {
     "base_uri": "https://localhost:8080/",
     "height": 51
    },
    "colab_type": "code",
    "id": "d4y0hvtgxB2-",
    "outputId": "b42c9383-7a69-4ced-e429-2ca92b3da9f4"
   },
   "outputs": [
    {
     "name": "stdout",
     "output_type": "stream",
     "text": [
      "alias ppid='echo 39623'\r\n",
      "bash: ppid: command not found\r\n"
     ]
    }
   ],
   "source": [
    "! bash -c \"alias ppid='echo $PPID' && alias && ppid\""
   ]
  },
  {
   "cell_type": "code",
   "execution_count": 20,
   "metadata": {
    "colab": {
     "base_uri": "https://localhost:8080/",
     "height": 34
    },
    "colab_type": "code",
    "id": "UbTncRUeys4N",
    "outputId": "aa012d8e-8dbb-4412-9150-300f2c8efd9b"
   },
   "outputs": [
    {
     "name": "stdout",
     "output_type": "stream",
     "text": [
      "/bin/zsh\r\n"
     ]
    }
   ],
   "source": [
    "! echo $SHELL"
   ]
  },
  {
   "cell_type": "code",
   "execution_count": 17,
   "metadata": {
    "colab": {
     "base_uri": "https://localhost:8080/",
     "height": 34
    },
    "colab_type": "code",
    "id": "_DPzRwgzx_UH",
    "outputId": "35b8536f-f3ec-453f-cf8c-2ede161c8483"
   },
   "outputs": [
    {
     "name": "stdout",
     "output_type": "stream",
     "text": [
      "39623\r\n"
     ]
    }
   ],
   "source": [
    "! ps -o ppid= $$"
   ]
  },
  {
   "cell_type": "code",
   "execution_count": null,
   "metadata": {
    "colab": {},
    "colab_type": "code",
    "id": "lGPpdL9Ku5ti"
   },
   "outputs": [],
   "source": [
    "! env"
   ]
  },
  {
   "cell_type": "code",
   "execution_count": null,
   "metadata": {
    "colab": {},
    "colab_type": "code",
    "id": "PVP7KT7ZwTXd"
   },
   "outputs": [],
   "source": []
  }
 ],
 "metadata": {
  "colab": {
   "collapsed_sections": [],
   "name": "shell_intro.ipynb",
   "provenance": []
  },
  "kernelspec": {
   "display_name": "Python 3",
   "language": "python",
   "name": "python3"
  },
  "language_info": {
   "codemirror_mode": {
    "name": "ipython",
    "version": 3
   },
   "file_extension": ".py",
   "mimetype": "text/x-python",
   "name": "python",
   "nbconvert_exporter": "python",
   "pygments_lexer": "ipython3",
   "version": "3.7.4"
  }
 },
 "nbformat": 4,
 "nbformat_minor": 1
}
